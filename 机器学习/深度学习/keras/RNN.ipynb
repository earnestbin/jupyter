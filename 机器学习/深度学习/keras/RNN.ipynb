{
 "cells": [
  {
   "cell_type": "markdown",
   "metadata": {},
   "source": [
    "## 简单RNN的numpy实现"
   ]
  },
  {
   "cell_type": "code",
   "execution_count": 9,
   "metadata": {},
   "outputs": [],
   "source": [
    "import numpy as np\n",
    "timesteps= 100 #输入序列的时间步\n",
    "input_features= 32 #输入空间的维度\n",
    "output_features= 64 #输出空间的维度\n",
    "inputs= np.random.random([timesteps, input_features])#用随机数模拟一个样本\n",
    "state_t= np.zeros([output_features,])#产生一个初始的全零向量\n",
    "W= np.random.random([output_features, input_features])\n",
    "U= np.random.random([output_features, output_features])\n",
    "b= np.random.random([output_features,])\n",
    "successive_outputs= []\n",
    "for input_t in inputs:\n",
    "    output_t= np.tanh(np.dot(W,input_t)+np.dot(U,state_t)+b)\n",
    "    successive_outputs.append(output_t)#保存每个隐藏层状态\n",
    "    state_t= output_t #更新隐藏状态\n",
    "final_output_sequence= np.stack(successive_outputs, axis=0)#最终输出为[timesteps, output_features]的二维张量"
   ]
  },
  {
   "cell_type": "code",
   "execution_count": 10,
   "metadata": {},
   "outputs": [
    {
     "data": {
      "text/plain": [
       "(100, 64)"
      ]
     },
     "execution_count": 10,
     "metadata": {},
     "output_type": "execute_result"
    }
   ],
   "source": [
    "final_output_sequence.shape"
   ]
  },
  {
   "cell_type": "code",
   "execution_count": null,
   "metadata": {},
   "outputs": [],
   "source": []
  }
 ],
 "metadata": {
  "kernelspec": {
   "display_name": "Python 3",
   "language": "python",
   "name": "python3"
  },
  "language_info": {
   "codemirror_mode": {
    "name": "ipython",
    "version": 3
   },
   "file_extension": ".py",
   "mimetype": "text/x-python",
   "name": "python",
   "nbconvert_exporter": "python",
   "pygments_lexer": "ipython3",
   "version": "3.5.6"
  },
  "toc": {
   "base_numbering": 1,
   "nav_menu": {},
   "number_sections": true,
   "sideBar": true,
   "skip_h1_title": false,
   "title_cell": "Table of Contents",
   "title_sidebar": "Contents",
   "toc_cell": false,
   "toc_position": {},
   "toc_section_display": true,
   "toc_window_display": false
  }
 },
 "nbformat": 4,
 "nbformat_minor": 2
}
