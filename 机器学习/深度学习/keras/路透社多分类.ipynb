{
 "cells": [
  {
   "cell_type": "markdown",
   "metadata": {},
   "source": [
    "## 数据导入"
   ]
  },
  {
   "cell_type": "code",
   "execution_count": 1,
   "metadata": {},
   "outputs": [
    {
     "name": "stderr",
     "output_type": "stream",
     "text": [
      "Using TensorFlow backend.\n"
     ]
    }
   ],
   "source": [
    "import keras\n",
    "import numpy as np\n",
    "from keras.datasets import reuters\n",
    "import matplotlib.pyplot as plt\n",
    "%matplotlib inline\n",
    "(train_data,train_labels),(test_data,test_labels)=reuters.load_data(num_words=10000)"
   ]
  },
  {
   "cell_type": "code",
   "execution_count": 2,
   "metadata": {},
   "outputs": [
    {
     "name": "stdout",
     "output_type": "stream",
     "text": [
      "训练集大小： (8982,)\n",
      "测试集大小： (2246,)\n"
     ]
    }
   ],
   "source": [
    "#查看数据集大小\n",
    "print(\"训练集大小：\",train_data.shape)\n",
    "print(\"测试集大小：\",test_data.shape)"
   ]
  },
  {
   "cell_type": "code",
   "execution_count": 3,
   "metadata": {},
   "outputs": [
    {
     "name": "stdout",
     "output_type": "stream",
     "text": [
      "[1, 2, 2, 8, 43, 10, 447, 5, 25, 207, 270, 5, 3095, 111, 16, 369, 186, 90, 67, 7, 89, 5, 19, 102, 6, 19, 124, 15, 90, 67, 84, 22, 482, 26, 7, 48, 4, 49, 8, 864, 39, 209, 154, 6, 151, 6, 83, 11, 15, 22, 155, 11, 15, 7, 48, 9, 4579, 1005, 504, 6, 258, 6, 272, 11, 15, 22, 134, 44, 11, 15, 16, 8, 197, 1245, 90, 67, 52, 29, 209, 30, 32, 132, 6, 109, 15, 17, 12]\n"
     ]
    }
   ],
   "source": [
    "print(train_data[0])"
   ]
  },
  {
   "cell_type": "markdown",
   "metadata": {},
   "source": [
    "看来reuters和imdb一样，每条样本长度不一致，只是代表了索引"
   ]
  },
  {
   "cell_type": "code",
   "execution_count": 4,
   "metadata": {},
   "outputs": [
    {
     "data": {
      "text/plain": [
       "Counter({0: 55,\n",
       "         1: 432,\n",
       "         2: 74,\n",
       "         3: 3159,\n",
       "         4: 1949,\n",
       "         5: 17,\n",
       "         6: 48,\n",
       "         7: 16,\n",
       "         8: 139,\n",
       "         9: 101,\n",
       "         10: 124,\n",
       "         11: 390,\n",
       "         12: 49,\n",
       "         13: 172,\n",
       "         14: 26,\n",
       "         15: 20,\n",
       "         16: 444,\n",
       "         17: 39,\n",
       "         18: 66,\n",
       "         19: 549,\n",
       "         20: 269,\n",
       "         21: 100,\n",
       "         22: 15,\n",
       "         23: 41,\n",
       "         24: 62,\n",
       "         25: 92,\n",
       "         26: 24,\n",
       "         27: 15,\n",
       "         28: 48,\n",
       "         29: 19,\n",
       "         30: 45,\n",
       "         31: 39,\n",
       "         32: 32,\n",
       "         33: 11,\n",
       "         34: 50,\n",
       "         35: 10,\n",
       "         36: 49,\n",
       "         37: 19,\n",
       "         38: 19,\n",
       "         39: 24,\n",
       "         40: 36,\n",
       "         41: 30,\n",
       "         42: 13,\n",
       "         43: 21,\n",
       "         44: 12,\n",
       "         45: 18})"
      ]
     },
     "execution_count": 4,
     "metadata": {},
     "output_type": "execute_result"
    }
   ],
   "source": [
    "from collections import Counter\n",
    "Counter(train_labels)"
   ]
  },
  {
   "cell_type": "markdown",
   "metadata": {},
   "source": [
    "居然有46个类别，我的天啊"
   ]
  },
  {
   "cell_type": "code",
   "execution_count": 5,
   "metadata": {
    "collapsed": true
   },
   "outputs": [],
   "source": [
    "# 老规矩one-hot\n",
    "def one_hot(data,dimension=10000):\n",
    "    res= np.zeros([len(data),dimension])\n",
    "    for i,item in enumerate(data):\n",
    "        res[i,item]=1\n",
    "    return res"
   ]
  },
  {
   "cell_type": "code",
   "execution_count": 6,
   "metadata": {
    "collapsed": true
   },
   "outputs": [],
   "source": [
    "x_train= one_hot(train_data)\n",
    "x_test= one_hot(test_data)"
   ]
  },
  {
   "cell_type": "code",
   "execution_count": 7,
   "metadata": {},
   "outputs": [
    {
     "name": "stdout",
     "output_type": "stream",
     "text": [
      "训练集形状： (8982, 10000)\n",
      "测试集形状： (2246, 10000)\n"
     ]
    }
   ],
   "source": [
    "print(\"训练集形状：\",x_train.shape)\n",
    "print(\"测试集形状：\",x_test.shape)"
   ]
  },
  {
   "cell_type": "markdown",
   "metadata": {},
   "source": [
    "## 搭建模型"
   ]
  },
  {
   "cell_type": "code",
   "execution_count": 8,
   "metadata": {
    "collapsed": true
   },
   "outputs": [],
   "source": [
    "from keras.layers import Dense\n",
    "from keras import models\n",
    "def model():\n",
    "    model= models.Sequential()\n",
    "    model.add(Dense(128,input_dim=10000,activation=\"relu\"))\n",
    "    model.add(Dense(64,activation=\"relu\"))\n",
    "    model.add(Dense(46,activation=\"softmax\"))\n",
    "    model.compile(optimizer=\"rmsprop\",loss='sparse_categorical_crossentropy',metrics=['acc'])\n",
    "    return model"
   ]
  },
  {
   "cell_type": "code",
   "execution_count": 9,
   "metadata": {
    "collapsed": true
   },
   "outputs": [],
   "source": [
    "model= model()"
   ]
  },
  {
   "cell_type": "code",
   "execution_count": 10,
   "metadata": {},
   "outputs": [
    {
     "name": "stdout",
     "output_type": "stream",
     "text": [
      "_________________________________________________________________\n",
      "Layer (type)                 Output Shape              Param #   \n",
      "=================================================================\n",
      "dense_1 (Dense)              (None, 128)               1280128   \n",
      "_________________________________________________________________\n",
      "dense_2 (Dense)              (None, 64)                8256      \n",
      "_________________________________________________________________\n",
      "dense_3 (Dense)              (None, 46)                2990      \n",
      "=================================================================\n",
      "Total params: 1,291,374\n",
      "Trainable params: 1,291,374\n",
      "Non-trainable params: 0\n",
      "_________________________________________________________________\n"
     ]
    }
   ],
   "source": [
    "model.summary()"
   ]
  },
  {
   "cell_type": "code",
   "execution_count": 11,
   "metadata": {},
   "outputs": [
    {
     "name": "stdout",
     "output_type": "stream",
     "text": [
      "Train on 6287 samples, validate on 2695 samples\n",
      "Epoch 1/20\n",
      "6287/6287 [==============================] - 5s 789us/step - loss: 2.0297 - acc: 0.5588 - val_loss: 1.3296 - val_acc: 0.7202\n",
      "Epoch 2/20\n",
      "6287/6287 [==============================] - 2s 240us/step - loss: 1.0584 - acc: 0.7765 - val_loss: 1.0921 - val_acc: 0.7737\n",
      "Epoch 3/20\n",
      "6287/6287 [==============================] - 1s 227us/step - loss: 0.7004 - acc: 0.8545 - val_loss: 1.0326 - val_acc: 0.7711\n",
      "Epoch 4/20\n",
      "6287/6287 [==============================] - 1s 227us/step - loss: 0.4762 - acc: 0.9027 - val_loss: 0.9302 - val_acc: 0.8074\n",
      "Epoch 5/20\n",
      "6287/6287 [==============================] - 1s 224us/step - loss: 0.3284 - acc: 0.9322 - val_loss: 0.9144 - val_acc: 0.8045\n",
      "Epoch 6/20\n",
      "6287/6287 [==============================] - 1s 230us/step - loss: 0.2383 - acc: 0.9496 - val_loss: 0.9512 - val_acc: 0.8019\n",
      "Epoch 7/20\n",
      "6287/6287 [==============================] - 1s 228us/step - loss: 0.1888 - acc: 0.9561 - val_loss: 0.9528 - val_acc: 0.8026\n",
      "Epoch 8/20\n",
      "6287/6287 [==============================] - 2s 245us/step - loss: 0.1536 - acc: 0.9626 - val_loss: 0.9745 - val_acc: 0.8015\n",
      "Epoch 9/20\n",
      "6287/6287 [==============================] - 1s 235us/step - loss: 0.1384 - acc: 0.9628 - val_loss: 1.0486 - val_acc: 0.7948\n",
      "Epoch 10/20\n",
      "6287/6287 [==============================] - 2s 261us/step - loss: 0.1225 - acc: 0.9666 - val_loss: 1.0545 - val_acc: 0.7933\n",
      "Epoch 11/20\n",
      "6287/6287 [==============================] - 1s 225us/step - loss: 0.1123 - acc: 0.9655 - val_loss: 1.1376 - val_acc: 0.7863\n",
      "Epoch 12/20\n",
      "6287/6287 [==============================] - 2s 241us/step - loss: 0.1077 - acc: 0.9682 - val_loss: 1.1966 - val_acc: 0.7840\n",
      "Epoch 13/20\n",
      "6287/6287 [==============================] - 1s 223us/step - loss: 0.1001 - acc: 0.9671 - val_loss: 1.3072 - val_acc: 0.7714\n",
      "Epoch 14/20\n",
      "6287/6287 [==============================] - 1s 223us/step - loss: 0.0950 - acc: 0.9682 - val_loss: 1.1699 - val_acc: 0.7922\n",
      "Epoch 15/20\n",
      "6287/6287 [==============================] - 1s 225us/step - loss: 0.0939 - acc: 0.9669 - val_loss: 1.1911 - val_acc: 0.7963\n",
      "Epoch 16/20\n",
      "6287/6287 [==============================] - 1s 224us/step - loss: 0.0914 - acc: 0.9680 - val_loss: 1.3354 - val_acc: 0.7814\n",
      "Epoch 17/20\n",
      "6287/6287 [==============================] - 1s 226us/step - loss: 0.0914 - acc: 0.9661 - val_loss: 1.2433 - val_acc: 0.7918\n",
      "Epoch 18/20\n",
      "6287/6287 [==============================] - 1s 231us/step - loss: 0.0871 - acc: 0.9677 - val_loss: 1.3976 - val_acc: 0.7800\n",
      "Epoch 19/20\n",
      "6287/6287 [==============================] - 1s 225us/step - loss: 0.0846 - acc: 0.9679 - val_loss: 1.3677 - val_acc: 0.7711\n",
      "Epoch 20/20\n",
      "6287/6287 [==============================] - 1s 229us/step - loss: 0.0856 - acc: 0.9660 - val_loss: 1.3290 - val_acc: 0.7848\n"
     ]
    }
   ],
   "source": [
    "history= model.fit(x_train,train_labels,epochs=20,batch_size=256,validation_split=0.3)"
   ]
  },
  {
   "cell_type": "code",
   "execution_count": 28,
   "metadata": {
    "collapsed": true
   },
   "outputs": [],
   "source": [
    "model.save(\"reuters.h5\")"
   ]
  },
  {
   "cell_type": "code",
   "execution_count": 12,
   "metadata": {},
   "outputs": [
    {
     "name": "stdout",
     "output_type": "stream",
     "text": [
      "2246/2246 [==============================] - 1s 550us/step\n"
     ]
    }
   ],
   "source": [
    "loss,acc= model.evaluate(x_test,test_labels)"
   ]
  },
  {
   "cell_type": "code",
   "execution_count": 13,
   "metadata": {},
   "outputs": [
    {
     "name": "stdout",
     "output_type": "stream",
     "text": [
      "测试损失： 1.4059196648\n",
      "测试精度： 0.777827248495\n"
     ]
    }
   ],
   "source": [
    "print(\"测试损失：\",loss)\n",
    "print(\"测试精度：\",acc)"
   ]
  },
  {
   "cell_type": "markdown",
   "metadata": {},
   "source": [
    "## 绘制验证精度和损失变化曲线"
   ]
  },
  {
   "cell_type": "code",
   "execution_count": 14,
   "metadata": {
    "collapsed": true
   },
   "outputs": [],
   "source": [
    "#绘制损失变化曲线\n",
    "acc= history.history['acc']\n",
    "val_acc= history.history[\"val_acc\"]\n",
    "loss= history.history['loss']\n",
    "val_loss= history.history[\"val_loss\"]"
   ]
  },
  {
   "cell_type": "code",
   "execution_count": 17,
   "metadata": {
    "collapsed": true
   },
   "outputs": [],
   "source": [
    "plt.rcParams['font.sans-serif']=['SimHei'] \n",
    "plt.rcParams['axes.unicode_minus']=False"
   ]
  },
  {
   "cell_type": "code",
   "execution_count": 18,
   "metadata": {},
   "outputs": [
    {
     "data": {
      "text/plain": [
       "<matplotlib.legend.Legend at 0x295a4ebfd30>"
      ]
     },
     "execution_count": 18,
     "metadata": {},
     "output_type": "execute_result"
    },
    {
     "data": {
      "image/png": "[encoded data removed]",
      "text/plain": [
       "<matplotlib.figure.Figure at 0x295a3bfc780>"
      ]
     },
     "metadata": {},
     "output_type": "display_data"
    }
   ],
   "source": [
    "plt.plot(range(1,len(acc)+1),acc,label=\"Train accuracy\")\n",
    "plt.plot(range(1,len(val_acc)+1),val_acc,label=\"Val accuracy\")\n",
    "plt.xlabel(\"迭代轮次\",fontsize=20)\n",
    "plt.ylabel(\"准确率\",fontsize=20)\n",
    "plt.title(\"训练准确率变化过程\",fontsize=20)\n",
    "plt.legend()"
   ]
  },
  {
   "cell_type": "code",
   "execution_count": 16,
   "metadata": {},
   "outputs": [
    {
     "data": {
      "text/plain": [
       "<matplotlib.legend.Legend at 0x295a4b1fc50>"
      ]
     },
     "execution_count": 16,
     "metadata": {},
     "output_type": "execute_result"
    },
    {
     "data": {
      "image/png": "[encoded data removed]",
      "text/plain": [
       "<matplotlib.figure.Figure at 0x295a4175eb8>"
      ]
     },
     "metadata": {},
     "output_type": "display_data"
    }
   ],
   "source": [
    "plt.plot(range(1,len(loss)+1),loss,label=\"Train loss\")\n",
    "plt.plot(range(1,len(val_loss)+1),val_loss,label=\"Val loss\")\n",
    "plt.xlabel(\"迭代轮次\",fontsize=20)\n",
    "plt.ylabel(\"损失\",fontsize=20)\n",
    "plt.title(\"训练损失变化过程\",fontsize=20)\n",
    "plt.legend()"
   ]
  },
  {
   "cell_type": "code",
   "execution_count": null,
   "metadata": {
    "collapsed": true
   },
   "outputs": [],
   "source": []
  }
 ],
 "metadata": {
  "kernelspec": {
   "display_name": "Python 3",
   "language": "python",
   "name": "python3"
  },
  "language_info": {
   "codemirror_mode": {
    "name": "ipython",
    "version": 3
   },
   "file_extension": ".py",
   "mimetype": "text/x-python",
   "name": "python",
   "nbconvert_exporter": "python",
   "pygments_lexer": "ipython3",
   "version": "3.6.1"
  },
  "toc": {
   "base_numbering": 1,
   "nav_menu": {},
   "number_sections": true,
   "sideBar": true,
   "skip_h1_title": false,
   "title_cell": "Table of Contents",
   "title_sidebar": "Contents",
   "toc_cell": false,
   "toc_position": {},
   "toc_section_display": true,
   "toc_window_display": false
  }
 },
 "nbformat": 4,
 "nbformat_minor": 2
}
