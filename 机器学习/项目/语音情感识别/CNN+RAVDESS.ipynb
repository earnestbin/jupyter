{
 "cells": [
  {
   "cell_type": "markdown",
   "metadata": {},
   "source": [
    "## RAVDESS数据库的读取"
   ]
  },
  {
   "cell_type": "code",
   "execution_count": 36,
   "metadata": {},
   "outputs": [],
   "source": [
    "#导入响应的包和文件路径\n",
    "import os\n",
    "import pandas as pd\n",
    "import numpy as np\n",
    "import librosa\n",
    "from scipy import signal\n",
    "file= r'C:\\Users\\Administrator\\Desktop\\RAVDESS'"
   ]
  },
  {
   "cell_type": "code",
   "execution_count": 4,
   "metadata": {},
   "outputs": [
    {
     "name": "stdout",
     "output_type": "stream",
     "text": [
      "['Actor_01', 'Actor_02', 'Actor_03', 'Actor_04', 'Actor_05', 'Actor_06', 'Actor_07', 'Actor_08', 'Actor_09', 'Actor_10', 'Actor_11', 'Actor_12', 'Actor_13', 'Actor_14', 'Actor_15', 'Actor_16', 'Actor_17', 'Actor_18', 'Actor_19', 'Actor_20', 'Actor_21', 'Actor_22', 'Actor_23', 'Actor_24']\n"
     ]
    }
   ],
   "source": [
    "#查看路径下所有的文件夹\n",
    "actor_folder=os.listdir(file)\n",
    "print(actor_folder)"
   ]
  },
  {
   "cell_type": "code",
   "execution_count": 9,
   "metadata": {},
   "outputs": [],
   "source": [
    "#用pandas来包括数据\n",
    "columns=[\"path\",\"source\",\"actor\",\"gender\",\"intensity\",\"statement\",\"repetition\",\"emotion\"]\n",
    "data_df= pd.DataFrame(columns=columns)\n",
    "count=0\n",
    "for i in actor_folder:\n",
    "    wav_list= os.listdir(os.path.join(file,i))\n",
    "    for f in wav_list:\n",
    "        wav_name= f.split(\".\")[0].split(\"-\")\n",
    "        wav_path= os.path.join(os.path.join(file,i),f)\n",
    "        src= int(wav_name[1])\n",
    "        actor= int(wav_name[-1])\n",
    "        emotion= int(wav_name[2])\n",
    "        if int(actor)%2==0:\n",
    "            gender= \"female\"\n",
    "        else:\n",
    "            gender= \"male\"\n",
    "        if wav_name[3]==\"01\":\n",
    "            intensity= 0\n",
    "        else:\n",
    "            intensity=1\n",
    "        if wav_name[4]==\"01\":\n",
    "            statement=\"kids are talking by the door\"\n",
    "        else:\n",
    "            statement=\"Dogs are sitting by the door\"\n",
    "        if wav_name[5]==\"01\":\n",
    "            repeat=0\n",
    "        else:\n",
    "            repeat=1\n",
    "        data_df.loc[count]=[wav_path,src,actor,gender,intensity,statement,repeat,emotion]\n",
    "        count+=1"
   ]
  },
  {
   "cell_type": "code",
   "execution_count": 16,
   "metadata": {},
   "outputs": [
    {
     "name": "stdout",
     "output_type": "stream",
     "text": [
      "一共有1440条语音\n"
     ]
    },
    {
     "data": {
      "text/html": [
       "<div>\n",
       "<table border=\"1\" class=\"dataframe\">\n",
       "  <thead>\n",
       "    <tr style=\"text-align: right;\">\n",
       "      <th></th>\n",
       "      <th>path</th>\n",
       "      <th>source</th>\n",
       "      <th>actor</th>\n",
       "      <th>gender</th>\n",
       "      <th>intensity</th>\n",
       "      <th>statement</th>\n",
       "      <th>repetition</th>\n",
       "      <th>emotion</th>\n",
       "    </tr>\n",
       "  </thead>\n",
       "  <tbody>\n",
       "    <tr>\n",
       "      <th>0</th>\n",
       "      <td>C:\\Users\\Administrator\\Desktop\\RAVDESS\\Actor_0...</td>\n",
       "      <td>1.0</td>\n",
       "      <td>1.0</td>\n",
       "      <td>male</td>\n",
       "      <td>0.0</td>\n",
       "      <td>kids are talking by the door</td>\n",
       "      <td>0.0</td>\n",
       "      <td>1.0</td>\n",
       "    </tr>\n",
       "    <tr>\n",
       "      <th>1</th>\n",
       "      <td>C:\\Users\\Administrator\\Desktop\\RAVDESS\\Actor_0...</td>\n",
       "      <td>1.0</td>\n",
       "      <td>1.0</td>\n",
       "      <td>male</td>\n",
       "      <td>0.0</td>\n",
       "      <td>kids are talking by the door</td>\n",
       "      <td>1.0</td>\n",
       "      <td>1.0</td>\n",
       "    </tr>\n",
       "    <tr>\n",
       "      <th>2</th>\n",
       "      <td>C:\\Users\\Administrator\\Desktop\\RAVDESS\\Actor_0...</td>\n",
       "      <td>1.0</td>\n",
       "      <td>1.0</td>\n",
       "      <td>male</td>\n",
       "      <td>0.0</td>\n",
       "      <td>Dogs are sitting by the door</td>\n",
       "      <td>0.0</td>\n",
       "      <td>1.0</td>\n",
       "    </tr>\n",
       "    <tr>\n",
       "      <th>3</th>\n",
       "      <td>C:\\Users\\Administrator\\Desktop\\RAVDESS\\Actor_0...</td>\n",
       "      <td>1.0</td>\n",
       "      <td>1.0</td>\n",
       "      <td>male</td>\n",
       "      <td>0.0</td>\n",
       "      <td>Dogs are sitting by the door</td>\n",
       "      <td>1.0</td>\n",
       "      <td>1.0</td>\n",
       "    </tr>\n",
       "    <tr>\n",
       "      <th>4</th>\n",
       "      <td>C:\\Users\\Administrator\\Desktop\\RAVDESS\\Actor_0...</td>\n",
       "      <td>1.0</td>\n",
       "      <td>1.0</td>\n",
       "      <td>male</td>\n",
       "      <td>0.0</td>\n",
       "      <td>kids are talking by the door</td>\n",
       "      <td>0.0</td>\n",
       "      <td>2.0</td>\n",
       "    </tr>\n",
       "  </tbody>\n",
       "</table>\n",
       "</div>"
      ],
      "text/plain": [
       "                                                path  source  actor gender  \\\n",
       "0  C:\\Users\\Administrator\\Desktop\\RAVDESS\\Actor_0...     1.0    1.0   male   \n",
       "1  C:\\Users\\Administrator\\Desktop\\RAVDESS\\Actor_0...     1.0    1.0   male   \n",
       "2  C:\\Users\\Administrator\\Desktop\\RAVDESS\\Actor_0...     1.0    1.0   male   \n",
       "3  C:\\Users\\Administrator\\Desktop\\RAVDESS\\Actor_0...     1.0    1.0   male   \n",
       "4  C:\\Users\\Administrator\\Desktop\\RAVDESS\\Actor_0...     1.0    1.0   male   \n",
       "\n",
       "   intensity                     statement  repetition  emotion  \n",
       "0        0.0  kids are talking by the door         0.0      1.0  \n",
       "1        0.0  kids are talking by the door         1.0      1.0  \n",
       "2        0.0  Dogs are sitting by the door         0.0      1.0  \n",
       "3        0.0  Dogs are sitting by the door         1.0      1.0  \n",
       "4        0.0  kids are talking by the door         0.0      2.0  "
      ]
     },
     "execution_count": 16,
     "metadata": {},
     "output_type": "execute_result"
    }
   ],
   "source": [
    "print(\"一共有%d条语音\"%len(data_df))\n",
    "data_df.head(5)"
   ]
  },
  {
   "cell_type": "code",
   "execution_count": 39,
   "metadata": {},
   "outputs": [
    {
     "name": "stdout",
     "output_type": "stream",
     "text": [
      "C:\\Users\\Administrator\\Desktop\\RAVDESS\\Actor_18\\03-01-01-01-01-02-18.wav\n",
      "样本有77989长\n",
      "样本采样率为22050\n"
     ]
    }
   ],
   "source": [
    "#绘制语音的波形图和频域谱\n",
    "example= data_df.path[1021]\n",
    "print(example)\n",
    "sample, sample_rate= librosa.load(example)\n",
    "print(\"样本有%d长\"%len(sample))\n",
    "print(\"样本采样率为%d\"%sample_rate)"
   ]
  },
  {
   "cell_type": "code",
   "execution_count": 45,
   "metadata": {},
   "outputs": [],
   "source": [
    "#绘制频谱图，使用scipy.signal.spectrogram\n",
    "def log_specgram(audio, sample_rate, window_size=20,\n",
    "                 step_size=10, eps=1e-10):\n",
    "    nperseg = int(round(window_size * sample_rate / 1e3))\n",
    "    noverlap = int(round(step_size * sample_rate / 1e3))\n",
    "    freqs, times, spec = signal.spectrogram(audio,\n",
    "                                    fs=sample_rate,\n",
    "                                    window='hann',\n",
    "                                    nperseg=nperseg,\n",
    "                                    noverlap=noverlap,\n",
    "                                    detrend=False)\n",
    "    return freqs, times, np.log(spec.T.astype(np.float32) + eps)"
   ]
  },
  {
   "cell_type": "markdown",
   "metadata": {},
   "source": [
    "scipy.signal.spectrogram[参数说明](https://docs.scipy.org/doc/scipy/reference/generated/scipy.signal.spectrogram.html)  \n",
    "scipy.signal.spectrogram(x, fs=1.0, window=(\"tukey\",0.25),nperseg=None, noverlap=None, nfft=None,detrend=\"constant\",scaling=\"density\",axis=-1,mode=\"psd)  \n",
    "x：时域信号  \n",
    "fs：采样频率    \n",
    "window：窗的种类，通常选择汉明窗或者汉宁窗  \n",
    "nperseg：帧长  \n",
    "noverlap：帧移  \n",
    "nfft：使用的FFT点数  "
   ]
  },
  {
   "cell_type": "code",
   "execution_count": 49,
   "metadata": {},
   "outputs": [],
   "source": [
    "freqs, times, spectrogram = log_specgram(sample, sample_rate)"
   ]
  },
  {
   "cell_type": "code",
   "execution_count": null,
   "metadata": {},
   "outputs": [],
   "source": []
  }
 ],
 "metadata": {
  "kernelspec": {
   "display_name": "Python 3",
   "language": "python",
   "name": "python3"
  },
  "language_info": {
   "codemirror_mode": {
    "name": "ipython",
    "version": 3
   },
   "file_extension": ".py",
   "mimetype": "text/x-python",
   "name": "python",
   "nbconvert_exporter": "python",
   "pygments_lexer": "ipython3",
   "version": "3.5.6"
  },
  "toc": {
   "base_numbering": 1,
   "nav_menu": {},
   "number_sections": true,
   "sideBar": true,
   "skip_h1_title": false,
   "title_cell": "Table of Contents",
   "title_sidebar": "Contents",
   "toc_cell": false,
   "toc_position": {},
   "toc_section_display": true,
   "toc_window_display": false
  }
 },
 "nbformat": 4,
 "nbformat_minor": 2
}
