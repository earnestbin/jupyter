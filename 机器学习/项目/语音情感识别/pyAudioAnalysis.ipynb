{
 "cells": [
  {
   "cell_type": "code",
   "execution_count": 13,
   "metadata": {
    "collapsed": true
   },
   "outputs": [],
   "source": [
    "feature, feature_name= audioFeatureExtraction.stFeatureExtraction(x, Fs, 0.050*Fs, 0.025*Fs)#stFeautureExtraction提取了长时间的特征，返回一个元组"
   ]
  },
  {
   "cell_type": "code",
   "execution_count": 14,
   "metadata": {},
   "outputs": [
    {
     "data": {
      "text/plain": [
       "(34, 70)"
      ]
     },
     "execution_count": 14,
     "metadata": {},
     "output_type": "execute_result"
    }
   ],
   "source": [
    "feature.shape"
   ]
  },
  {
   "cell_type": "code",
   "execution_count": 18,
   "metadata": {
    "scrolled": true
   },
   "outputs": [
    {
     "data": {
      "text/plain": [
       "['zcr',\n",
       " 'energy',\n",
       " 'energy_entropy',\n",
       " 'spectral_centroid',\n",
       " 'spectral_spread',\n",
       " 'spectral_entropy',\n",
       " 'spectral_flux',\n",
       " 'spectral_rolloff',\n",
       " 'mfcc_1',\n",
       " 'mfcc_2',\n",
       " 'mfcc_3',\n",
       " 'mfcc_4',\n",
       " 'mfcc_5',\n",
       " 'mfcc_6',\n",
       " 'mfcc_7',\n",
       " 'mfcc_8',\n",
       " 'mfcc_9',\n",
       " 'mfcc_10',\n",
       " 'mfcc_11',\n",
       " 'mfcc_12',\n",
       " 'mfcc_13',\n",
       " 'chroma_1',\n",
       " 'chroma_2',\n",
       " 'chroma_3',\n",
       " 'chroma_4',\n",
       " 'chroma_5',\n",
       " 'chroma_6',\n",
       " 'chroma_7',\n",
       " 'chroma_8',\n",
       " 'chroma_9',\n",
       " 'chroma_10',\n",
       " 'chroma_11',\n",
       " 'chroma_12',\n",
       " 'chroma_std']"
      ]
     },
     "execution_count": 18,
     "metadata": {},
     "output_type": "execute_result"
    }
   ],
   "source": [
    "feature_name"
   ]
  },
  {
   "cell_type": "code",
   "execution_count": 19,
   "metadata": {},
   "outputs": [
    {
     "data": {
      "text/plain": [
       "Text(0, 0.5, 'Energy')"
      ]
     },
     "execution_count": 19,
     "metadata": {},
     "output_type": "execute_result"
    },
    {
     "data": {
      "image/png": "[encoded data removed]",
      "text/plain": [
       "<Figure size 432x288 with 2 Axes>"
      ]
     },
     "metadata": {
      "needs_background": "light"
     },
     "output_type": "display_data"
    }
   ],
   "source": [
    "plt.subplot(2,1,1)\n",
    "plt.plot(feature[0,:])\n",
    "plt.xlabel(\"Frame no\")\n",
    "plt.ylabel(\"ZCR\")\n",
    "plt.subplot(2,1,2)\n",
    "plt.plot(feature[1,:])\n",
    "plt.xlabel(\"Frame no\")\n",
    "plt.ylabel(\"Energy\")"
   ]
  },
  {
   "cell_type": "code",
   "execution_count": 4,
   "metadata": {
    "collapsed": true
   },
   "outputs": [],
   "source": [
    "from pyAudioAnalysis import audioBasicIO\n",
    "from pyAudioAnalysis import audioFeatureExtraction\n",
    "import soundfile\n",
    "import os, glob, pickle\n",
    "import numpy as np\n",
    "from sklearn.model_selection import train_test_split\n",
    "from sklearn.neural_network import MLPClassifier\n",
    "from sklearn. ensemble import RandomForestClassifier\n",
    "from sklearn.svm import SVC\n",
    "from sklearn.metrics import accuracy_score\n",
    "from sklearn.preprocessing import StandardScaler\n",
    "from sklearn.preprocessing import MinMaxScaler\n",
    "from sklearn.metrics import classification_report\n",
    "from sklearn.model_selection import cross_val_score\n",
    "from sklearn.model_selection import GridSearchCV\n",
    "from xgboost import XGBClassifier\n",
    "from sklearn.neighbors import KNeighborsClassifier\n",
    "from sklearn.linear_model import LogisticRegression\n",
    "from sklearn.discriminant_analysis import LinearDiscriminantAnalysis"
   ]
  },
  {
   "cell_type": "markdown",
   "metadata": {},
   "source": [
    "# EMO-DB数据集"
   ]
  },
  {
   "cell_type": "code",
   "execution_count": 14,
   "metadata": {
    "collapsed": true
   },
   "outputs": [],
   "source": [
    "emotions= {\n",
    "    'W':'anger',\n",
    "    'L':'boredom',\n",
    "    'E':'disgust',\n",
    "    'A':'fear',\n",
    "    'F':'happiness',\n",
    "    'T':'sadness',\n",
    "    'N':'neutral'\n",
    "}\n",
    "def extract_feature(file_name):\n",
    "    sample_rate, X= audioBasicIO.readAudioFile(file_name)\n",
    "    feature, feature_name= audioFeatureExtraction.stFeatureExtraction(X, sample_rate, 0.050*sample_rate, 0.025*sample_rate)\n",
    "    temp= []\n",
    "    temp=np.hstack((temp, np.concatenate((np.mean(feature,axis=1),np.std(feature, axis=1)),axis=0)))\n",
    "    return temp\n",
    "#导入数据，返回提取出的特征数组以及标签\n",
    "def load_emoDB(Normalization=False, Standardization=False):\n",
    "    x, y=[],[]\n",
    "    for file in glob.glob('C:\\\\Users\\\\Administrator\\\\Desktop\\\\EMO-DB\\\\wav\\\\*.wav'):\n",
    "        file_name= os.path.basename(file)\n",
    "        emotion= emotions[file_name.split('.')[0][-2]]\n",
    "        feature= extract_feature(file)\n",
    "        x.append(feature)\n",
    "        y.append(emotion)\n",
    "    x= np.array(x)\n",
    "    if Normalization:\n",
    "        return MinMaxScaler().fit_transform(x),y\n",
    "    elif Standardization:\n",
    "        return StandardScaler().fit_transform(x),y\n",
    "    else:\n",
    "        return x,y"
   ]
  },
  {
   "cell_type": "code",
   "execution_count": 18,
   "metadata": {
    "collapsed": true
   },
   "outputs": [],
   "source": [
    "data,label= load_emoDB(Standardization=True)"
   ]
  },
  {
   "cell_type": "code",
   "execution_count": 19,
   "metadata": {},
   "outputs": [
    {
     "data": {
      "text/plain": [
       "(535, 68)"
      ]
     },
     "execution_count": 19,
     "metadata": {},
     "output_type": "execute_result"
    }
   ],
   "source": [
    "data.shape"
   ]
  },
  {
   "cell_type": "code",
   "execution_count": 21,
   "metadata": {
    "collapsed": true
   },
   "outputs": [],
   "source": [
    "x_train, x_test, y_train, y_test= train_test_split(data, label, random_state=0, test_size=0.25)"
   ]
  },
  {
   "cell_type": "markdown",
   "metadata": {},
   "source": [
    "## 支持向量机"
   ]
  },
  {
   "cell_type": "code",
   "execution_count": 20,
   "metadata": {},
   "outputs": [
    {
     "name": "stdout",
     "output_type": "stream",
     "text": [
      "The best parameters are {'C': 10, 'gamma': 0.01} with a score of 0.70\n"
     ]
    },
    {
     "name": "stderr",
     "output_type": "stream",
     "text": [
      "C:\\Users\\Administrator\\Anaconda3\\lib\\site-packages\\sklearn\\model_selection\\_search.py:814: DeprecationWarning: The default of the `iid` parameter will change from True to False in version 0.22 and will be removed in 0.24. This will change numeric results when test-set sizes are unequal.\n",
      "  DeprecationWarning)\n"
     ]
    }
   ],
   "source": [
    "grid = GridSearchCV(SVC(random_state=9,kernel='rbf'), param_grid={\"C\":[0.1, 1, 10], \"gamma\": [1, 0.1, 0.01]}, cv=10)\n",
    "grid.fit(data, label)\n",
    "print(\"The best parameters are %s with a score of %0.2f\"\n",
    "      % (grid.best_params_, grid.best_score_))"
   ]
  },
  {
   "cell_type": "code",
   "execution_count": 26,
   "metadata": {},
   "outputs": [
    {
     "name": "stdout",
     "output_type": "stream",
     "text": [
      "0.6901443397871969\n"
     ]
    }
   ],
   "source": [
    "model= SVC(kernel='rbf',random_state=9,C=10, gamma=0.01)\n",
    "print(cross_val_score(model, data, label, cv=10,scoring='balanced_accuracy').mean())"
   ]
  },
  {
   "cell_type": "code",
   "execution_count": 23,
   "metadata": {
    "scrolled": true
   },
   "outputs": [
    {
     "name": "stdout",
     "output_type": "stream",
     "text": [
      "              precision    recall  f1-score   support\n",
      "\n",
      "       anger       0.69      0.86      0.77        29\n",
      "     boredom       0.78      0.82      0.80        22\n",
      "     disgust       0.75      0.60      0.67        10\n",
      "        fear       0.87      0.72      0.79        18\n",
      "   happiness       0.65      0.61      0.63        18\n",
      "     neutral       0.79      0.83      0.81        18\n",
      "     sadness       0.94      0.79      0.86        19\n",
      "\n",
      "    accuracy                           0.77       134\n",
      "   macro avg       0.78      0.75      0.76       134\n",
      "weighted avg       0.78      0.77      0.77       134\n",
      "\n"
     ]
    }
   ],
   "source": [
    "model.fit(x_train,y_train)\n",
    "y_pred= model.predict(x_test)\n",
    "print(classification_report(y_test,y_pred ))"
   ]
  },
  {
   "cell_type": "markdown",
   "metadata": {},
   "source": [
    "## 随机森林分类"
   ]
  },
  {
   "cell_type": "code",
   "execution_count": 43,
   "metadata": {},
   "outputs": [
    {
     "name": "stderr",
     "output_type": "stream",
     "text": [
      "C:\\Users\\Administrator\\Anaconda3\\lib\\site-packages\\sklearn\\model_selection\\_search.py:814: DeprecationWarning: The default of the `iid` parameter will change from True to False in version 0.22 and will be removed in 0.24. This will change numeric results when test-set sizes are unequal.\n",
      "  DeprecationWarning)\n"
     ]
    },
    {
     "name": "stdout",
     "output_type": "stream",
     "text": [
      "The best parameters are {'n_estimators': 150} with a score of 0.63\n"
     ]
    }
   ],
   "source": [
    "grid = GridSearchCV(RandomForestClassifier(random_state=9), param_grid={'n_estimators':[120,130,140,150,160,170,180]}, cv=10)\n",
    "grid.fit(data, label)\n",
    "print(\"The best parameters are %s with a score of %0.2f\"\n",
    "      % (grid.best_params_, grid.best_score_))"
   ]
  },
  {
   "cell_type": "code",
   "execution_count": 45,
   "metadata": {},
   "outputs": [
    {
     "name": "stdout",
     "output_type": "stream",
     "text": [
      "0.6005468341182627\n"
     ]
    }
   ],
   "source": [
    "model= RandomForestClassifier(n_estimators=150,random_state=9)\n",
    "print(cross_val_score(model, data, label, cv=10,scoring='balanced_accuracy').mean())"
   ]
  },
  {
   "cell_type": "code",
   "execution_count": 46,
   "metadata": {},
   "outputs": [
    {
     "name": "stdout",
     "output_type": "stream",
     "text": [
      "              precision    recall  f1-score   support\n",
      "\n",
      "       anger       0.71      0.93      0.81        29\n",
      "     boredom       0.83      0.68      0.75        22\n",
      "     disgust       0.50      0.30      0.37        10\n",
      "        fear       0.69      0.50      0.58        18\n",
      "   happiness       0.61      0.61      0.61        18\n",
      "     neutral       0.61      0.78      0.68        18\n",
      "     sadness       0.89      0.84      0.86        19\n",
      "\n",
      "    accuracy                           0.71       134\n",
      "   macro avg       0.69      0.66      0.67       134\n",
      "weighted avg       0.71      0.71      0.70       134\n",
      "\n"
     ]
    }
   ],
   "source": [
    "model.fit(x_train,y_train)\n",
    "y_pred= model.predict(x_test)\n",
    "print(classification_report(y_test,y_pred ))"
   ]
  },
  {
   "cell_type": "markdown",
   "metadata": {},
   "source": [
    "## Xgboost"
   ]
  },
  {
   "cell_type": "code",
   "execution_count": 50,
   "metadata": {},
   "outputs": [
    {
     "name": "stderr",
     "output_type": "stream",
     "text": [
      "C:\\Users\\Administrator\\Anaconda3\\lib\\site-packages\\sklearn\\model_selection\\_search.py:814: DeprecationWarning: The default of the `iid` parameter will change from True to False in version 0.22 and will be removed in 0.24. This will change numeric results when test-set sizes are unequal.\n",
      "  DeprecationWarning)\n"
     ]
    },
    {
     "name": "stdout",
     "output_type": "stream",
     "text": [
      "The best parameters are {'n_estimators': 100} with a score of 0.64\n"
     ]
    }
   ],
   "source": [
    "grid = GridSearchCV(XGBClassifier(random_state=9,learning_rate=0.1), param_grid={'n_estimators':[100,200,300]}, cv=10)\n",
    "grid.fit(data, label)\n",
    "print(\"The best parameters are %s with a score of %0.2f\"\n",
    "      % (grid.best_params_, grid.best_score_))"
   ]
  },
  {
   "cell_type": "code",
   "execution_count": 52,
   "metadata": {},
   "outputs": [
    {
     "name": "stdout",
     "output_type": "stream",
     "text": [
      "0.6104936333507762\n"
     ]
    }
   ],
   "source": [
    "model= XGBClassifier(n_estimators=100,random_state=9,n_jobs=-1)\n",
    "print(cross_val_score(model, data, label, cv=10,scoring='balanced_accuracy').mean())"
   ]
  },
  {
   "cell_type": "code",
   "execution_count": 53,
   "metadata": {},
   "outputs": [
    {
     "name": "stdout",
     "output_type": "stream",
     "text": [
      "              precision    recall  f1-score   support\n",
      "\n",
      "       anger       0.69      0.83      0.75        29\n",
      "     boredom       0.79      0.68      0.73        22\n",
      "     disgust       0.57      0.40      0.47        10\n",
      "        fear       0.83      0.56      0.67        18\n",
      "   happiness       0.53      0.56      0.54        18\n",
      "     neutral       0.65      0.83      0.73        18\n",
      "     sadness       0.74      0.74      0.74        19\n",
      "\n",
      "    accuracy                           0.69       134\n",
      "   macro avg       0.69      0.66      0.66       134\n",
      "weighted avg       0.70      0.69      0.68       134\n",
      "\n"
     ]
    }
   ],
   "source": [
    "model.fit(x_train,y_train)\n",
    "y_pred= model.predict(x_test)\n",
    "print(classification_report(y_test,y_pred ))"
   ]
  },
  {
   "cell_type": "markdown",
   "metadata": {},
   "source": [
    "## K近邻分类"
   ]
  },
  {
   "cell_type": "code",
   "execution_count": 54,
   "metadata": {},
   "outputs": [
    {
     "name": "stdout",
     "output_type": "stream",
     "text": [
      "The best parameters are {'n_neighbors': 10, 'p': 2, 'weights': 'distance'} with a score of 0.65\n"
     ]
    },
    {
     "name": "stderr",
     "output_type": "stream",
     "text": [
      "C:\\Users\\Administrator\\Anaconda3\\lib\\site-packages\\sklearn\\model_selection\\_search.py:814: DeprecationWarning: The default of the `iid` parameter will change from True to False in version 0.22 and will be removed in 0.24. This will change numeric results when test-set sizes are unequal.\n",
      "  DeprecationWarning)\n"
     ]
    }
   ],
   "source": [
    "param_grid = [\n",
    "    {\n",
    "        'weights':['uniform'],\n",
    "        'n_neighbors':[i for i in range(1,20)]\n",
    "    },\n",
    "    {\n",
    "        'weights':['distance'],\n",
    "        'n_neighbors':[i for i in range(1,20)],\n",
    "        'p':[i for i in range(1,6)]\n",
    "    }\n",
    "]\n",
    "grid = GridSearchCV(KNeighborsClassifier(),param_grid, n_jobs=-1,cv=10)\n",
    "grid.fit(data, label)\n",
    "print(\"The best parameters are %s with a score of %0.2f\"\n",
    "      % (grid.best_params_, grid.best_score_))"
   ]
  },
  {
   "cell_type": "code",
   "execution_count": 55,
   "metadata": {},
   "outputs": [
    {
     "name": "stdout",
     "output_type": "stream",
     "text": [
      "0.6119645037502179\n"
     ]
    }
   ],
   "source": [
    "model=KNeighborsClassifier(n_neighbors=10,weights='distance',p=2)\n",
    "print(cross_val_score(model, data, label, cv=10,scoring='balanced_accuracy').mean())"
   ]
  },
  {
   "cell_type": "code",
   "execution_count": 56,
   "metadata": {},
   "outputs": [
    {
     "name": "stdout",
     "output_type": "stream",
     "text": [
      "              precision    recall  f1-score   support\n",
      "\n",
      "       anger       0.59      0.93      0.72        29\n",
      "     boredom       0.91      0.45      0.61        22\n",
      "     disgust       0.83      0.50      0.62        10\n",
      "        fear       0.89      0.44      0.59        18\n",
      "   happiness       0.82      0.50      0.62        18\n",
      "     neutral       0.50      0.89      0.64        18\n",
      "     sadness       0.84      0.84      0.84        19\n",
      "\n",
      "    accuracy                           0.68       134\n",
      "   macro avg       0.77      0.65      0.66       134\n",
      "weighted avg       0.75      0.68      0.67       134\n",
      "\n"
     ]
    }
   ],
   "source": [
    "model.fit(x_train,y_train)\n",
    "y_pred= model.predict(x_test)\n",
    "print(classification_report(y_test,y_pred ))"
   ]
  },
  {
   "cell_type": "markdown",
   "metadata": {},
   "source": [
    "## 逻辑回归分类"
   ]
  },
  {
   "cell_type": "code",
   "execution_count": 82,
   "metadata": {},
   "outputs": [
    {
     "name": "stderr",
     "output_type": "stream",
     "text": [
      "C:\\Users\\Administrator\\Anaconda3\\lib\\site-packages\\sklearn\\model_selection\\_search.py:814: DeprecationWarning: The default of the `iid` parameter will change from True to False in version 0.22 and will be removed in 0.24. This will change numeric results when test-set sizes are unequal.\n",
      "  DeprecationWarning)\n"
     ]
    },
    {
     "name": "stdout",
     "output_type": "stream",
     "text": [
      "The best parameters are {'C': 0.6} with a score of 0.74\n"
     ]
    },
    {
     "name": "stderr",
     "output_type": "stream",
     "text": [
      "C:\\Users\\Administrator\\Anaconda3\\lib\\site-packages\\sklearn\\linear_model\\sag.py:337: ConvergenceWarning: The max_iter was reached which means the coef_ did not converge\n",
      "  \"the coef_ did not converge\", ConvergenceWarning)\n"
     ]
    }
   ],
   "source": [
    "grid = GridSearchCV(LogisticRegression(solver='saga',random_state=9,n_jobs=-1,multi_class='auto'),param_grid={'C':[0.5,0.6,0.7,0.8,0.9,1]},n_jobs=-1,cv=10)\n",
    "grid.fit(data, label)\n",
    "print(\"The best parameters are %s with a score of %0.2f\"\n",
    "      % (grid.best_params_, grid.best_score_))"
   ]
  },
  {
   "cell_type": "code",
   "execution_count": 83,
   "metadata": {},
   "outputs": [
    {
     "name": "stdout",
     "output_type": "stream",
     "text": [
      "0.7310984650270365\n"
     ]
    }
   ],
   "source": [
    "model=LogisticRegression(multi_class='auto',solver='saga',random_state=9,n_jobs=-1,C=0.6)\n",
    "print(cross_val_score(model, data, label, cv=10,scoring='balanced_accuracy').mean())"
   ]
  },
  {
   "cell_type": "code",
   "execution_count": 84,
   "metadata": {},
   "outputs": [
    {
     "name": "stdout",
     "output_type": "stream",
     "text": [
      "              precision    recall  f1-score   support\n",
      "\n",
      "       anger       0.73      0.83      0.77        29\n",
      "     boredom       0.78      0.82      0.80        22\n",
      "     disgust       0.88      0.70      0.78        10\n",
      "        fear       0.88      0.83      0.86        18\n",
      "   happiness       0.63      0.67      0.65        18\n",
      "     neutral       0.79      0.83      0.81        18\n",
      "     sadness       0.93      0.74      0.82        19\n",
      "\n",
      "    accuracy                           0.78       134\n",
      "   macro avg       0.80      0.77      0.78       134\n",
      "weighted avg       0.79      0.78      0.78       134\n",
      "\n"
     ]
    },
    {
     "name": "stderr",
     "output_type": "stream",
     "text": [
      "C:\\Users\\Administrator\\Anaconda3\\lib\\site-packages\\sklearn\\linear_model\\sag.py:337: ConvergenceWarning: The max_iter was reached which means the coef_ did not converge\n",
      "  \"the coef_ did not converge\", ConvergenceWarning)\n"
     ]
    }
   ],
   "source": [
    "model.fit(x_train,y_train)\n",
    "y_pred= model.predict(x_test)\n",
    "print(classification_report(y_test,y_pred ))"
   ]
  },
  {
   "cell_type": "markdown",
   "metadata": {},
   "source": [
    "## 线性判别分析分类"
   ]
  },
  {
   "cell_type": "code",
   "execution_count": 70,
   "metadata": {},
   "outputs": [
    {
     "name": "stdout",
     "output_type": "stream",
     "text": [
      "The best parameters are {'n_components': 1} with a score of 0.71\n"
     ]
    }
   ],
   "source": [
    "grid = GridSearchCV(LinearDiscriminantAnalysis(),param_grid={'n_components':[1,2,3,4,5,6]},n_jobs=-1,cv=10)\n",
    "grid.fit(data, label)\n",
    "print(\"The best parameters are %s with a score of %0.2f\"\n",
    "      % (grid.best_params_, grid.best_score_))"
   ]
  },
  {
   "cell_type": "code",
   "execution_count": 71,
   "metadata": {},
   "outputs": [
    {
     "name": "stdout",
     "output_type": "stream",
     "text": [
      "0.70136926565498\n"
     ]
    }
   ],
   "source": [
    "model=LinearDiscriminantAnalysis(n_components=1)\n",
    "print(cross_val_score(model, data, label, cv=10,scoring='balanced_accuracy').mean())"
   ]
  },
  {
   "cell_type": "code",
   "execution_count": 72,
   "metadata": {},
   "outputs": [
    {
     "name": "stdout",
     "output_type": "stream",
     "text": [
      "              precision    recall  f1-score   support\n",
      "\n",
      "       anger       0.79      0.79      0.79        29\n",
      "     boredom       0.75      0.82      0.78        22\n",
      "     disgust       0.80      0.80      0.80        10\n",
      "        fear       0.88      0.78      0.82        18\n",
      "   happiness       0.65      0.72      0.68        18\n",
      "     neutral       0.74      0.78      0.76        18\n",
      "     sadness       0.94      0.79      0.86        19\n",
      "\n",
      "    accuracy                           0.78       134\n",
      "   macro avg       0.79      0.78      0.79       134\n",
      "weighted avg       0.79      0.78      0.79       134\n",
      "\n"
     ]
    }
   ],
   "source": [
    "model.fit(x_train,y_train)\n",
    "y_pred= model.predict(x_test)\n",
    "print(classification_report(y_test,y_pred ))"
   ]
  },
  {
   "cell_type": "markdown",
   "metadata": {
    "collapsed": true
   },
   "source": [
    "# EMO-DB训练的系统在RAVDESS的识别效果"
   ]
  },
  {
   "cell_type": "code",
   "execution_count": 1,
   "metadata": {
    "collapsed": true
   },
   "outputs": [],
   "source": [
    "from pyAudioAnalysis import audioBasicIO\n",
    "from pyAudioAnalysis import audioFeatureExtraction\n",
    "import soundfile\n",
    "import os, glob, pickle\n",
    "import numpy as np\n",
    "from sklearn.model_selection import train_test_split\n",
    "from sklearn.neural_network import MLPClassifier\n",
    "from sklearn. ensemble import RandomForestClassifier\n",
    "from sklearn.svm import SVC\n",
    "from sklearn.metrics import accuracy_score\n",
    "from sklearn.preprocessing import StandardScaler\n",
    "from sklearn.preprocessing import MinMaxScaler\n",
    "from sklearn.metrics import classification_report\n",
    "from sklearn.model_selection import cross_val_score\n",
    "from sklearn.model_selection import GridSearchCV\n",
    "from xgboost import XGBClassifier\n",
    "from sklearn.neighbors import KNeighborsClassifier\n",
    "from sklearn.linear_model import LogisticRegression\n",
    "from sklearn.discriminant_analysis import LinearDiscriminantAnalysis"
   ]
  },
  {
   "cell_type": "code",
   "execution_count": 2,
   "metadata": {
    "collapsed": true
   },
   "outputs": [],
   "source": [
    "#特征提取函数[68,n]\n",
    "def extract_feature(file_name):\n",
    "    sample_rate, X= audioBasicIO.readAudioFile(file_name)\n",
    "    feature, feature_name= audioFeatureExtraction.stFeatureExtraction(X, sample_rate, 0.050*sample_rate, 0.025*sample_rate)\n",
    "    temp= []\n",
    "    temp=np.hstack((temp, np.concatenate((np.mean(feature,axis=1),np.std(feature, axis=1)),axis=0)))\n",
    "    return temp"
   ]
  },
  {
   "cell_type": "code",
   "execution_count": 3,
   "metadata": {
    "collapsed": true
   },
   "outputs": [],
   "source": [
    "emotions= {\n",
    "    'W':'anger',\n",
    "    'L':'boredom',\n",
    "    'E':'disgust',\n",
    "    'A':'fear',\n",
    "    'F':'happiness',\n",
    "    'T':'sadness',\n",
    "    'N':'neutral'\n",
    "}\n",
    "#导入数据，返回提取出的特征数组以及标签\n",
    "def load_emoDB(Normalization=False, Standardization=True):\n",
    "    x, y=[],[]\n",
    "    for file in glob.glob('C:\\\\Users\\\\Administrator\\\\Desktop\\\\EMO-DB\\\\wav\\\\*.wav'):\n",
    "        file_name= os.path.basename(file)\n",
    "        emotion= emotions[file_name.split('.')[0][-2]]\n",
    "        feature= extract_feature(file)\n",
    "        x.append(feature)\n",
    "        y.append(emotion)\n",
    "    x= np.array(x)\n",
    "    if Normalization:\n",
    "        return MinMaxScaler().fit_transform(x),y\n",
    "    elif Standardization:\n",
    "        return StandardScaler().fit_transform(x),y\n",
    "    else:\n",
    "        return x,y\n",
    "emo_data, emo_label= load_emoDB()"
   ]
  },
  {
   "cell_type": "code",
   "execution_count": 4,
   "metadata": {
    "collapsed": true
   },
   "outputs": [],
   "source": [
    "RAV_emotions= {\n",
    "    '01':'neutral',\n",
    "    '02':'calm',\n",
    "    '03':'happiness',\n",
    "    '04':'sadness',\n",
    "    '05':'anger',\n",
    "    '06':'fear',\n",
    "    '07':'disgust',\n",
    "    '08':'surprised'\n",
    "}\n",
    "observed_emotions= ['anger','disgust','fear','happiness','sadness','neutral']"
   ]
  },
  {
   "cell_type": "code",
   "execution_count": 6,
   "metadata": {
    "collapsed": true
   },
   "outputs": [],
   "source": [
    "temp=glob.glob('C:\\\\Users\\\\Administrator\\\\Desktop\\\\RAVDESS\\\\Actor_*\\\\*.wav')"
   ]
  },
  {
   "cell_type": "code",
   "execution_count": 18,
   "metadata": {},
   "outputs": [
    {
     "ename": "ValueError",
     "evalue": "cannot reshape array of size 4800 into shape (240,10)",
     "output_type": "error",
     "traceback": [
      "\u001b[1;31m---------------------------------------------------------------------------\u001b[0m",
      "\u001b[1;31mValueError\u001b[0m                                Traceback (most recent call last)",
      "\u001b[1;32m<ipython-input-18-57bd9df56a84>\u001b[0m in \u001b[0;36m<module>\u001b[1;34m()\u001b[0m\n\u001b[1;32m----> 1\u001b[1;33m \u001b[0mtemp\u001b[0m\u001b[1;33m=\u001b[0m \u001b[0mextract_feature\u001b[0m\u001b[1;33m(\u001b[0m\u001b[1;34mr'C:\\Users\\Administrator\\Desktop\\RAVDESS\\Actor_20\\03-01-03-01-02-01-20.wav'\u001b[0m\u001b[1;33m)\u001b[0m\u001b[1;33m\u001b[0m\u001b[0m\n\u001b[0m",
      "\u001b[1;32m<ipython-input-2-dbb69bdfad87>\u001b[0m in \u001b[0;36mextract_feature\u001b[1;34m(file_name)\u001b[0m\n\u001b[0;32m      2\u001b[0m \u001b[1;32mdef\u001b[0m \u001b[0mextract_feature\u001b[0m\u001b[1;33m(\u001b[0m\u001b[0mfile_name\u001b[0m\u001b[1;33m)\u001b[0m\u001b[1;33m:\u001b[0m\u001b[1;33m\u001b[0m\u001b[0m\n\u001b[0;32m      3\u001b[0m     \u001b[0msample_rate\u001b[0m\u001b[1;33m,\u001b[0m \u001b[0mX\u001b[0m\u001b[1;33m=\u001b[0m \u001b[0maudioBasicIO\u001b[0m\u001b[1;33m.\u001b[0m\u001b[0mreadAudioFile\u001b[0m\u001b[1;33m(\u001b[0m\u001b[0mfile_name\u001b[0m\u001b[1;33m)\u001b[0m\u001b[1;33m\u001b[0m\u001b[0m\n\u001b[1;32m----> 4\u001b[1;33m     \u001b[0mfeature\u001b[0m\u001b[1;33m,\u001b[0m \u001b[0mfeature_name\u001b[0m\u001b[1;33m=\u001b[0m \u001b[0maudioFeatureExtraction\u001b[0m\u001b[1;33m.\u001b[0m\u001b[0mstFeatureExtraction\u001b[0m\u001b[1;33m(\u001b[0m\u001b[0mX\u001b[0m\u001b[1;33m,\u001b[0m \u001b[0msample_rate\u001b[0m\u001b[1;33m,\u001b[0m \u001b[1;36m0.050\u001b[0m\u001b[1;33m*\u001b[0m\u001b[0msample_rate\u001b[0m\u001b[1;33m,\u001b[0m \u001b[1;36m0.025\u001b[0m\u001b[1;33m*\u001b[0m\u001b[0msample_rate\u001b[0m\u001b[1;33m)\u001b[0m\u001b[1;33m\u001b[0m\u001b[0m\n\u001b[0m\u001b[0;32m      5\u001b[0m     \u001b[0mtemp\u001b[0m\u001b[1;33m=\u001b[0m \u001b[1;33m[\u001b[0m\u001b[1;33m]\u001b[0m\u001b[1;33m\u001b[0m\u001b[0m\n\u001b[0;32m      6\u001b[0m     \u001b[0mtemp\u001b[0m\u001b[1;33m=\u001b[0m\u001b[0mnp\u001b[0m\u001b[1;33m.\u001b[0m\u001b[0mhstack\u001b[0m\u001b[1;33m(\u001b[0m\u001b[1;33m(\u001b[0m\u001b[0mtemp\u001b[0m\u001b[1;33m,\u001b[0m \u001b[0mnp\u001b[0m\u001b[1;33m.\u001b[0m\u001b[0mconcatenate\u001b[0m\u001b[1;33m(\u001b[0m\u001b[1;33m(\u001b[0m\u001b[0mnp\u001b[0m\u001b[1;33m.\u001b[0m\u001b[0mmean\u001b[0m\u001b[1;33m(\u001b[0m\u001b[0mfeature\u001b[0m\u001b[1;33m,\u001b[0m\u001b[0maxis\u001b[0m\u001b[1;33m=\u001b[0m\u001b[1;36m1\u001b[0m\u001b[1;33m)\u001b[0m\u001b[1;33m,\u001b[0m\u001b[0mnp\u001b[0m\u001b[1;33m.\u001b[0m\u001b[0mstd\u001b[0m\u001b[1;33m(\u001b[0m\u001b[0mfeature\u001b[0m\u001b[1;33m,\u001b[0m \u001b[0maxis\u001b[0m\u001b[1;33m=\u001b[0m\u001b[1;36m1\u001b[0m\u001b[1;33m)\u001b[0m\u001b[1;33m)\u001b[0m\u001b[1;33m,\u001b[0m\u001b[0maxis\u001b[0m\u001b[1;33m=\u001b[0m\u001b[1;36m0\u001b[0m\u001b[1;33m)\u001b[0m\u001b[1;33m)\u001b[0m\u001b[1;33m)\u001b[0m\u001b[1;33m\u001b[0m\u001b[0m\n",
      "\u001b[1;32mC:\\Users\\Administrator\\Anaconda3\\lib\\site-packages\\pyAudioAnalysis\\audioFeatureExtraction.py\u001b[0m in \u001b[0;36mstFeatureExtraction\u001b[1;34m(signal, fs, win, step)\u001b[0m\n\u001b[0;32m    584\u001b[0m         \u001b[0mcurFV\u001b[0m\u001b[1;33m[\u001b[0m\u001b[1;36m0\u001b[0m\u001b[1;33m]\u001b[0m \u001b[1;33m=\u001b[0m \u001b[0mstZCR\u001b[0m\u001b[1;33m(\u001b[0m\u001b[0mx\u001b[0m\u001b[1;33m)\u001b[0m                              \u001b[1;31m# zero crossing rate\u001b[0m\u001b[1;33m\u001b[0m\u001b[0m\n\u001b[0;32m    585\u001b[0m         \u001b[0mcurFV\u001b[0m\u001b[1;33m[\u001b[0m\u001b[1;36m1\u001b[0m\u001b[1;33m]\u001b[0m \u001b[1;33m=\u001b[0m \u001b[0mstEnergy\u001b[0m\u001b[1;33m(\u001b[0m\u001b[0mx\u001b[0m\u001b[1;33m)\u001b[0m                           \u001b[1;31m# short-term energy\u001b[0m\u001b[1;33m\u001b[0m\u001b[0m\n\u001b[1;32m--> 586\u001b[1;33m         \u001b[0mcurFV\u001b[0m\u001b[1;33m[\u001b[0m\u001b[1;36m2\u001b[0m\u001b[1;33m]\u001b[0m \u001b[1;33m=\u001b[0m \u001b[0mstEnergyEntropy\u001b[0m\u001b[1;33m(\u001b[0m\u001b[0mx\u001b[0m\u001b[1;33m)\u001b[0m                    \u001b[1;31m# short-term entropy of energy\u001b[0m\u001b[1;33m\u001b[0m\u001b[0m\n\u001b[0m\u001b[0;32m    587\u001b[0m         \u001b[1;33m[\u001b[0m\u001b[0mcurFV\u001b[0m\u001b[1;33m[\u001b[0m\u001b[1;36m3\u001b[0m\u001b[1;33m]\u001b[0m\u001b[1;33m,\u001b[0m \u001b[0mcurFV\u001b[0m\u001b[1;33m[\u001b[0m\u001b[1;36m4\u001b[0m\u001b[1;33m]\u001b[0m\u001b[1;33m]\u001b[0m \u001b[1;33m=\u001b[0m \u001b[0mstSpectralCentroidAndSpread\u001b[0m\u001b[1;33m(\u001b[0m\u001b[0mX\u001b[0m\u001b[1;33m,\u001b[0m \u001b[0mfs\u001b[0m\u001b[1;33m)\u001b[0m    \u001b[1;31m# spectral centroid and spread\u001b[0m\u001b[1;33m\u001b[0m\u001b[0m\n\u001b[0;32m    588\u001b[0m         \u001b[0mcurFV\u001b[0m\u001b[1;33m[\u001b[0m\u001b[1;36m5\u001b[0m\u001b[1;33m]\u001b[0m \u001b[1;33m=\u001b[0m \u001b[0mstSpectralEntropy\u001b[0m\u001b[1;33m(\u001b[0m\u001b[0mX\u001b[0m\u001b[1;33m)\u001b[0m                  \u001b[1;31m# spectral entropy\u001b[0m\u001b[1;33m\u001b[0m\u001b[0m\n",
      "\u001b[1;32mC:\\Users\\Administrator\\Anaconda3\\lib\\site-packages\\pyAudioAnalysis\\audioFeatureExtraction.py\u001b[0m in \u001b[0;36mstEnergyEntropy\u001b[1;34m(frame, n_short_blocks)\u001b[0m\n\u001b[0;32m     37\u001b[0m             \u001b[0mframe\u001b[0m \u001b[1;33m=\u001b[0m \u001b[0mframe\u001b[0m\u001b[1;33m[\u001b[0m\u001b[1;36m0\u001b[0m\u001b[1;33m:\u001b[0m\u001b[0msub_win_len\u001b[0m \u001b[1;33m*\u001b[0m \u001b[0mn_short_blocks\u001b[0m\u001b[1;33m]\u001b[0m\u001b[1;33m\u001b[0m\u001b[0m\n\u001b[0;32m     38\u001b[0m     \u001b[1;31m# sub_wins is of size [n_short_blocks x L]\u001b[0m\u001b[1;33m\u001b[0m\u001b[1;33m\u001b[0m\u001b[0m\n\u001b[1;32m---> 39\u001b[1;33m     \u001b[0msub_wins\u001b[0m \u001b[1;33m=\u001b[0m \u001b[0mframe\u001b[0m\u001b[1;33m.\u001b[0m\u001b[0mreshape\u001b[0m\u001b[1;33m(\u001b[0m\u001b[0msub_win_len\u001b[0m\u001b[1;33m,\u001b[0m \u001b[0mn_short_blocks\u001b[0m\u001b[1;33m,\u001b[0m \u001b[0morder\u001b[0m\u001b[1;33m=\u001b[0m\u001b[1;34m'F'\u001b[0m\u001b[1;33m)\u001b[0m\u001b[1;33m.\u001b[0m\u001b[0mcopy\u001b[0m\u001b[1;33m(\u001b[0m\u001b[1;33m)\u001b[0m\u001b[1;33m\u001b[0m\u001b[0m\n\u001b[0m\u001b[0;32m     40\u001b[0m \u001b[1;33m\u001b[0m\u001b[0m\n\u001b[0;32m     41\u001b[0m     \u001b[1;31m# Compute normalized sub-frame energies:\u001b[0m\u001b[1;33m\u001b[0m\u001b[1;33m\u001b[0m\u001b[0m\n",
      "\u001b[1;31mValueError\u001b[0m: cannot reshape array of size 4800 into shape (240,10)"
     ]
    }
   ],
   "source": [
    "temp= extract_feature(r'C:\\Users\\Administrator\\Desktop\\RAVDESS\\Actor_20\\03-01-03-01-02-01-20.wav')"
   ]
  },
  {
   "cell_type": "code",
   "execution_count": 17,
   "metadata": {},
   "outputs": [
    {
     "name": "stdout",
     "output_type": "stream",
     "text": [
      "03-01-01-01-01-01-01.wav\n",
      "03-01-01-01-01-02-01.wav\n",
      "03-01-01-01-02-01-01.wav\n",
      "03-01-01-01-02-02-01.wav\n",
      "03-01-03-01-01-01-01.wav\n",
      "03-01-03-01-01-02-01.wav\n",
      "03-01-03-01-02-01-01.wav\n",
      "03-01-03-01-02-02-01.wav\n",
      "03-01-03-02-01-01-01.wav\n",
      "03-01-03-02-01-02-01.wav\n",
      "03-01-03-02-02-01-01.wav\n",
      "03-01-03-02-02-02-01.wav\n",
      "03-01-04-01-01-01-01.wav\n",
      "03-01-04-01-01-02-01.wav\n",
      "03-01-04-01-02-01-01.wav\n",
      "03-01-04-01-02-02-01.wav\n",
      "03-01-04-02-01-01-01.wav\n",
      "03-01-04-02-01-02-01.wav\n",
      "03-01-04-02-02-01-01.wav\n",
      "03-01-04-02-02-02-01.wav\n",
      "03-01-05-01-01-01-01.wav\n",
      "03-01-05-01-01-02-01.wav\n",
      "03-01-05-01-02-01-01.wav\n",
      "03-01-05-01-02-02-01.wav\n",
      "03-01-05-02-01-01-01.wav\n",
      "03-01-05-02-01-02-01.wav\n",
      "03-01-05-02-02-01-01.wav\n",
      "03-01-05-02-02-02-01.wav\n",
      "03-01-06-01-01-01-01.wav\n",
      "03-01-06-01-01-02-01.wav\n",
      "03-01-06-01-02-01-01.wav\n",
      "03-01-06-01-02-02-01.wav\n",
      "03-01-06-02-01-01-01.wav\n",
      "03-01-06-02-01-02-01.wav\n",
      "03-01-06-02-02-01-01.wav\n",
      "03-01-06-02-02-02-01.wav\n",
      "03-01-07-01-01-01-01.wav\n",
      "03-01-07-01-01-02-01.wav\n",
      "03-01-07-01-02-01-01.wav\n",
      "03-01-07-01-02-02-01.wav\n",
      "03-01-07-02-01-01-01.wav\n",
      "03-01-07-02-01-02-01.wav\n",
      "03-01-07-02-02-01-01.wav\n",
      "03-01-07-02-02-02-01.wav\n",
      "03-01-01-01-01-01-02.wav\n",
      "03-01-01-01-01-02-02.wav\n",
      "03-01-01-01-02-01-02.wav\n",
      "03-01-01-01-02-02-02.wav\n",
      "03-01-03-01-01-01-02.wav\n",
      "03-01-03-01-01-02-02.wav\n",
      "03-01-03-01-02-01-02.wav\n",
      "03-01-03-01-02-02-02.wav\n",
      "03-01-03-02-01-01-02.wav\n",
      "03-01-03-02-01-02-02.wav\n",
      "03-01-03-02-02-01-02.wav\n",
      "03-01-03-02-02-02-02.wav\n",
      "03-01-04-01-01-01-02.wav\n",
      "03-01-04-01-01-02-02.wav\n",
      "03-01-04-01-02-01-02.wav\n",
      "03-01-04-01-02-02-02.wav\n",
      "03-01-04-02-01-01-02.wav\n",
      "03-01-04-02-01-02-02.wav\n",
      "03-01-04-02-02-01-02.wav\n",
      "03-01-04-02-02-02-02.wav\n",
      "03-01-05-01-01-01-02.wav\n",
      "03-01-05-01-01-02-02.wav\n",
      "03-01-05-01-02-01-02.wav\n",
      "03-01-05-01-02-02-02.wav\n",
      "03-01-05-02-01-01-02.wav\n",
      "03-01-05-02-01-02-02.wav\n",
      "03-01-05-02-02-01-02.wav\n",
      "03-01-05-02-02-02-02.wav\n",
      "03-01-06-01-01-01-02.wav\n",
      "03-01-06-01-01-02-02.wav\n",
      "03-01-06-01-02-01-02.wav\n",
      "03-01-06-01-02-02-02.wav\n",
      "03-01-06-02-01-01-02.wav\n",
      "03-01-06-02-01-02-02.wav\n",
      "03-01-06-02-02-01-02.wav\n",
      "03-01-06-02-02-02-02.wav\n",
      "03-01-07-01-01-01-02.wav\n",
      "03-01-07-01-01-02-02.wav\n",
      "03-01-07-01-02-01-02.wav\n",
      "03-01-07-01-02-02-02.wav\n",
      "03-01-07-02-01-01-02.wav\n",
      "03-01-07-02-01-02-02.wav\n",
      "03-01-07-02-02-01-02.wav\n",
      "03-01-07-02-02-02-02.wav\n",
      "03-01-01-01-01-01-03.wav\n",
      "03-01-01-01-01-02-03.wav\n",
      "03-01-01-01-02-01-03.wav\n",
      "03-01-01-01-02-02-03.wav\n",
      "03-01-03-01-01-01-03.wav\n",
      "03-01-03-01-01-02-03.wav\n",
      "03-01-03-01-02-01-03.wav\n",
      "03-01-03-01-02-02-03.wav\n",
      "03-01-03-02-01-01-03.wav\n",
      "03-01-03-02-01-02-03.wav\n",
      "03-01-03-02-02-01-03.wav\n",
      "03-01-03-02-02-02-03.wav\n",
      "03-01-04-01-01-01-03.wav\n",
      "03-01-04-01-01-02-03.wav\n",
      "03-01-04-01-02-01-03.wav\n",
      "03-01-04-01-02-02-03.wav\n",
      "03-01-04-02-01-01-03.wav\n",
      "03-01-04-02-01-02-03.wav\n",
      "03-01-04-02-02-01-03.wav\n",
      "03-01-04-02-02-02-03.wav\n",
      "03-01-05-01-01-01-03.wav\n",
      "03-01-05-01-01-02-03.wav\n",
      "03-01-05-01-02-01-03.wav\n",
      "03-01-05-01-02-02-03.wav\n",
      "03-01-05-02-01-01-03.wav\n",
      "03-01-05-02-01-02-03.wav\n",
      "03-01-05-02-02-01-03.wav\n",
      "03-01-05-02-02-02-03.wav\n",
      "03-01-06-01-01-01-03.wav\n",
      "03-01-06-01-01-02-03.wav\n",
      "03-01-06-01-02-01-03.wav\n",
      "03-01-06-01-02-02-03.wav\n",
      "03-01-06-02-01-01-03.wav\n",
      "03-01-06-02-01-02-03.wav\n",
      "03-01-06-02-02-01-03.wav\n",
      "03-01-06-02-02-02-03.wav\n",
      "03-01-07-01-01-01-03.wav\n",
      "03-01-07-01-01-02-03.wav\n",
      "03-01-07-01-02-01-03.wav\n",
      "03-01-07-01-02-02-03.wav\n",
      "03-01-07-02-01-01-03.wav\n",
      "03-01-07-02-01-02-03.wav\n",
      "03-01-07-02-02-01-03.wav\n",
      "03-01-07-02-02-02-03.wav\n",
      "03-01-01-01-01-01-04.wav\n",
      "03-01-01-01-01-02-04.wav\n",
      "03-01-01-01-02-01-04.wav\n",
      "03-01-01-01-02-02-04.wav\n",
      "03-01-03-01-01-01-04.wav\n",
      "03-01-03-01-01-02-04.wav\n",
      "03-01-03-01-02-01-04.wav\n",
      "03-01-03-01-02-02-04.wav\n",
      "03-01-03-02-01-01-04.wav\n",
      "03-01-03-02-01-02-04.wav\n",
      "03-01-03-02-02-01-04.wav\n",
      "03-01-03-02-02-02-04.wav\n",
      "03-01-04-01-01-01-04.wav\n",
      "03-01-04-01-01-02-04.wav\n",
      "03-01-04-01-02-01-04.wav\n",
      "03-01-04-01-02-02-04.wav\n",
      "03-01-04-02-01-01-04.wav\n",
      "03-01-04-02-01-02-04.wav\n",
      "03-01-04-02-02-01-04.wav\n",
      "03-01-04-02-02-02-04.wav\n",
      "03-01-05-01-01-01-04.wav\n",
      "03-01-05-01-01-02-04.wav\n",
      "03-01-05-01-02-01-04.wav\n",
      "03-01-05-01-02-02-04.wav\n",
      "03-01-05-02-01-01-04.wav\n",
      "03-01-05-02-01-02-04.wav\n",
      "03-01-05-02-02-01-04.wav\n",
      "03-01-05-02-02-02-04.wav\n",
      "03-01-06-01-01-01-04.wav\n",
      "03-01-06-01-01-02-04.wav\n",
      "03-01-06-01-02-01-04.wav\n",
      "03-01-06-01-02-02-04.wav\n",
      "03-01-06-02-01-01-04.wav\n",
      "03-01-06-02-01-02-04.wav\n",
      "03-01-06-02-02-01-04.wav\n",
      "03-01-06-02-02-02-04.wav\n",
      "03-01-07-01-01-01-04.wav\n",
      "03-01-07-01-01-02-04.wav\n",
      "03-01-07-01-02-01-04.wav\n",
      "03-01-07-01-02-02-04.wav\n",
      "03-01-07-02-01-01-04.wav\n",
      "03-01-07-02-01-02-04.wav\n",
      "03-01-07-02-02-01-04.wav\n",
      "03-01-07-02-02-02-04.wav\n",
      "03-01-01-01-01-01-05.wav\n",
      "03-01-01-01-01-02-05.wav\n",
      "03-01-01-01-02-01-05.wav\n",
      "03-01-01-01-02-02-05.wav\n",
      "03-01-03-01-01-01-05.wav\n",
      "03-01-03-01-01-02-05.wav\n",
      "03-01-03-01-02-01-05.wav\n",
      "03-01-03-01-02-02-05.wav\n",
      "03-01-03-02-01-01-05.wav\n",
      "03-01-03-02-01-02-05.wav\n",
      "03-01-03-02-02-01-05.wav\n",
      "03-01-03-02-02-02-05.wav\n",
      "03-01-04-01-01-01-05.wav\n",
      "03-01-04-01-01-02-05.wav\n",
      "03-01-04-01-02-01-05.wav\n",
      "03-01-04-01-02-02-05.wav\n",
      "03-01-04-02-01-01-05.wav\n",
      "03-01-04-02-01-02-05.wav\n",
      "03-01-04-02-02-01-05.wav\n",
      "03-01-04-02-02-02-05.wav\n",
      "03-01-05-01-01-01-05.wav\n",
      "03-01-05-01-01-02-05.wav\n",
      "03-01-05-01-02-01-05.wav\n",
      "03-01-05-01-02-02-05.wav\n",
      "03-01-05-02-01-01-05.wav\n",
      "03-01-05-02-01-02-05.wav\n",
      "03-01-05-02-02-01-05.wav\n",
      "03-01-05-02-02-02-05.wav\n",
      "03-01-06-01-01-01-05.wav\n",
      "03-01-06-01-01-02-05.wav\n",
      "03-01-06-01-02-01-05.wav\n",
      "03-01-06-01-02-02-05.wav\n",
      "03-01-06-02-01-01-05.wav\n",
      "03-01-06-02-01-02-05.wav\n",
      "03-01-06-02-02-01-05.wav\n",
      "03-01-06-02-02-02-05.wav\n",
      "03-01-07-01-01-01-05.wav\n",
      "03-01-07-01-01-02-05.wav\n",
      "03-01-07-01-02-01-05.wav\n",
      "03-01-07-01-02-02-05.wav\n",
      "03-01-07-02-01-01-05.wav\n",
      "03-01-07-02-01-02-05.wav\n",
      "03-01-07-02-02-01-05.wav\n",
      "03-01-07-02-02-02-05.wav\n",
      "03-01-01-01-01-01-06.wav\n",
      "03-01-01-01-01-02-06.wav\n",
      "03-01-01-01-02-01-06.wav\n",
      "03-01-01-01-02-02-06.wav\n",
      "03-01-03-01-01-01-06.wav\n",
      "03-01-03-01-01-02-06.wav\n",
      "03-01-03-01-02-01-06.wav\n",
      "03-01-03-01-02-02-06.wav\n",
      "03-01-03-02-01-01-06.wav\n",
      "03-01-03-02-01-02-06.wav\n",
      "03-01-03-02-02-01-06.wav\n",
      "03-01-03-02-02-02-06.wav\n",
      "03-01-04-01-01-01-06.wav\n",
      "03-01-04-01-01-02-06.wav\n",
      "03-01-04-01-02-01-06.wav\n",
      "03-01-04-01-02-02-06.wav\n",
      "03-01-04-02-01-01-06.wav\n",
      "03-01-04-02-01-02-06.wav\n",
      "03-01-04-02-02-01-06.wav\n",
      "03-01-04-02-02-02-06.wav\n",
      "03-01-05-01-01-01-06.wav\n",
      "03-01-05-01-01-02-06.wav\n",
      "03-01-05-01-02-01-06.wav\n",
      "03-01-05-01-02-02-06.wav\n",
      "03-01-05-02-01-01-06.wav\n",
      "03-01-05-02-01-02-06.wav\n",
      "03-01-05-02-02-01-06.wav\n",
      "03-01-05-02-02-02-06.wav\n",
      "03-01-06-01-01-01-06.wav\n",
      "03-01-06-01-01-02-06.wav\n",
      "03-01-06-01-02-01-06.wav\n",
      "03-01-06-01-02-02-06.wav\n",
      "03-01-06-02-01-01-06.wav\n",
      "03-01-06-02-01-02-06.wav\n",
      "03-01-06-02-02-01-06.wav\n",
      "03-01-06-02-02-02-06.wav\n",
      "03-01-07-01-01-01-06.wav\n",
      "03-01-07-01-01-02-06.wav\n",
      "03-01-07-01-02-01-06.wav\n",
      "03-01-07-01-02-02-06.wav\n",
      "03-01-07-02-01-01-06.wav\n",
      "03-01-07-02-01-02-06.wav\n",
      "03-01-07-02-02-01-06.wav\n",
      "03-01-07-02-02-02-06.wav\n",
      "03-01-01-01-01-01-07.wav\n",
      "03-01-01-01-01-02-07.wav\n",
      "03-01-01-01-02-01-07.wav\n",
      "03-01-01-01-02-02-07.wav\n",
      "03-01-03-01-01-01-07.wav\n",
      "03-01-03-01-01-02-07.wav\n",
      "03-01-03-01-02-01-07.wav\n",
      "03-01-03-01-02-02-07.wav\n",
      "03-01-03-02-01-01-07.wav\n",
      "03-01-03-02-01-02-07.wav\n",
      "03-01-03-02-02-01-07.wav\n",
      "03-01-03-02-02-02-07.wav\n",
      "03-01-04-01-01-01-07.wav\n",
      "03-01-04-01-01-02-07.wav\n",
      "03-01-04-01-02-01-07.wav\n",
      "03-01-04-01-02-02-07.wav\n",
      "03-01-04-02-01-01-07.wav\n",
      "03-01-04-02-01-02-07.wav\n",
      "03-01-04-02-02-01-07.wav\n",
      "03-01-04-02-02-02-07.wav\n",
      "03-01-05-01-01-01-07.wav\n",
      "03-01-05-01-01-02-07.wav\n",
      "03-01-05-01-02-01-07.wav\n",
      "03-01-05-01-02-02-07.wav\n",
      "03-01-05-02-01-01-07.wav\n",
      "03-01-05-02-01-02-07.wav\n",
      "03-01-05-02-02-01-07.wav\n",
      "03-01-05-02-02-02-07.wav\n",
      "03-01-06-01-01-01-07.wav\n",
      "03-01-06-01-01-02-07.wav\n",
      "03-01-06-01-02-01-07.wav\n",
      "03-01-06-01-02-02-07.wav\n",
      "03-01-06-02-01-01-07.wav\n",
      "03-01-06-02-01-02-07.wav\n",
      "03-01-06-02-02-01-07.wav\n",
      "03-01-06-02-02-02-07.wav\n",
      "03-01-07-01-01-01-07.wav\n",
      "03-01-07-01-01-02-07.wav\n",
      "03-01-07-01-02-01-07.wav\n",
      "03-01-07-01-02-02-07.wav\n",
      "03-01-07-02-01-01-07.wav\n",
      "03-01-07-02-01-02-07.wav\n",
      "03-01-07-02-02-01-07.wav\n",
      "03-01-07-02-02-02-07.wav\n",
      "03-01-01-01-01-01-08.wav\n",
      "03-01-01-01-01-02-08.wav\n",
      "03-01-01-01-02-01-08.wav\n",
      "03-01-01-01-02-02-08.wav\n",
      "03-01-03-01-01-01-08.wav\n",
      "03-01-03-01-01-02-08.wav\n",
      "03-01-03-01-02-01-08.wav\n",
      "03-01-03-01-02-02-08.wav\n",
      "03-01-03-02-01-01-08.wav\n",
      "03-01-03-02-01-02-08.wav\n",
      "03-01-03-02-02-01-08.wav\n",
      "03-01-03-02-02-02-08.wav\n",
      "03-01-04-01-01-01-08.wav\n",
      "03-01-04-01-01-02-08.wav\n",
      "03-01-04-01-02-01-08.wav\n",
      "03-01-04-01-02-02-08.wav\n",
      "03-01-04-02-01-01-08.wav\n",
      "03-01-04-02-01-02-08.wav\n",
      "03-01-04-02-02-01-08.wav\n",
      "03-01-04-02-02-02-08.wav\n"
     ]
    },
    {
     "name": "stdout",
     "output_type": "stream",
     "text": [
      "03-01-05-01-01-01-08.wav\n",
      "03-01-05-01-01-02-08.wav\n",
      "03-01-05-01-02-01-08.wav\n",
      "03-01-05-01-02-02-08.wav\n",
      "03-01-05-02-01-01-08.wav\n",
      "03-01-05-02-01-02-08.wav\n",
      "03-01-05-02-02-01-08.wav\n",
      "03-01-05-02-02-02-08.wav\n",
      "03-01-06-01-01-01-08.wav\n",
      "03-01-06-01-01-02-08.wav\n",
      "03-01-06-01-02-01-08.wav\n",
      "03-01-06-01-02-02-08.wav\n",
      "03-01-06-02-01-01-08.wav\n",
      "03-01-06-02-01-02-08.wav\n",
      "03-01-06-02-02-01-08.wav\n",
      "03-01-06-02-02-02-08.wav\n",
      "03-01-07-01-01-01-08.wav\n",
      "03-01-07-01-01-02-08.wav\n",
      "03-01-07-01-02-01-08.wav\n",
      "03-01-07-01-02-02-08.wav\n",
      "03-01-07-02-01-01-08.wav\n",
      "03-01-07-02-01-02-08.wav\n",
      "03-01-07-02-02-01-08.wav\n",
      "03-01-07-02-02-02-08.wav\n",
      "03-01-01-01-01-01-09.wav\n",
      "03-01-01-01-01-02-09.wav\n",
      "03-01-01-01-02-01-09.wav\n",
      "03-01-01-01-02-02-09.wav\n",
      "03-01-03-01-01-01-09.wav\n",
      "03-01-03-01-01-02-09.wav\n",
      "03-01-03-01-02-01-09.wav\n",
      "03-01-03-01-02-02-09.wav\n",
      "03-01-03-02-01-01-09.wav\n",
      "03-01-03-02-01-02-09.wav\n",
      "03-01-03-02-02-01-09.wav\n",
      "03-01-03-02-02-02-09.wav\n",
      "03-01-04-01-01-01-09.wav\n",
      "03-01-04-01-01-02-09.wav\n",
      "03-01-04-01-02-01-09.wav\n",
      "03-01-04-01-02-02-09.wav\n",
      "03-01-04-02-01-01-09.wav\n",
      "03-01-04-02-01-02-09.wav\n",
      "03-01-04-02-02-01-09.wav\n",
      "03-01-04-02-02-02-09.wav\n",
      "03-01-05-01-01-01-09.wav\n",
      "03-01-05-01-01-02-09.wav\n",
      "03-01-05-01-02-01-09.wav\n",
      "03-01-05-01-02-02-09.wav\n",
      "03-01-05-02-01-01-09.wav\n",
      "03-01-05-02-01-02-09.wav\n",
      "03-01-05-02-02-01-09.wav\n",
      "03-01-05-02-02-02-09.wav\n",
      "03-01-06-01-01-01-09.wav\n",
      "03-01-06-01-01-02-09.wav\n",
      "03-01-06-01-02-01-09.wav\n",
      "03-01-06-01-02-02-09.wav\n",
      "03-01-06-02-01-01-09.wav\n",
      "03-01-06-02-01-02-09.wav\n",
      "03-01-06-02-02-01-09.wav\n",
      "03-01-06-02-02-02-09.wav\n",
      "03-01-07-01-01-01-09.wav\n",
      "03-01-07-01-01-02-09.wav\n",
      "03-01-07-01-02-01-09.wav\n",
      "03-01-07-01-02-02-09.wav\n",
      "03-01-07-02-01-01-09.wav\n",
      "03-01-07-02-01-02-09.wav\n",
      "03-01-07-02-02-01-09.wav\n",
      "03-01-07-02-02-02-09.wav\n",
      "03-01-01-01-01-01-10.wav\n",
      "03-01-01-01-01-02-10.wav\n",
      "03-01-01-01-02-01-10.wav\n",
      "03-01-01-01-02-02-10.wav\n",
      "03-01-03-01-01-01-10.wav\n",
      "03-01-03-01-01-02-10.wav\n",
      "03-01-03-01-02-01-10.wav\n",
      "03-01-03-01-02-02-10.wav\n",
      "03-01-03-02-01-01-10.wav\n",
      "03-01-03-02-01-02-10.wav\n",
      "03-01-03-02-02-01-10.wav\n",
      "03-01-03-02-02-02-10.wav\n",
      "03-01-04-01-01-01-10.wav\n",
      "03-01-04-01-01-02-10.wav\n",
      "03-01-04-01-02-01-10.wav\n",
      "03-01-04-01-02-02-10.wav\n",
      "03-01-04-02-01-01-10.wav\n",
      "03-01-04-02-01-02-10.wav\n",
      "03-01-04-02-02-01-10.wav\n",
      "03-01-04-02-02-02-10.wav\n",
      "03-01-05-01-01-01-10.wav\n",
      "03-01-05-01-01-02-10.wav\n",
      "03-01-05-01-02-01-10.wav\n",
      "03-01-05-01-02-02-10.wav\n",
      "03-01-05-02-01-01-10.wav\n",
      "03-01-05-02-01-02-10.wav\n",
      "03-01-05-02-02-01-10.wav\n",
      "03-01-05-02-02-02-10.wav\n",
      "03-01-06-01-01-01-10.wav\n",
      "03-01-06-01-01-02-10.wav\n",
      "03-01-06-01-02-01-10.wav\n",
      "03-01-06-01-02-02-10.wav\n",
      "03-01-06-02-01-01-10.wav\n",
      "03-01-06-02-01-02-10.wav\n",
      "03-01-06-02-02-01-10.wav\n",
      "03-01-06-02-02-02-10.wav\n",
      "03-01-07-01-01-01-10.wav\n",
      "03-01-07-01-01-02-10.wav\n",
      "03-01-07-01-02-01-10.wav\n",
      "03-01-07-01-02-02-10.wav\n",
      "03-01-07-02-01-01-10.wav\n",
      "03-01-07-02-01-02-10.wav\n",
      "03-01-07-02-02-01-10.wav\n",
      "03-01-07-02-02-02-10.wav\n",
      "03-01-01-01-01-01-11.wav\n",
      "03-01-01-01-01-02-11.wav\n",
      "03-01-01-01-02-01-11.wav\n",
      "03-01-01-01-02-02-11.wav\n",
      "03-01-03-01-01-01-11.wav\n",
      "03-01-03-01-01-02-11.wav\n",
      "03-01-03-01-02-01-11.wav\n",
      "03-01-03-01-02-02-11.wav\n",
      "03-01-03-02-01-01-11.wav\n",
      "03-01-03-02-01-02-11.wav\n",
      "03-01-03-02-02-01-11.wav\n",
      "03-01-03-02-02-02-11.wav\n",
      "03-01-04-01-01-01-11.wav\n",
      "03-01-04-01-01-02-11.wav\n",
      "03-01-04-01-02-01-11.wav\n",
      "03-01-04-01-02-02-11.wav\n",
      "03-01-04-02-01-01-11.wav\n",
      "03-01-04-02-01-02-11.wav\n",
      "03-01-04-02-02-01-11.wav\n",
      "03-01-04-02-02-02-11.wav\n",
      "03-01-05-01-01-01-11.wav\n",
      "03-01-05-01-01-02-11.wav\n",
      "03-01-05-01-02-01-11.wav\n",
      "03-01-05-01-02-02-11.wav\n",
      "03-01-05-02-01-01-11.wav\n",
      "03-01-05-02-01-02-11.wav\n",
      "03-01-05-02-02-01-11.wav\n",
      "03-01-05-02-02-02-11.wav\n",
      "03-01-06-01-01-01-11.wav\n",
      "03-01-06-01-01-02-11.wav\n",
      "03-01-06-01-02-01-11.wav\n",
      "03-01-06-01-02-02-11.wav\n",
      "03-01-06-02-01-01-11.wav\n",
      "03-01-06-02-01-02-11.wav\n",
      "03-01-06-02-02-01-11.wav\n",
      "03-01-06-02-02-02-11.wav\n",
      "03-01-07-01-01-01-11.wav\n",
      "03-01-07-01-01-02-11.wav\n",
      "03-01-07-01-02-01-11.wav\n",
      "03-01-07-01-02-02-11.wav\n",
      "03-01-07-02-01-01-11.wav\n",
      "03-01-07-02-01-02-11.wav\n",
      "03-01-07-02-02-01-11.wav\n",
      "03-01-07-02-02-02-11.wav\n",
      "03-01-01-01-01-01-12.wav\n",
      "03-01-01-01-01-02-12.wav\n",
      "03-01-01-01-02-01-12.wav\n",
      "03-01-01-01-02-02-12.wav\n",
      "03-01-03-01-01-01-12.wav\n",
      "03-01-03-01-01-02-12.wav\n",
      "03-01-03-01-02-01-12.wav\n",
      "03-01-03-01-02-02-12.wav\n",
      "03-01-03-02-01-01-12.wav\n",
      "03-01-03-02-01-02-12.wav\n",
      "03-01-03-02-02-01-12.wav\n",
      "03-01-03-02-02-02-12.wav\n",
      "03-01-04-01-01-01-12.wav\n",
      "03-01-04-01-01-02-12.wav\n",
      "03-01-04-01-02-01-12.wav\n",
      "03-01-04-01-02-02-12.wav\n",
      "03-01-04-02-01-01-12.wav\n",
      "03-01-04-02-01-02-12.wav\n",
      "03-01-04-02-02-01-12.wav\n",
      "03-01-04-02-02-02-12.wav\n",
      "03-01-05-01-01-01-12.wav\n",
      "03-01-05-01-01-02-12.wav\n",
      "03-01-05-01-02-01-12.wav\n",
      "03-01-05-01-02-02-12.wav\n",
      "03-01-05-02-01-01-12.wav\n",
      "03-01-05-02-01-02-12.wav\n",
      "03-01-05-02-02-01-12.wav\n",
      "03-01-05-02-02-02-12.wav\n",
      "03-01-06-01-01-01-12.wav\n",
      "03-01-06-01-01-02-12.wav\n",
      "03-01-06-01-02-01-12.wav\n",
      "03-01-06-01-02-02-12.wav\n",
      "03-01-06-02-01-01-12.wav\n",
      "03-01-06-02-01-02-12.wav\n",
      "03-01-06-02-02-01-12.wav\n",
      "03-01-06-02-02-02-12.wav\n",
      "03-01-07-01-01-01-12.wav\n",
      "03-01-07-01-01-02-12.wav\n",
      "03-01-07-01-02-01-12.wav\n",
      "03-01-07-01-02-02-12.wav\n",
      "03-01-07-02-01-01-12.wav\n",
      "03-01-07-02-01-02-12.wav\n",
      "03-01-07-02-02-01-12.wav\n",
      "03-01-07-02-02-02-12.wav\n",
      "03-01-01-01-01-01-13.wav\n",
      "03-01-01-01-01-02-13.wav\n",
      "03-01-01-01-02-01-13.wav\n",
      "03-01-01-01-02-02-13.wav\n",
      "03-01-03-01-01-01-13.wav\n",
      "03-01-03-01-01-02-13.wav\n",
      "03-01-03-01-02-01-13.wav\n",
      "03-01-03-01-02-02-13.wav\n",
      "03-01-03-02-01-01-13.wav\n",
      "03-01-03-02-01-02-13.wav\n",
      "03-01-03-02-02-01-13.wav\n",
      "03-01-03-02-02-02-13.wav\n",
      "03-01-04-01-01-01-13.wav\n",
      "03-01-04-01-01-02-13.wav\n",
      "03-01-04-01-02-01-13.wav\n",
      "03-01-04-01-02-02-13.wav\n",
      "03-01-04-02-01-01-13.wav\n",
      "03-01-04-02-01-02-13.wav\n",
      "03-01-04-02-02-01-13.wav\n",
      "03-01-04-02-02-02-13.wav\n",
      "03-01-05-01-01-01-13.wav\n",
      "03-01-05-01-01-02-13.wav\n",
      "03-01-05-01-02-01-13.wav\n",
      "03-01-05-01-02-02-13.wav\n",
      "03-01-05-02-01-01-13.wav\n",
      "03-01-05-02-01-02-13.wav\n",
      "03-01-05-02-02-01-13.wav\n",
      "03-01-05-02-02-02-13.wav\n",
      "03-01-06-01-01-01-13.wav\n",
      "03-01-06-01-01-02-13.wav\n",
      "03-01-06-01-02-01-13.wav\n",
      "03-01-06-01-02-02-13.wav\n",
      "03-01-06-02-01-01-13.wav\n",
      "03-01-06-02-01-02-13.wav\n",
      "03-01-06-02-02-01-13.wav\n",
      "03-01-06-02-02-02-13.wav\n",
      "03-01-07-01-01-01-13.wav\n",
      "03-01-07-01-01-02-13.wav\n",
      "03-01-07-01-02-01-13.wav\n",
      "03-01-07-01-02-02-13.wav\n",
      "03-01-07-02-01-01-13.wav\n",
      "03-01-07-02-01-02-13.wav\n",
      "03-01-07-02-02-01-13.wav\n",
      "03-01-07-02-02-02-13.wav\n",
      "03-01-01-01-01-01-14.wav\n",
      "03-01-01-01-01-02-14.wav\n",
      "03-01-01-01-02-01-14.wav\n",
      "03-01-01-01-02-02-14.wav\n",
      "03-01-03-01-01-01-14.wav\n",
      "03-01-03-01-01-02-14.wav\n",
      "03-01-03-01-02-01-14.wav\n",
      "03-01-03-01-02-02-14.wav\n",
      "03-01-03-02-01-01-14.wav\n",
      "03-01-03-02-01-02-14.wav\n",
      "03-01-03-02-02-01-14.wav\n",
      "03-01-03-02-02-02-14.wav\n",
      "03-01-04-01-01-01-14.wav\n",
      "03-01-04-01-01-02-14.wav\n",
      "03-01-04-01-02-01-14.wav\n",
      "03-01-04-01-02-02-14.wav\n",
      "03-01-04-02-01-01-14.wav\n",
      "03-01-04-02-01-02-14.wav\n",
      "03-01-04-02-02-01-14.wav\n",
      "03-01-04-02-02-02-14.wav\n",
      "03-01-05-01-01-01-14.wav\n",
      "03-01-05-01-01-02-14.wav\n",
      "03-01-05-01-02-01-14.wav\n",
      "03-01-05-01-02-02-14.wav\n",
      "03-01-05-02-01-01-14.wav\n",
      "03-01-05-02-01-02-14.wav\n",
      "03-01-05-02-02-01-14.wav\n",
      "03-01-05-02-02-02-14.wav\n",
      "03-01-06-01-01-01-14.wav\n",
      "03-01-06-01-01-02-14.wav\n",
      "03-01-06-01-02-01-14.wav\n",
      "03-01-06-01-02-02-14.wav\n",
      "03-01-06-02-01-01-14.wav\n",
      "03-01-06-02-01-02-14.wav\n",
      "03-01-06-02-02-01-14.wav\n",
      "03-01-06-02-02-02-14.wav\n",
      "03-01-07-01-01-01-14.wav\n",
      "03-01-07-01-01-02-14.wav\n",
      "03-01-07-01-02-01-14.wav\n",
      "03-01-07-01-02-02-14.wav\n",
      "03-01-07-02-01-01-14.wav\n",
      "03-01-07-02-01-02-14.wav\n",
      "03-01-07-02-02-01-14.wav\n",
      "03-01-07-02-02-02-14.wav\n",
      "03-01-01-01-01-01-15.wav\n",
      "03-01-01-01-01-02-15.wav\n",
      "03-01-01-01-02-01-15.wav\n",
      "03-01-01-01-02-02-15.wav\n",
      "03-01-03-01-01-01-15.wav\n",
      "03-01-03-01-01-02-15.wav\n",
      "03-01-03-01-02-01-15.wav\n",
      "03-01-03-01-02-02-15.wav\n",
      "03-01-03-02-01-01-15.wav\n",
      "03-01-03-02-01-02-15.wav\n",
      "03-01-03-02-02-01-15.wav\n",
      "03-01-03-02-02-02-15.wav\n",
      "03-01-04-01-01-01-15.wav\n",
      "03-01-04-01-01-02-15.wav\n",
      "03-01-04-01-02-01-15.wav\n",
      "03-01-04-01-02-02-15.wav\n",
      "03-01-04-02-01-01-15.wav\n",
      "03-01-04-02-01-02-15.wav\n",
      "03-01-04-02-02-01-15.wav\n",
      "03-01-04-02-02-02-15.wav\n",
      "03-01-05-01-01-01-15.wav\n",
      "03-01-05-01-01-02-15.wav\n",
      "03-01-05-01-02-01-15.wav\n",
      "03-01-05-01-02-02-15.wav\n",
      "03-01-05-02-01-01-15.wav\n",
      "03-01-05-02-01-02-15.wav\n",
      "03-01-05-02-02-01-15.wav\n",
      "03-01-05-02-02-02-15.wav\n",
      "03-01-06-01-01-01-15.wav\n",
      "03-01-06-01-01-02-15.wav\n",
      "03-01-06-01-02-01-15.wav\n",
      "03-01-06-01-02-02-15.wav\n",
      "03-01-06-02-01-01-15.wav\n",
      "03-01-06-02-01-02-15.wav\n",
      "03-01-06-02-02-01-15.wav\n",
      "03-01-06-02-02-02-15.wav\n",
      "03-01-07-01-01-01-15.wav\n",
      "03-01-07-01-01-02-15.wav\n",
      "03-01-07-01-02-01-15.wav\n",
      "03-01-07-01-02-02-15.wav\n"
     ]
    },
    {
     "name": "stdout",
     "output_type": "stream",
     "text": [
      "03-01-07-02-01-01-15.wav\n",
      "03-01-07-02-01-02-15.wav\n",
      "03-01-07-02-02-01-15.wav\n",
      "03-01-07-02-02-02-15.wav\n",
      "03-01-01-01-01-01-16.wav\n",
      "03-01-01-01-01-02-16.wav\n",
      "03-01-01-01-02-01-16.wav\n",
      "03-01-01-01-02-02-16.wav\n",
      "03-01-03-01-01-01-16.wav\n",
      "03-01-03-01-01-02-16.wav\n",
      "03-01-03-01-02-01-16.wav\n",
      "03-01-03-01-02-02-16.wav\n",
      "03-01-03-02-01-01-16.wav\n",
      "03-01-03-02-01-02-16.wav\n",
      "03-01-03-02-02-01-16.wav\n",
      "03-01-03-02-02-02-16.wav\n",
      "03-01-04-01-01-01-16.wav\n",
      "03-01-04-01-01-02-16.wav\n",
      "03-01-04-01-02-01-16.wav\n",
      "03-01-04-01-02-02-16.wav\n",
      "03-01-04-02-01-01-16.wav\n",
      "03-01-04-02-01-02-16.wav\n",
      "03-01-04-02-02-01-16.wav\n",
      "03-01-04-02-02-02-16.wav\n",
      "03-01-05-01-01-01-16.wav\n",
      "03-01-05-01-01-02-16.wav\n",
      "03-01-05-01-02-01-16.wav\n",
      "03-01-05-01-02-02-16.wav\n",
      "03-01-05-02-01-01-16.wav\n",
      "03-01-05-02-01-02-16.wav\n",
      "03-01-05-02-02-01-16.wav\n",
      "03-01-05-02-02-02-16.wav\n",
      "03-01-06-01-01-01-16.wav\n",
      "03-01-06-01-01-02-16.wav\n",
      "03-01-06-01-02-01-16.wav\n",
      "03-01-06-01-02-02-16.wav\n",
      "03-01-06-02-01-01-16.wav\n",
      "03-01-06-02-01-02-16.wav\n",
      "03-01-06-02-02-01-16.wav\n",
      "03-01-06-02-02-02-16.wav\n",
      "03-01-07-01-01-01-16.wav\n",
      "03-01-07-01-01-02-16.wav\n",
      "03-01-07-01-02-01-16.wav\n",
      "03-01-07-01-02-02-16.wav\n",
      "03-01-07-02-01-01-16.wav\n",
      "03-01-07-02-01-02-16.wav\n",
      "03-01-07-02-02-01-16.wav\n",
      "03-01-07-02-02-02-16.wav\n",
      "03-01-01-01-01-01-17.wav\n",
      "03-01-01-01-01-02-17.wav\n",
      "03-01-01-01-02-01-17.wav\n",
      "03-01-01-01-02-02-17.wav\n",
      "03-01-03-01-01-01-17.wav\n",
      "03-01-03-01-01-02-17.wav\n",
      "03-01-03-01-02-01-17.wav\n",
      "03-01-03-01-02-02-17.wav\n",
      "03-01-03-02-01-01-17.wav\n",
      "03-01-03-02-01-02-17.wav\n",
      "03-01-03-02-02-01-17.wav\n",
      "03-01-03-02-02-02-17.wav\n",
      "03-01-04-01-01-01-17.wav\n",
      "03-01-04-01-01-02-17.wav\n",
      "03-01-04-01-02-01-17.wav\n",
      "03-01-04-01-02-02-17.wav\n",
      "03-01-04-02-01-01-17.wav\n",
      "03-01-04-02-01-02-17.wav\n",
      "03-01-04-02-02-01-17.wav\n",
      "03-01-04-02-02-02-17.wav\n",
      "03-01-05-01-01-01-17.wav\n",
      "03-01-05-01-01-02-17.wav\n",
      "03-01-05-01-02-01-17.wav\n",
      "03-01-05-01-02-02-17.wav\n",
      "03-01-05-02-01-01-17.wav\n",
      "03-01-05-02-01-02-17.wav\n",
      "03-01-05-02-02-01-17.wav\n",
      "03-01-05-02-02-02-17.wav\n",
      "03-01-06-01-01-01-17.wav\n",
      "03-01-06-01-01-02-17.wav\n",
      "03-01-06-01-02-01-17.wav\n",
      "03-01-06-01-02-02-17.wav\n",
      "03-01-06-02-01-01-17.wav\n",
      "03-01-06-02-01-02-17.wav\n",
      "03-01-06-02-02-01-17.wav\n",
      "03-01-06-02-02-02-17.wav\n",
      "03-01-07-01-01-01-17.wav\n",
      "03-01-07-01-01-02-17.wav\n",
      "03-01-07-01-02-01-17.wav\n",
      "03-01-07-01-02-02-17.wav\n",
      "03-01-07-02-01-01-17.wav\n",
      "03-01-07-02-01-02-17.wav\n",
      "03-01-07-02-02-01-17.wav\n",
      "03-01-07-02-02-02-17.wav\n",
      "03-01-01-01-01-01-18.wav\n",
      "03-01-01-01-01-02-18.wav\n",
      "03-01-01-01-02-01-18.wav\n",
      "03-01-01-01-02-02-18.wav\n",
      "03-01-03-01-01-01-18.wav\n",
      "03-01-03-01-01-02-18.wav\n",
      "03-01-03-01-02-01-18.wav\n",
      "03-01-03-01-02-02-18.wav\n",
      "03-01-03-02-01-01-18.wav\n",
      "03-01-03-02-01-02-18.wav\n",
      "03-01-03-02-02-01-18.wav\n",
      "03-01-03-02-02-02-18.wav\n",
      "03-01-04-01-01-01-18.wav\n",
      "03-01-04-01-01-02-18.wav\n",
      "03-01-04-01-02-01-18.wav\n",
      "03-01-04-01-02-02-18.wav\n",
      "03-01-04-02-01-01-18.wav\n",
      "03-01-04-02-01-02-18.wav\n",
      "03-01-04-02-02-01-18.wav\n",
      "03-01-04-02-02-02-18.wav\n",
      "03-01-05-01-01-01-18.wav\n",
      "03-01-05-01-01-02-18.wav\n",
      "03-01-05-01-02-01-18.wav\n",
      "03-01-05-01-02-02-18.wav\n",
      "03-01-05-02-01-01-18.wav\n",
      "03-01-05-02-01-02-18.wav\n",
      "03-01-05-02-02-01-18.wav\n",
      "03-01-05-02-02-02-18.wav\n",
      "03-01-06-01-01-01-18.wav\n",
      "03-01-06-01-01-02-18.wav\n",
      "03-01-06-01-02-01-18.wav\n",
      "03-01-06-01-02-02-18.wav\n",
      "03-01-06-02-01-01-18.wav\n",
      "03-01-06-02-01-02-18.wav\n",
      "03-01-06-02-02-01-18.wav\n",
      "03-01-06-02-02-02-18.wav\n",
      "03-01-07-01-01-01-18.wav\n",
      "03-01-07-01-01-02-18.wav\n",
      "03-01-07-01-02-01-18.wav\n",
      "03-01-07-01-02-02-18.wav\n",
      "03-01-07-02-01-01-18.wav\n",
      "03-01-07-02-01-02-18.wav\n",
      "03-01-07-02-02-01-18.wav\n",
      "03-01-07-02-02-02-18.wav\n",
      "03-01-01-01-01-01-19.wav\n",
      "03-01-01-01-01-02-19.wav\n",
      "03-01-01-01-02-01-19.wav\n",
      "03-01-01-01-02-02-19.wav\n",
      "03-01-03-01-01-01-19.wav\n",
      "03-01-03-01-01-02-19.wav\n",
      "03-01-03-01-02-01-19.wav\n",
      "03-01-03-01-02-02-19.wav\n",
      "03-01-03-02-01-01-19.wav\n",
      "03-01-03-02-01-02-19.wav\n",
      "03-01-03-02-02-01-19.wav\n",
      "03-01-03-02-02-02-19.wav\n",
      "03-01-04-01-01-01-19.wav\n",
      "03-01-04-01-01-02-19.wav\n",
      "03-01-04-01-02-01-19.wav\n",
      "03-01-04-01-02-02-19.wav\n",
      "03-01-04-02-01-01-19.wav\n",
      "03-01-04-02-01-02-19.wav\n",
      "03-01-04-02-02-01-19.wav\n",
      "03-01-04-02-02-02-19.wav\n",
      "03-01-05-01-01-01-19.wav\n",
      "03-01-05-01-01-02-19.wav\n",
      "03-01-05-01-02-01-19.wav\n",
      "03-01-05-01-02-02-19.wav\n",
      "03-01-05-02-01-01-19.wav\n",
      "03-01-05-02-01-02-19.wav\n",
      "03-01-05-02-02-01-19.wav\n",
      "03-01-05-02-02-02-19.wav\n",
      "03-01-06-01-01-01-19.wav\n",
      "03-01-06-01-01-02-19.wav\n",
      "03-01-06-01-02-01-19.wav\n",
      "03-01-06-01-02-02-19.wav\n",
      "03-01-06-02-01-01-19.wav\n",
      "03-01-06-02-01-02-19.wav\n",
      "03-01-06-02-02-01-19.wav\n",
      "03-01-06-02-02-02-19.wav\n",
      "03-01-07-01-01-01-19.wav\n",
      "03-01-07-01-01-02-19.wav\n",
      "03-01-07-01-02-01-19.wav\n",
      "03-01-07-01-02-02-19.wav\n",
      "03-01-07-02-01-01-19.wav\n",
      "03-01-07-02-01-02-19.wav\n",
      "03-01-07-02-02-01-19.wav\n",
      "03-01-07-02-02-02-19.wav\n",
      "03-01-01-01-01-01-20.wav\n",
      "03-01-01-01-01-02-20.wav\n",
      "03-01-01-01-02-01-20.wav\n",
      "03-01-01-01-02-02-20.wav\n",
      "03-01-03-01-01-01-20.wav\n",
      "03-01-03-01-01-02-20.wav\n",
      "03-01-03-01-02-01-20.wav\n"
     ]
    },
    {
     "ename": "ValueError",
     "evalue": "cannot reshape array of size 4800 into shape (240,10)",
     "output_type": "error",
     "traceback": [
      "\u001b[1;31m---------------------------------------------------------------------------\u001b[0m",
      "\u001b[1;31mValueError\u001b[0m                                Traceback (most recent call last)",
      "\u001b[1;32m<ipython-input-17-ed6cf219c5f4>\u001b[0m in \u001b[0;36m<module>\u001b[1;34m()\u001b[0m\n\u001b[0;32m     18\u001b[0m     \u001b[1;32melse\u001b[0m\u001b[1;33m:\u001b[0m\u001b[1;33m\u001b[0m\u001b[0m\n\u001b[0;32m     19\u001b[0m         \u001b[1;32mreturn\u001b[0m \u001b[0mx\u001b[0m\u001b[1;33m,\u001b[0m\u001b[0my\u001b[0m\u001b[1;33m\u001b[0m\u001b[0m\n\u001b[1;32m---> 20\u001b[1;33m \u001b[0mRAV_data\u001b[0m\u001b[1;33m,\u001b[0m \u001b[0mRAV_label\u001b[0m\u001b[1;33m=\u001b[0m \u001b[0mload_RAVDESS\u001b[0m\u001b[1;33m(\u001b[0m\u001b[1;33m)\u001b[0m\u001b[1;33m\u001b[0m\u001b[0m\n\u001b[0m",
      "\u001b[1;32m<ipython-input-17-ed6cf219c5f4>\u001b[0m in \u001b[0;36mload_RAVDESS\u001b[1;34m(Normalization, Standardization)\u001b[0m\n\u001b[0;32m      8\u001b[0m             \u001b[1;32mcontinue\u001b[0m\u001b[1;33m\u001b[0m\u001b[0m\n\u001b[0;32m      9\u001b[0m         \u001b[0mprint\u001b[0m\u001b[1;33m(\u001b[0m\u001b[0mfile_name\u001b[0m\u001b[1;33m)\u001b[0m\u001b[1;33m\u001b[0m\u001b[0m\n\u001b[1;32m---> 10\u001b[1;33m         \u001b[0mfeature\u001b[0m\u001b[1;33m=\u001b[0m \u001b[0mextract_feature\u001b[0m\u001b[1;33m(\u001b[0m\u001b[0mfile\u001b[0m\u001b[1;33m)\u001b[0m\u001b[1;33m\u001b[0m\u001b[0m\n\u001b[0m\u001b[0;32m     11\u001b[0m         \u001b[0mx\u001b[0m\u001b[1;33m.\u001b[0m\u001b[0mappend\u001b[0m\u001b[1;33m(\u001b[0m\u001b[0mfeature\u001b[0m\u001b[1;33m)\u001b[0m\u001b[1;33m\u001b[0m\u001b[0m\n\u001b[0;32m     12\u001b[0m         \u001b[0my\u001b[0m\u001b[1;33m.\u001b[0m\u001b[0mappend\u001b[0m\u001b[1;33m(\u001b[0m\u001b[0memotion\u001b[0m\u001b[1;33m)\u001b[0m\u001b[1;33m\u001b[0m\u001b[0m\n",
      "\u001b[1;32m<ipython-input-2-dbb69bdfad87>\u001b[0m in \u001b[0;36mextract_feature\u001b[1;34m(file_name)\u001b[0m\n\u001b[0;32m      2\u001b[0m \u001b[1;32mdef\u001b[0m \u001b[0mextract_feature\u001b[0m\u001b[1;33m(\u001b[0m\u001b[0mfile_name\u001b[0m\u001b[1;33m)\u001b[0m\u001b[1;33m:\u001b[0m\u001b[1;33m\u001b[0m\u001b[0m\n\u001b[0;32m      3\u001b[0m     \u001b[0msample_rate\u001b[0m\u001b[1;33m,\u001b[0m \u001b[0mX\u001b[0m\u001b[1;33m=\u001b[0m \u001b[0maudioBasicIO\u001b[0m\u001b[1;33m.\u001b[0m\u001b[0mreadAudioFile\u001b[0m\u001b[1;33m(\u001b[0m\u001b[0mfile_name\u001b[0m\u001b[1;33m)\u001b[0m\u001b[1;33m\u001b[0m\u001b[0m\n\u001b[1;32m----> 4\u001b[1;33m     \u001b[0mfeature\u001b[0m\u001b[1;33m,\u001b[0m \u001b[0mfeature_name\u001b[0m\u001b[1;33m=\u001b[0m \u001b[0maudioFeatureExtraction\u001b[0m\u001b[1;33m.\u001b[0m\u001b[0mstFeatureExtraction\u001b[0m\u001b[1;33m(\u001b[0m\u001b[0mX\u001b[0m\u001b[1;33m,\u001b[0m \u001b[0msample_rate\u001b[0m\u001b[1;33m,\u001b[0m \u001b[1;36m0.050\u001b[0m\u001b[1;33m*\u001b[0m\u001b[0msample_rate\u001b[0m\u001b[1;33m,\u001b[0m \u001b[1;36m0.025\u001b[0m\u001b[1;33m*\u001b[0m\u001b[0msample_rate\u001b[0m\u001b[1;33m)\u001b[0m\u001b[1;33m\u001b[0m\u001b[0m\n\u001b[0m\u001b[0;32m      5\u001b[0m     \u001b[0mtemp\u001b[0m\u001b[1;33m=\u001b[0m \u001b[1;33m[\u001b[0m\u001b[1;33m]\u001b[0m\u001b[1;33m\u001b[0m\u001b[0m\n\u001b[0;32m      6\u001b[0m     \u001b[0mtemp\u001b[0m\u001b[1;33m=\u001b[0m\u001b[0mnp\u001b[0m\u001b[1;33m.\u001b[0m\u001b[0mhstack\u001b[0m\u001b[1;33m(\u001b[0m\u001b[1;33m(\u001b[0m\u001b[0mtemp\u001b[0m\u001b[1;33m,\u001b[0m \u001b[0mnp\u001b[0m\u001b[1;33m.\u001b[0m\u001b[0mconcatenate\u001b[0m\u001b[1;33m(\u001b[0m\u001b[1;33m(\u001b[0m\u001b[0mnp\u001b[0m\u001b[1;33m.\u001b[0m\u001b[0mmean\u001b[0m\u001b[1;33m(\u001b[0m\u001b[0mfeature\u001b[0m\u001b[1;33m,\u001b[0m\u001b[0maxis\u001b[0m\u001b[1;33m=\u001b[0m\u001b[1;36m1\u001b[0m\u001b[1;33m)\u001b[0m\u001b[1;33m,\u001b[0m\u001b[0mnp\u001b[0m\u001b[1;33m.\u001b[0m\u001b[0mstd\u001b[0m\u001b[1;33m(\u001b[0m\u001b[0mfeature\u001b[0m\u001b[1;33m,\u001b[0m \u001b[0maxis\u001b[0m\u001b[1;33m=\u001b[0m\u001b[1;36m1\u001b[0m\u001b[1;33m)\u001b[0m\u001b[1;33m)\u001b[0m\u001b[1;33m,\u001b[0m\u001b[0maxis\u001b[0m\u001b[1;33m=\u001b[0m\u001b[1;36m0\u001b[0m\u001b[1;33m)\u001b[0m\u001b[1;33m)\u001b[0m\u001b[1;33m)\u001b[0m\u001b[1;33m\u001b[0m\u001b[0m\n",
      "\u001b[1;32mC:\\Users\\Administrator\\Anaconda3\\lib\\site-packages\\pyAudioAnalysis\\audioFeatureExtraction.py\u001b[0m in \u001b[0;36mstFeatureExtraction\u001b[1;34m(signal, fs, win, step)\u001b[0m\n\u001b[0;32m    584\u001b[0m         \u001b[0mcurFV\u001b[0m\u001b[1;33m[\u001b[0m\u001b[1;36m0\u001b[0m\u001b[1;33m]\u001b[0m \u001b[1;33m=\u001b[0m \u001b[0mstZCR\u001b[0m\u001b[1;33m(\u001b[0m\u001b[0mx\u001b[0m\u001b[1;33m)\u001b[0m                              \u001b[1;31m# zero crossing rate\u001b[0m\u001b[1;33m\u001b[0m\u001b[0m\n\u001b[0;32m    585\u001b[0m         \u001b[0mcurFV\u001b[0m\u001b[1;33m[\u001b[0m\u001b[1;36m1\u001b[0m\u001b[1;33m]\u001b[0m \u001b[1;33m=\u001b[0m \u001b[0mstEnergy\u001b[0m\u001b[1;33m(\u001b[0m\u001b[0mx\u001b[0m\u001b[1;33m)\u001b[0m                           \u001b[1;31m# short-term energy\u001b[0m\u001b[1;33m\u001b[0m\u001b[0m\n\u001b[1;32m--> 586\u001b[1;33m         \u001b[0mcurFV\u001b[0m\u001b[1;33m[\u001b[0m\u001b[1;36m2\u001b[0m\u001b[1;33m]\u001b[0m \u001b[1;33m=\u001b[0m \u001b[0mstEnergyEntropy\u001b[0m\u001b[1;33m(\u001b[0m\u001b[0mx\u001b[0m\u001b[1;33m)\u001b[0m                    \u001b[1;31m# short-term entropy of energy\u001b[0m\u001b[1;33m\u001b[0m\u001b[0m\n\u001b[0m\u001b[0;32m    587\u001b[0m         \u001b[1;33m[\u001b[0m\u001b[0mcurFV\u001b[0m\u001b[1;33m[\u001b[0m\u001b[1;36m3\u001b[0m\u001b[1;33m]\u001b[0m\u001b[1;33m,\u001b[0m \u001b[0mcurFV\u001b[0m\u001b[1;33m[\u001b[0m\u001b[1;36m4\u001b[0m\u001b[1;33m]\u001b[0m\u001b[1;33m]\u001b[0m \u001b[1;33m=\u001b[0m \u001b[0mstSpectralCentroidAndSpread\u001b[0m\u001b[1;33m(\u001b[0m\u001b[0mX\u001b[0m\u001b[1;33m,\u001b[0m \u001b[0mfs\u001b[0m\u001b[1;33m)\u001b[0m    \u001b[1;31m# spectral centroid and spread\u001b[0m\u001b[1;33m\u001b[0m\u001b[0m\n\u001b[0;32m    588\u001b[0m         \u001b[0mcurFV\u001b[0m\u001b[1;33m[\u001b[0m\u001b[1;36m5\u001b[0m\u001b[1;33m]\u001b[0m \u001b[1;33m=\u001b[0m \u001b[0mstSpectralEntropy\u001b[0m\u001b[1;33m(\u001b[0m\u001b[0mX\u001b[0m\u001b[1;33m)\u001b[0m                  \u001b[1;31m# spectral entropy\u001b[0m\u001b[1;33m\u001b[0m\u001b[0m\n",
      "\u001b[1;32mC:\\Users\\Administrator\\Anaconda3\\lib\\site-packages\\pyAudioAnalysis\\audioFeatureExtraction.py\u001b[0m in \u001b[0;36mstEnergyEntropy\u001b[1;34m(frame, n_short_blocks)\u001b[0m\n\u001b[0;32m     37\u001b[0m             \u001b[0mframe\u001b[0m \u001b[1;33m=\u001b[0m \u001b[0mframe\u001b[0m\u001b[1;33m[\u001b[0m\u001b[1;36m0\u001b[0m\u001b[1;33m:\u001b[0m\u001b[0msub_win_len\u001b[0m \u001b[1;33m*\u001b[0m \u001b[0mn_short_blocks\u001b[0m\u001b[1;33m]\u001b[0m\u001b[1;33m\u001b[0m\u001b[0m\n\u001b[0;32m     38\u001b[0m     \u001b[1;31m# sub_wins is of size [n_short_blocks x L]\u001b[0m\u001b[1;33m\u001b[0m\u001b[1;33m\u001b[0m\u001b[0m\n\u001b[1;32m---> 39\u001b[1;33m     \u001b[0msub_wins\u001b[0m \u001b[1;33m=\u001b[0m \u001b[0mframe\u001b[0m\u001b[1;33m.\u001b[0m\u001b[0mreshape\u001b[0m\u001b[1;33m(\u001b[0m\u001b[0msub_win_len\u001b[0m\u001b[1;33m,\u001b[0m \u001b[0mn_short_blocks\u001b[0m\u001b[1;33m,\u001b[0m \u001b[0morder\u001b[0m\u001b[1;33m=\u001b[0m\u001b[1;34m'F'\u001b[0m\u001b[1;33m)\u001b[0m\u001b[1;33m.\u001b[0m\u001b[0mcopy\u001b[0m\u001b[1;33m(\u001b[0m\u001b[1;33m)\u001b[0m\u001b[1;33m\u001b[0m\u001b[0m\n\u001b[0m\u001b[0;32m     40\u001b[0m \u001b[1;33m\u001b[0m\u001b[0m\n\u001b[0;32m     41\u001b[0m     \u001b[1;31m# Compute normalized sub-frame energies:\u001b[0m\u001b[1;33m\u001b[0m\u001b[1;33m\u001b[0m\u001b[0m\n",
      "\u001b[1;31mValueError\u001b[0m: cannot reshape array of size 4800 into shape (240,10)"
     ]
    }
   ],
   "source": [
    "\n",
    "def load_RAVDESS(Normalization=False, Standardization=True):\n",
    "    x, y=[],[]\n",
    "    for file in glob.glob('C:\\\\Users\\\\Administrator\\\\Desktop\\\\RAVDESS\\\\Actor_*\\\\*.wav'):\n",
    "        file_name= os.path.basename(file)\n",
    "        emotion= RAV_emotions[file_name.split('-')[2]]\n",
    "        if emotion not in observed_emotions:\n",
    "            continue\n",
    "        print(file_name)\n",
    "        feature= extract_feature(file)\n",
    "        x.append(feature)\n",
    "        y.append(emotion)\n",
    "    x= np.array(x)\n",
    "    if Normalization:\n",
    "        return MinMaxScaler().fit_transform(x),y\n",
    "    elif Standardization:\n",
    "        return StandardScaler().fit_transform(x),y\n",
    "    else:\n",
    "        return x,y\n",
    "RAV_data, RAV_label= load_RAVDESS()"
   ]
  },
  {
   "cell_type": "code",
   "execution_count": 32,
   "metadata": {},
   "outputs": [],
   "source": [
    "file=r'C:\\Users\\Administrator\\Desktop\\RAVDESS\\Actor_20\\03-01-03-01-02-01-20.wav'\n",
    "sample_rate, X= audioBasicIO.readAudioFile(file)"
   ]
  },
  {
   "cell_type": "code",
   "execution_count": 33,
   "metadata": {},
   "outputs": [
    {
     "data": {
      "text/plain": [
       "166566"
      ]
     },
     "execution_count": 33,
     "metadata": {},
     "output_type": "execute_result"
    }
   ],
   "source": [
    "len(X)"
   ]
  },
  {
   "cell_type": "code",
   "execution_count": 36,
   "metadata": {},
   "outputs": [
    {
     "ename": "ValueError",
     "evalue": "cannot reshape array of size 2400 into shape (120,10)",
     "output_type": "error",
     "traceback": [
      "\u001b[1;31m---------------------------------------------------------------------------\u001b[0m",
      "\u001b[1;31mValueError\u001b[0m                                Traceback (most recent call last)",
      "\u001b[1;32m<ipython-input-36-8eb96408abc7>\u001b[0m in \u001b[0;36m<module>\u001b[1;34m()\u001b[0m\n\u001b[0;32m      1\u001b[0m \u001b[1;33m\u001b[0m\u001b[0m\n\u001b[1;32m----> 2\u001b[1;33m \u001b[0maudioFeatureExtraction\u001b[0m\u001b[1;33m.\u001b[0m\u001b[0mstFeatureExtraction\u001b[0m\u001b[1;33m(\u001b[0m\u001b[0mX\u001b[0m\u001b[1;33m,\u001b[0m \u001b[0msample_rate\u001b[0m\u001b[1;33m,\u001b[0m \u001b[1;36m0.025\u001b[0m\u001b[1;33m*\u001b[0m\u001b[0msample_rate\u001b[0m\u001b[1;33m,\u001b[0m \u001b[1;36m0.015\u001b[0m\u001b[1;33m*\u001b[0m\u001b[0msample_rate\u001b[0m\u001b[1;33m)\u001b[0m\u001b[1;33m\u001b[0m\u001b[0m\n\u001b[0m",
      "\u001b[1;32mC:\\Users\\Administrator\\Anaconda3\\lib\\site-packages\\pyAudioAnalysis\\audioFeatureExtraction.py\u001b[0m in \u001b[0;36mstFeatureExtraction\u001b[1;34m(signal, fs, win, step)\u001b[0m\n\u001b[0;32m    584\u001b[0m         \u001b[0mcurFV\u001b[0m\u001b[1;33m[\u001b[0m\u001b[1;36m0\u001b[0m\u001b[1;33m]\u001b[0m \u001b[1;33m=\u001b[0m \u001b[0mstZCR\u001b[0m\u001b[1;33m(\u001b[0m\u001b[0mx\u001b[0m\u001b[1;33m)\u001b[0m                              \u001b[1;31m# zero crossing rate\u001b[0m\u001b[1;33m\u001b[0m\u001b[0m\n\u001b[0;32m    585\u001b[0m         \u001b[0mcurFV\u001b[0m\u001b[1;33m[\u001b[0m\u001b[1;36m1\u001b[0m\u001b[1;33m]\u001b[0m \u001b[1;33m=\u001b[0m \u001b[0mstEnergy\u001b[0m\u001b[1;33m(\u001b[0m\u001b[0mx\u001b[0m\u001b[1;33m)\u001b[0m                           \u001b[1;31m# short-term energy\u001b[0m\u001b[1;33m\u001b[0m\u001b[0m\n\u001b[1;32m--> 586\u001b[1;33m         \u001b[0mcurFV\u001b[0m\u001b[1;33m[\u001b[0m\u001b[1;36m2\u001b[0m\u001b[1;33m]\u001b[0m \u001b[1;33m=\u001b[0m \u001b[0mstEnergyEntropy\u001b[0m\u001b[1;33m(\u001b[0m\u001b[0mx\u001b[0m\u001b[1;33m)\u001b[0m                    \u001b[1;31m# short-term entropy of energy\u001b[0m\u001b[1;33m\u001b[0m\u001b[0m\n\u001b[0m\u001b[0;32m    587\u001b[0m         \u001b[1;33m[\u001b[0m\u001b[0mcurFV\u001b[0m\u001b[1;33m[\u001b[0m\u001b[1;36m3\u001b[0m\u001b[1;33m]\u001b[0m\u001b[1;33m,\u001b[0m \u001b[0mcurFV\u001b[0m\u001b[1;33m[\u001b[0m\u001b[1;36m4\u001b[0m\u001b[1;33m]\u001b[0m\u001b[1;33m]\u001b[0m \u001b[1;33m=\u001b[0m \u001b[0mstSpectralCentroidAndSpread\u001b[0m\u001b[1;33m(\u001b[0m\u001b[0mX\u001b[0m\u001b[1;33m,\u001b[0m \u001b[0mfs\u001b[0m\u001b[1;33m)\u001b[0m    \u001b[1;31m# spectral centroid and spread\u001b[0m\u001b[1;33m\u001b[0m\u001b[0m\n\u001b[0;32m    588\u001b[0m         \u001b[0mcurFV\u001b[0m\u001b[1;33m[\u001b[0m\u001b[1;36m5\u001b[0m\u001b[1;33m]\u001b[0m \u001b[1;33m=\u001b[0m \u001b[0mstSpectralEntropy\u001b[0m\u001b[1;33m(\u001b[0m\u001b[0mX\u001b[0m\u001b[1;33m)\u001b[0m                  \u001b[1;31m# spectral entropy\u001b[0m\u001b[1;33m\u001b[0m\u001b[0m\n",
      "\u001b[1;32mC:\\Users\\Administrator\\Anaconda3\\lib\\site-packages\\pyAudioAnalysis\\audioFeatureExtraction.py\u001b[0m in \u001b[0;36mstEnergyEntropy\u001b[1;34m(frame, n_short_blocks)\u001b[0m\n\u001b[0;32m     37\u001b[0m             \u001b[0mframe\u001b[0m \u001b[1;33m=\u001b[0m \u001b[0mframe\u001b[0m\u001b[1;33m[\u001b[0m\u001b[1;36m0\u001b[0m\u001b[1;33m:\u001b[0m\u001b[0msub_win_len\u001b[0m \u001b[1;33m*\u001b[0m \u001b[0mn_short_blocks\u001b[0m\u001b[1;33m]\u001b[0m\u001b[1;33m\u001b[0m\u001b[0m\n\u001b[0;32m     38\u001b[0m     \u001b[1;31m# sub_wins is of size [n_short_blocks x L]\u001b[0m\u001b[1;33m\u001b[0m\u001b[1;33m\u001b[0m\u001b[0m\n\u001b[1;32m---> 39\u001b[1;33m     \u001b[0msub_wins\u001b[0m \u001b[1;33m=\u001b[0m \u001b[0mframe\u001b[0m\u001b[1;33m.\u001b[0m\u001b[0mreshape\u001b[0m\u001b[1;33m(\u001b[0m\u001b[0msub_win_len\u001b[0m\u001b[1;33m,\u001b[0m \u001b[0mn_short_blocks\u001b[0m\u001b[1;33m,\u001b[0m \u001b[0morder\u001b[0m\u001b[1;33m=\u001b[0m\u001b[1;34m'F'\u001b[0m\u001b[1;33m)\u001b[0m\u001b[1;33m.\u001b[0m\u001b[0mcopy\u001b[0m\u001b[1;33m(\u001b[0m\u001b[1;33m)\u001b[0m\u001b[1;33m\u001b[0m\u001b[0m\n\u001b[0m\u001b[0;32m     40\u001b[0m \u001b[1;33m\u001b[0m\u001b[0m\n\u001b[0;32m     41\u001b[0m     \u001b[1;31m# Compute normalized sub-frame energies:\u001b[0m\u001b[1;33m\u001b[0m\u001b[1;33m\u001b[0m\u001b[0m\n",
      "\u001b[1;31mValueError\u001b[0m: cannot reshape array of size 2400 into shape (120,10)"
     ]
    }
   ],
   "source": [
    "\n",
    "audioFeatureExtraction.stFeatureExtraction(X, sample_rate, 0.025*sample_rate, 0.015*sample_rate)"
   ]
  },
  {
   "cell_type": "code",
   "execution_count": null,
   "metadata": {
    "collapsed": true
   },
   "outputs": [],
   "source": []
  }
 ],
 "metadata": {
  "kernelspec": {
   "display_name": "Python 3",
   "language": "python",
   "name": "python3"
  },
  "language_info": {
   "codemirror_mode": {
    "name": "ipython",
    "version": 3
   },
   "file_extension": ".py",
   "mimetype": "text/x-python",
   "name": "python",
   "nbconvert_exporter": "python",
   "pygments_lexer": "ipython3",
   "version": "3.6.1"
  },
  "toc": {
   "base_numbering": 1,
   "nav_menu": {},
   "number_sections": true,
   "sideBar": true,
   "skip_h1_title": false,
   "title_cell": "Table of Contents",
   "title_sidebar": "Contents",
   "toc_cell": false,
   "toc_position": {},
   "toc_section_display": true,
   "toc_window_display": false
  }
 },
 "nbformat": 4,
 "nbformat_minor": 2
}
