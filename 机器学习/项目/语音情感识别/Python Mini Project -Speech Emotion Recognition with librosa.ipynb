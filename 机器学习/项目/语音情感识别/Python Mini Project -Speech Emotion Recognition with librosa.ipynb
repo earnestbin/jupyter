{
 "cells": [
  {
   "cell_type": "code",
   "execution_count": 5,
   "metadata": {
    "collapsed": true
   },
   "outputs": [],
   "source": [
    "import librosa \n",
    "import soundfile\n",
    "import os, glob, pickle\n",
    "import numpy as np\n",
    "from sklearn.model_selection import train_test_split\n",
    "from sklearn.neural_network import MLPClassifier\n",
    "from sklearn. ensemble import RandomForestClassifier\n",
    "from sklearn.svm import SVC\n",
    "from sklearn.metrics import accuracy_score\n",
    "from sklearn.preprocessing import StandardScaler\n",
    "from sklearn.preprocessing import MinMaxScaler\n",
    "from sklearn.metrics import classification_report\n",
    "from sklearn.model_selection import cross_val_score\n",
    "from sklearn.model_selection import GridSearchCV\n",
    "from xgboost import XGBClassifier\n",
    "from sklearn.neighbors import KNeighborsClassifier\n",
    "from sklearn.linear_model import LogisticRegression\n",
    "from sklearn.discriminant_analysis import LinearDiscriminantAnalysis"
   ]
  },
  {
   "cell_type": "markdown",
   "metadata": {},
   "source": [
    "## 定义一个用于提取特征的函数"
   ]
  },
  {
   "cell_type": "code",
   "execution_count": 2,
   "metadata": {
    "collapsed": true
   },
   "outputs": [],
   "source": [
    "def extract_feature(file_name, mfcc, chroma, mel):\n",
    "    X, sample_rate= librosa.load(file_name, sr= None)\n",
    "    if chroma:\n",
    "        stft= np.abs(librosa.stft(X))#短时傅里叶变换的绝对值\n",
    "    result= np.array([])\n",
    "    if mfcc:\n",
    "        mfccs= np.mean(librosa.feature.mfcc(y= X, sr= sample_rate, n_mfcc=13).T,axis=0)#最终mfcc的维度是(13,)\n",
    "        result= np.hstack((result,mfccs))\n",
    "    if mel:\n",
    "        mel= np.mean(librosa.feature.melspectrogram(y= X, sr= sample_rate).T, axis=0)#这里提取了梅尔功率谱特征，不知道这个特征有什么特殊的地方\n",
    "        result= np.hstack([result, mel])\n",
    "    if chroma:\n",
    "        chroma= np.mean(librosa.feature.chroma_stft(S=stft, sr= sample_rate).T, axis=0)\n",
    "        result= np.hstack((result, chroma))\n",
    "    return result"
   ]
  },
  {
   "cell_type": "code",
   "execution_count": 4,
   "metadata": {},
   "outputs": [],
   "source": [
    "emotions= {\n",
    "    '01':'neutral',\n",
    "    '02':'calm',\n",
    "    '03':'happiness',\n",
    "    '04':'sadness',\n",
    "    '05':'anger',\n",
    "    '06':'fear',\n",
    "    '07':'disgust',\n",
    "    '08':'surprised'\n",
    "}\n",
    "observed_emotions= ['anger','disgust','fear','happiness','sadness','neutral']\n"
   ]
  },
  {
   "cell_type": "code",
   "execution_count": 4,
   "metadata": {
    "collapsed": true
   },
   "outputs": [],
   "source": [
    "def load_RAVDESS(Normalization=False, Standardization=False):\n",
    "    x, y=[],[]\n",
    "    for file in glob.glob('C:\\\\Users\\\\Administrator\\\\Desktop\\\\RAVDESS\\\\Actor_*\\\\*.wav'):\n",
    "        file_name= os.path.basename(file)\n",
    "        emotion= emotions[file_name.split('-')[2]]\n",
    "        if emotion not in observed_emotions:\n",
    "            continue\n",
    "        feature= extract_feature(file, mfcc= True, chroma=False, mel= False)\n",
    "        x.append(feature)\n",
    "        y.append(emotion)\n",
    "    x= np.array(x)\n",
    "    if Normalization:\n",
    "        return MinMaxScaler().fit_transform(x),y\n",
    "    elif Standardization:\n",
    "        return StandardScaler().fit_transform(x),y\n",
    "    else:\n",
    "        return x,y"
   ]
  },
  {
   "cell_type": "code",
   "execution_count": 5,
   "metadata": {
    "collapsed": true
   },
   "outputs": [],
   "source": [
    "data, label=load_data(Normalization=False, Standardization=True)"
   ]
  },
  {
   "cell_type": "code",
   "execution_count": 7,
   "metadata": {
    "collapsed": true
   },
   "outputs": [],
   "source": [
    "x_train, x_test, y_train, y_test= train_test_split(data, label, random_state=0, test_size=0.25)"
   ]
  },
  {
   "cell_type": "markdown",
   "metadata": {},
   "source": [
    "## 多层感知机分类"
   ]
  },
  {
   "cell_type": "code",
   "execution_count": 14,
   "metadata": {},
   "outputs": [
    {
     "name": "stdout",
     "output_type": "stream",
     "text": [
      "              precision    recall  f1-score   support\n",
      "\n",
      "        calm       0.90      0.93      0.91        46\n",
      "     disgust       0.84      0.69      0.76        45\n",
      "     fearful       0.70      0.76      0.73        50\n",
      "       happy       0.68      0.71      0.69        51\n",
      "\n",
      "    accuracy                           0.77       192\n",
      "   macro avg       0.78      0.77      0.77       192\n",
      "weighted avg       0.77      0.77      0.77       192\n",
      "\n"
     ]
    },
    {
     "name": "stderr",
     "output_type": "stream",
     "text": [
      "C:\\Users\\Administrator\\Anaconda3\\lib\\site-packages\\sklearn\\neural_network\\multilayer_perceptron.py:566: ConvergenceWarning: Stochastic Optimizer: Maximum iterations (500) reached and the optimization hasn't converged yet.\n",
      "  % self.max_iter, ConvergenceWarning)\n"
     ]
    }
   ],
   "source": [
    "model= MLPClassifier(alpha=0.01, batch_size=256, epsilon=1e-08,hidden_layer_sizes=(300,),learning_rate='adaptive',max_iter=500,random_state=9)\n",
    "model.fit(x_train,y_train)\n",
    "y_pred= model.predict(x_test)\n",
    "print(classification_report(y_test,y_pred ))"
   ]
  },
  {
   "cell_type": "markdown",
   "metadata": {
    "collapsed": true
   },
   "source": [
    "## 支持向量机分类"
   ]
  },
  {
   "cell_type": "code",
   "execution_count": 22,
   "metadata": {},
   "outputs": [
    {
     "name": "stdout",
     "output_type": "stream",
     "text": [
      "0.765\n"
     ]
    }
   ],
   "source": [
    "model= SVC(kernel='rbf',C=10, gamma=0.1, random_state=9)\n",
    "print(cross_val_score(model, data, label, cv=100).mean())"
   ]
  },
  {
   "cell_type": "code",
   "execution_count": 23,
   "metadata": {},
   "outputs": [
    {
     "name": "stdout",
     "output_type": "stream",
     "text": [
      "              precision    recall  f1-score   support\n",
      "\n",
      "        calm       0.88      0.93      0.91        46\n",
      "     disgust       0.89      0.87      0.88        45\n",
      "     fearful       0.78      0.76      0.77        50\n",
      "       happy       0.72      0.71      0.71        51\n",
      "\n",
      "    accuracy                           0.81       192\n",
      "   macro avg       0.81      0.82      0.82       192\n",
      "weighted avg       0.81      0.81      0.81       192\n",
      "\n"
     ]
    }
   ],
   "source": [
    "model.fit(x_train,y_train)\n",
    "y_pred= model.predict(x_test)\n",
    "print(classification_report(y_test,y_pred ))"
   ]
  },
  {
   "cell_type": "markdown",
   "metadata": {},
   "source": [
    "## 随机森林"
   ]
  },
  {
   "cell_type": "code",
   "execution_count": 33,
   "metadata": {},
   "outputs": [
    {
     "name": "stdout",
     "output_type": "stream",
     "text": [
      "0.71375\n"
     ]
    }
   ],
   "source": [
    "model= RandomForestClassifier(n_estimators=100, random_state=9)\n",
    "print(cross_val_score(model, data, label, cv=100,scoring='accuracy').mean())"
   ]
  },
  {
   "cell_type": "code",
   "execution_count": 32,
   "metadata": {},
   "outputs": [
    {
     "name": "stdout",
     "output_type": "stream",
     "text": [
      "              precision    recall  f1-score   support\n",
      "\n",
      "        calm       0.76      0.98      0.86        46\n",
      "     disgust       0.72      0.58      0.64        45\n",
      "     fearful       0.57      0.54      0.56        50\n",
      "       happy       0.68      0.67      0.67        51\n",
      "\n",
      "    accuracy                           0.69       192\n",
      "   macro avg       0.68      0.69      0.68       192\n",
      "weighted avg       0.68      0.69      0.68       192\n",
      "\n"
     ]
    }
   ],
   "source": [
    "model.fit(x_train,y_train)\n",
    "y_pred= model.predict(x_test)\n",
    "print(classification_report(y_test,y_pred ))"
   ]
  },
  {
   "cell_type": "code",
   "execution_count": 34,
   "metadata": {
    "collapsed": true
   },
   "outputs": [],
   "source": [
    "temp=glob.glob('C:\\\\Users\\\\Administrator\\\\Desktop\\\\EMO-DB\\\\wav\\\\*.wav')"
   ]
  },
  {
   "cell_type": "code",
   "execution_count": 36,
   "metadata": {
    "collapsed": true
   },
   "outputs": [],
   "source": [
    "trail= temp[0]"
   ]
  },
  {
   "cell_type": "code",
   "execution_count": 39,
   "metadata": {},
   "outputs": [
    {
     "data": {
      "text/plain": [
       "'C:\\\\Users\\\\Administrator\\\\Desktop\\\\EMO-DB\\\\wav\\\\03a01Fa.wav'"
      ]
     },
     "execution_count": 39,
     "metadata": {},
     "output_type": "execute_result"
    }
   ],
   "source": [
    "temp[0]"
   ]
  },
  {
   "cell_type": "code",
   "execution_count": 43,
   "metadata": {},
   "outputs": [
    {
     "data": {
      "text/plain": [
       "'F'"
      ]
     },
     "execution_count": 43,
     "metadata": {},
     "output_type": "execute_result"
    }
   ],
   "source": [
    "os.path.basename(trail).split('.')[0][-2]"
   ]
  },
  {
   "cell_type": "markdown",
   "metadata": {
    "collapsed": true
   },
   "source": [
    "# 用EMO-DB数据库"
   ]
  },
  {
   "cell_type": "code",
   "execution_count": 2,
   "metadata": {
    "collapsed": true
   },
   "outputs": [],
   "source": [
    "emotions= {\n",
    "    'W':'anger',\n",
    "    'L':'boredom',\n",
    "    'E':'disgust',\n",
    "    'A':'fear',\n",
    "    'F':'happiness',\n",
    "    'T':'sadness',\n",
    "    'N':'neutral'\n",
    "}\n",
    "def extract_feature(file_name, mfcc, chroma, mel):\n",
    "    X, sample_rate= librosa.load(file_name, sr= None)\n",
    "    if chroma:\n",
    "        stft= np.abs(librosa.stft(X))#短时傅里叶变换的绝对值\n",
    "    result= np.array([])\n",
    "    if mfcc:\n",
    "        mfccs= np.mean(librosa.feature.mfcc(y= X, sr= sample_rate, n_mfcc=13).T,axis=0)#最终mfcc的维度是(13,)\n",
    "        result= np.hstack((result,mfccs))\n",
    "    if mel:\n",
    "        mel= np.mean(librosa.feature.melspectrogram(y= X, sr= sample_rate).T, axis=0)#这里提取了梅尔功率谱特征，不知道这个特征有什么特殊的地方\n",
    "        result= np.hstack([result, mel])\n",
    "    if chroma:\n",
    "        chroma= np.mean(librosa.feature.chroma_stft(S=stft, sr= sample_rate).T, axis=0)\n",
    "        result= np.hstack((result, chroma))\n",
    "    return result\n",
    "#导入数据，返回提取出的特征数组以及标签\n",
    "def load_emoDB(Normalization=False, Standardization=False):\n",
    "    x, y=[],[]\n",
    "    for file in glob.glob('C:\\\\Users\\\\Administrator\\\\Desktop\\\\EMO-DB\\\\wav\\\\*.wav'):\n",
    "        file_name= os.path.basename(file)\n",
    "        emotion= emotions[file_name.split('.')[0][-2]]\n",
    "        feature= extract_feature(file, mfcc= True, chroma=False, mel= False)\n",
    "        x.append(feature)\n",
    "        y.append(emotion)\n",
    "    x= np.array(x)\n",
    "    if Normalization:\n",
    "        return MinMaxScaler().fit_transform(x),y\n",
    "    elif Standardization:\n",
    "        return StandardScaler().fit_transform(x),y\n",
    "    else:\n",
    "        return x,y"
   ]
  },
  {
   "cell_type": "code",
   "execution_count": 3,
   "metadata": {
    "collapsed": true
   },
   "outputs": [],
   "source": [
    "data,label= load_emoDB(Standardization=True)"
   ]
  },
  {
   "cell_type": "code",
   "execution_count": 4,
   "metadata": {},
   "outputs": [
    {
     "name": "stdout",
     "output_type": "stream",
     "text": [
      "数据集维度： (535, 13)\n"
     ]
    }
   ],
   "source": [
    "print('数据集维度：',data.shape)"
   ]
  },
  {
   "cell_type": "code",
   "execution_count": 5,
   "metadata": {
    "collapsed": true
   },
   "outputs": [],
   "source": [
    "x_train, x_test, y_train, y_test= train_test_split(data, label, random_state=0, test_size=0.25)"
   ]
  },
  {
   "cell_type": "markdown",
   "metadata": {},
   "source": [
    "## MLP分类"
   ]
  },
  {
   "cell_type": "code",
   "execution_count": 51,
   "metadata": {},
   "outputs": [
    {
     "name": "stdout",
     "output_type": "stream",
     "text": [
      "              precision    recall  f1-score   support\n",
      "\n",
      "       anger       0.81      0.90      0.85        29\n",
      "     boredom       0.74      0.64      0.68        22\n",
      "     disgust       0.67      0.60      0.63        10\n",
      "        fear       0.87      0.72      0.79        18\n",
      "   happiness       0.65      0.61      0.63        18\n",
      "     neutral       0.75      0.83      0.79        18\n",
      "     sadness       0.77      0.89      0.83        19\n",
      "\n",
      "    accuracy                           0.76       134\n",
      "   macro avg       0.75      0.74      0.74       134\n",
      "weighted avg       0.76      0.76      0.76       134\n",
      "\n"
     ]
    },
    {
     "name": "stderr",
     "output_type": "stream",
     "text": [
      "C:\\Users\\Administrator\\Anaconda3\\lib\\site-packages\\sklearn\\neural_network\\multilayer_perceptron.py:566: ConvergenceWarning: Stochastic Optimizer: Maximum iterations (500) reached and the optimization hasn't converged yet.\n",
      "  % self.max_iter, ConvergenceWarning)\n"
     ]
    }
   ],
   "source": [
    "model= MLPClassifier(alpha=0.01, batch_size=256, epsilon=1e-08,hidden_layer_sizes=(300,),learning_rate='adaptive',max_iter=500,random_state=9)\n",
    "model.fit(x_train,y_train)\n",
    "y_pred= model.predict(x_test)\n",
    "print(classification_report(y_test,y_pred ))"
   ]
  },
  {
   "cell_type": "markdown",
   "metadata": {},
   "source": [
    "## 支持向量机分类"
   ]
  },
  {
   "cell_type": "code",
   "execution_count": 87,
   "metadata": {},
   "outputs": [
    {
     "name": "stdout",
     "output_type": "stream",
     "text": [
      "0.6296284667713239\n"
     ]
    }
   ],
   "source": [
    "model= SVC(kernel='rbf',random_state=9,C=1, gamma=0.1)\n",
    "print(cross_val_score(model, data, label, cv=10,scoring='balanced_accuracy').mean())"
   ]
  },
  {
   "cell_type": "code",
   "execution_count": 88,
   "metadata": {},
   "outputs": [
    {
     "name": "stdout",
     "output_type": "stream",
     "text": [
      "              precision    recall  f1-score   support\n",
      "\n",
      "       anger       0.74      1.00      0.85        29\n",
      "     boredom       0.89      0.36      0.52        22\n",
      "     disgust       0.75      0.60      0.67        10\n",
      "        fear       0.71      0.67      0.69        18\n",
      "   happiness       0.82      0.50      0.62        18\n",
      "     neutral       0.58      1.00      0.73        18\n",
      "     sadness       0.89      0.89      0.89        19\n",
      "\n",
      "    accuracy                           0.74       134\n",
      "   macro avg       0.77      0.72      0.71       134\n",
      "weighted avg       0.77      0.74      0.72       134\n",
      "\n"
     ]
    }
   ],
   "source": [
    "model.fit(x_train,y_train)\n",
    "y_pred= model.predict(x_test)\n",
    "print(classification_report(y_test,y_pred ))"
   ]
  },
  {
   "cell_type": "code",
   "execution_count": 86,
   "metadata": {
    "scrolled": true
   },
   "outputs": [
    {
     "name": "stdout",
     "output_type": "stream",
     "text": [
      "The best parameters are {'C': 1, 'gamma': 0.1} with a score of 0.64\n"
     ]
    },
    {
     "name": "stderr",
     "output_type": "stream",
     "text": [
      "C:\\Users\\Administrator\\Anaconda3\\lib\\site-packages\\sklearn\\model_selection\\_search.py:814: DeprecationWarning: The default of the `iid` parameter will change from True to False in version 0.22 and will be removed in 0.24. This will change numeric results when test-set sizes are unequal.\n",
      "  DeprecationWarning)\n"
     ]
    }
   ],
   "source": [
    "grid = GridSearchCV(SVC(random_state=9,kernel='rbf'), param_grid={\"C\":[0.1, 1, 10], \"gamma\": [1, 0.1, 0.01]}, cv=10)\n",
    "grid.fit(data, label)\n",
    "print(\"The best parameters are %s with a score of %0.2f\"\n",
    "      % (grid.best_params_, grid.best_score_))"
   ]
  },
  {
   "cell_type": "markdown",
   "metadata": {},
   "source": [
    "## 随机森林分类"
   ]
  },
  {
   "cell_type": "code",
   "execution_count": 49,
   "metadata": {},
   "outputs": [
    {
     "name": "stderr",
     "output_type": "stream",
     "text": [
      "C:\\Users\\Administrator\\Anaconda3\\lib\\site-packages\\sklearn\\model_selection\\_search.py:814: DeprecationWarning: The default of the `iid` parameter will change from True to False in version 0.22 and will be removed in 0.24. This will change numeric results when test-set sizes are unequal.\n",
      "  DeprecationWarning)\n"
     ]
    },
    {
     "name": "stdout",
     "output_type": "stream",
     "text": [
      "The best parameters are {'n_estimators': 200} with a score of 0.63\n"
     ]
    }
   ],
   "source": [
    "grid = GridSearchCV(RandomForestClassifier(random_state=9), param_grid={'n_estimators':[50,100,150,200,300]}, cv=10)\n",
    "grid.fit(data, label)\n",
    "print(\"The best parameters are %s with a score of %0.2f\"\n",
    "      % (grid.best_params_, grid.best_score_))"
   ]
  },
  {
   "cell_type": "code",
   "execution_count": 51,
   "metadata": {},
   "outputs": [
    {
     "name": "stdout",
     "output_type": "stream",
     "text": [
      "0.6015214547357404\n"
     ]
    }
   ],
   "source": [
    "model= RandomForestClassifier(n_estimators=200,random_state=9)\n",
    "print(cross_val_score(model, data, label, cv=10,scoring='balanced_accuracy').mean())"
   ]
  },
  {
   "cell_type": "code",
   "execution_count": 52,
   "metadata": {},
   "outputs": [
    {
     "name": "stdout",
     "output_type": "stream",
     "text": [
      "              precision    recall  f1-score   support\n",
      "\n",
      "       anger       0.67      1.00      0.81        29\n",
      "     boredom       0.62      0.36      0.46        22\n",
      "     disgust       0.71      0.50      0.59        10\n",
      "        fear       0.70      0.39      0.50        18\n",
      "   happiness       0.85      0.61      0.71        18\n",
      "     neutral       0.55      0.89      0.68        18\n",
      "     sadness       0.89      0.89      0.89        19\n",
      "\n",
      "    accuracy                           0.69       134\n",
      "   macro avg       0.71      0.66      0.66       134\n",
      "weighted avg       0.71      0.69      0.67       134\n",
      "\n"
     ]
    }
   ],
   "source": [
    "model.fit(x_train,y_train)\n",
    "y_pred= model.predict(x_test)\n",
    "print(classification_report(y_test,y_pred ))"
   ]
  },
  {
   "cell_type": "markdown",
   "metadata": {},
   "source": [
    "## XgBoost分类"
   ]
  },
  {
   "cell_type": "code",
   "execution_count": 60,
   "metadata": {},
   "outputs": [
    {
     "name": "stderr",
     "output_type": "stream",
     "text": [
      "C:\\Users\\Administrator\\Anaconda3\\lib\\site-packages\\sklearn\\model_selection\\_search.py:814: DeprecationWarning: The default of the `iid` parameter will change from True to False in version 0.22 and will be removed in 0.24. This will change numeric results when test-set sizes are unequal.\n",
      "  DeprecationWarning)\n"
     ]
    },
    {
     "name": "stdout",
     "output_type": "stream",
     "text": [
      "The best parameters are {'max_depth': 5, 'min_child_weight': 1} with a score of 0.62\n"
     ]
    }
   ],
   "source": [
    "grid = GridSearchCV(XGBClassifier(random_state=9,learning_rate=0.1,n_estimators=300), param_grid={'min_child_weight':[1,1.5,2,2.5],'max_depth':[4,5,6,7,8]}, cv=10)\n",
    "grid.fit(data, label)\n",
    "print(\"The best parameters are %s with a score of %0.2f\"\n",
    "      % (grid.best_params_, grid.best_score_))"
   ]
  },
  {
   "cell_type": "code",
   "execution_count": 64,
   "metadata": {},
   "outputs": [
    {
     "name": "stdout",
     "output_type": "stream",
     "text": [
      "0.6139368567939997\n"
     ]
    }
   ],
   "source": [
    "model= XGBClassifier(n_estimators=300,random_state=9)\n",
    "print(cross_val_score(model, data, label, cv=10,scoring='balanced_accuracy').mean())"
   ]
  },
  {
   "cell_type": "code",
   "execution_count": 65,
   "metadata": {},
   "outputs": [
    {
     "name": "stdout",
     "output_type": "stream",
     "text": [
      "              precision    recall  f1-score   support\n",
      "\n",
      "       anger       0.71      0.93      0.81        29\n",
      "     boredom       0.47      0.36      0.41        22\n",
      "     disgust       0.56      0.50      0.53        10\n",
      "        fear       0.79      0.61      0.69        18\n",
      "   happiness       0.59      0.56      0.57        18\n",
      "     neutral       0.54      0.72      0.62        18\n",
      "     sadness       0.87      0.68      0.76        19\n",
      "\n",
      "    accuracy                           0.65       134\n",
      "   macro avg       0.65      0.62      0.63       134\n",
      "weighted avg       0.65      0.65      0.64       134\n",
      "\n"
     ]
    }
   ],
   "source": [
    "model.fit(x_train,y_train)\n",
    "y_pred= model.predict(x_test)\n",
    "print(classification_report(y_test,y_pred ))"
   ]
  },
  {
   "cell_type": "markdown",
   "metadata": {},
   "source": [
    "## K近邻分类"
   ]
  },
  {
   "cell_type": "code",
   "execution_count": 70,
   "metadata": {},
   "outputs": [
    {
     "name": "stdout",
     "output_type": "stream",
     "text": [
      "The best parameters are {'n_neighbors': 10, 'p': 1, 'weights': 'distance'} with a score of 0.60\n"
     ]
    },
    {
     "name": "stderr",
     "output_type": "stream",
     "text": [
      "C:\\Users\\Administrator\\Anaconda3\\lib\\site-packages\\sklearn\\model_selection\\_search.py:814: DeprecationWarning: The default of the `iid` parameter will change from True to False in version 0.22 and will be removed in 0.24. This will change numeric results when test-set sizes are unequal.\n",
      "  DeprecationWarning)\n"
     ]
    }
   ],
   "source": [
    "param_grid = [\n",
    "    {\n",
    "        'weights':['uniform'],\n",
    "        'n_neighbors':[i for i in range(1,20)]\n",
    "    },\n",
    "    {\n",
    "        'weights':['distance'],\n",
    "        'n_neighbors':[i for i in range(1,20)],\n",
    "        'p':[i for i in range(1,6)]\n",
    "    }\n",
    "]\n",
    "grid = GridSearchCV(KNeighborsClassifier(),param_grid, n_jobs=-1,cv=10)\n",
    "grid.fit(data, label)\n",
    "print(\"The best parameters are %s with a score of %0.2f\"\n",
    "      % (grid.best_params_, grid.best_score_))"
   ]
  },
  {
   "cell_type": "code",
   "execution_count": 73,
   "metadata": {},
   "outputs": [
    {
     "name": "stdout",
     "output_type": "stream",
     "text": [
      "0.5918707482993197\n"
     ]
    }
   ],
   "source": [
    "model=KNeighborsClassifier(n_neighbors=10,weights='distance',p=1)\n",
    "print(cross_val_score(model, data, label, cv=10,scoring='balanced_accuracy').mean())"
   ]
  },
  {
   "cell_type": "code",
   "execution_count": 74,
   "metadata": {},
   "outputs": [
    {
     "name": "stdout",
     "output_type": "stream",
     "text": [
      "              precision    recall  f1-score   support\n",
      "\n",
      "       anger       0.69      0.93      0.79        29\n",
      "     boredom       0.67      0.36      0.47        22\n",
      "     disgust       0.89      0.80      0.84        10\n",
      "        fear       0.67      0.44      0.53        18\n",
      "   happiness       0.69      0.61      0.65        18\n",
      "     neutral       0.55      0.89      0.68        18\n",
      "     sadness       0.88      0.79      0.83        19\n",
      "\n",
      "    accuracy                           0.69       134\n",
      "   macro avg       0.72      0.69      0.69       134\n",
      "weighted avg       0.71      0.69      0.68       134\n",
      "\n"
     ]
    }
   ],
   "source": [
    "model.fit(x_train,y_train)\n",
    "y_pred= model.predict(x_test)\n",
    "print(classification_report(y_test,y_pred ))"
   ]
  },
  {
   "cell_type": "markdown",
   "metadata": {},
   "source": [
    "## 逻辑回归分类"
   ]
  },
  {
   "cell_type": "code",
   "execution_count": 78,
   "metadata": {},
   "outputs": [
    {
     "name": "stdout",
     "output_type": "stream",
     "text": [
      "The best parameters are {'C': 1, 'solver': 'lbfgs'} with a score of 0.60\n"
     ]
    },
    {
     "name": "stderr",
     "output_type": "stream",
     "text": [
      "C:\\Users\\Administrator\\Anaconda3\\lib\\site-packages\\sklearn\\model_selection\\_search.py:814: DeprecationWarning: The default of the `iid` parameter will change from True to False in version 0.22 and will be removed in 0.24. This will change numeric results when test-set sizes are unequal.\n",
      "  DeprecationWarning)\n",
      "C:\\Users\\Administrator\\Anaconda3\\lib\\site-packages\\sklearn\\linear_model\\logistic.py:469: FutureWarning: Default multi_class will be changed to 'auto' in 0.22. Specify the multi_class option to silence this warning.\n",
      "  \"this warning.\", FutureWarning)\n"
     ]
    }
   ],
   "source": [
    "grid = GridSearchCV(LogisticRegression(),param_grid={'C':[0.1,1,10],'solver':['lbfgs','newton-cg','liblinear']},n_jobs=-1,cv=10)\n",
    "grid.fit(data, label)\n",
    "print(\"The best parameters are %s with a score of %0.2f\"\n",
    "      % (grid.best_params_, grid.best_score_))"
   ]
  },
  {
   "cell_type": "code",
   "execution_count": 84,
   "metadata": {},
   "outputs": [
    {
     "name": "stdout",
     "output_type": "stream",
     "text": [
      "0.5815982033839178\n"
     ]
    }
   ],
   "source": [
    "model=LogisticRegression(solver='lbfgs',C=1,multi_class='auto')\n",
    "print(cross_val_score(model, data, label, cv=10,scoring='balanced_accuracy').mean())"
   ]
  },
  {
   "cell_type": "code",
   "execution_count": 85,
   "metadata": {},
   "outputs": [
    {
     "name": "stdout",
     "output_type": "stream",
     "text": [
      "              precision    recall  f1-score   support\n",
      "\n",
      "       anger       0.68      0.93      0.78        29\n",
      "     boredom       0.50      0.27      0.35        22\n",
      "     disgust       0.62      0.50      0.56        10\n",
      "        fear       0.59      0.56      0.57        18\n",
      "   happiness       0.57      0.44      0.50        18\n",
      "     neutral       0.52      0.67      0.59        18\n",
      "     sadness       0.85      0.89      0.87        19\n",
      "\n",
      "    accuracy                           0.63       134\n",
      "   macro avg       0.62      0.61      0.60       134\n",
      "weighted avg       0.62      0.63      0.61       134\n",
      "\n"
     ]
    }
   ],
   "source": [
    "model.fit(x_train,y_train)\n",
    "y_pred= model.predict(x_test)\n",
    "print(classification_report(y_test,y_pred ))"
   ]
  },
  {
   "cell_type": "markdown",
   "metadata": {},
   "source": [
    "## 线性判别分析分类器"
   ]
  },
  {
   "cell_type": "code",
   "execution_count": 94,
   "metadata": {},
   "outputs": [
    {
     "name": "stdout",
     "output_type": "stream",
     "text": [
      "The best parameters are {'n_components': 1} with a score of 0.55\n"
     ]
    },
    {
     "name": "stderr",
     "output_type": "stream",
     "text": [
      "C:\\Users\\Administrator\\Anaconda3\\lib\\site-packages\\sklearn\\model_selection\\_search.py:814: DeprecationWarning: The default of the `iid` parameter will change from True to False in version 0.22 and will be removed in 0.24. This will change numeric results when test-set sizes are unequal.\n",
      "  DeprecationWarning)\n"
     ]
    }
   ],
   "source": [
    "grid = GridSearchCV(LinearDiscriminantAnalysis(),param_grid={'n_components':[1,2,3,4,5,6]},n_jobs=-1,cv=10)\n",
    "grid.fit(data, label)\n",
    "print(\"The best parameters are %s with a score of %0.2f\"\n",
    "      % (grid.best_params_, grid.best_score_))"
   ]
  },
  {
   "cell_type": "code",
   "execution_count": 104,
   "metadata": {},
   "outputs": [
    {
     "name": "stdout",
     "output_type": "stream",
     "text": [
      "0.5341941391941392\n"
     ]
    }
   ],
   "source": [
    "model=LinearDiscriminantAnalysis(n_components=2)\n",
    "print(cross_val_score(model, data, label, cv=10,scoring='balanced_accuracy').mean())"
   ]
  },
  {
   "cell_type": "code",
   "execution_count": 105,
   "metadata": {},
   "outputs": [
    {
     "name": "stdout",
     "output_type": "stream",
     "text": [
      "              precision    recall  f1-score   support\n",
      "\n",
      "       anger       0.70      0.90      0.79        29\n",
      "     boredom       0.37      0.32      0.34        22\n",
      "     disgust       0.67      0.40      0.50        10\n",
      "        fear       0.62      0.44      0.52        18\n",
      "   happiness       0.59      0.56      0.57        18\n",
      "     neutral       0.56      0.78      0.65        18\n",
      "     sadness       0.76      0.68      0.72        19\n",
      "\n",
      "    accuracy                           0.61       134\n",
      "   macro avg       0.61      0.58      0.58       134\n",
      "weighted avg       0.61      0.61      0.60       134\n",
      "\n"
     ]
    }
   ],
   "source": [
    "model.fit(x_train,y_train)\n",
    "y_pred= model.predict(x_test)\n",
    "print(classification_report(y_test,y_pred ))"
   ]
  },
  {
   "cell_type": "code",
   "execution_count": null,
   "metadata": {
    "collapsed": true
   },
   "outputs": [],
   "source": []
  }
 ],
 "metadata": {
  "kernelspec": {
   "display_name": "Python 3",
   "language": "python",
   "name": "python3"
  },
  "language_info": {
   "codemirror_mode": {
    "name": "ipython",
    "version": 3
   },
   "file_extension": ".py",
   "mimetype": "text/x-python",
   "name": "python",
   "nbconvert_exporter": "python",
   "pygments_lexer": "ipython3",
   "version": "3.6.1"
  },
  "toc": {
   "base_numbering": 1,
   "nav_menu": {
    "height": "341px",
    "width": "241px"
   },
   "number_sections": true,
   "sideBar": true,
   "skip_h1_title": false,
   "title_cell": "Table of Contents",
   "title_sidebar": "Contents",
   "toc_cell": false,
   "toc_position": {},
   "toc_section_display": true,
   "toc_window_display": false
  }
 },
 "nbformat": 4,
 "nbformat_minor": 2
}
