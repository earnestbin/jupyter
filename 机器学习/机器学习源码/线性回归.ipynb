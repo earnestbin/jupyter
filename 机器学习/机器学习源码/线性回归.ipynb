{
 "cells": [
  {
   "cell_type": "markdown",
   "metadata": {},
   "source": [
    "## sklearn中的线性回归"
   ]
  },
  {
   "cell_type": "code",
   "execution_count": 1,
   "metadata": {},
   "outputs": [],
   "source": [
    "#数据集来源：diabets\n",
    "import matplotlib.pyplot as plt\n",
    "%matplotlib inline\n",
    "import numpy as np\n",
    "from sklearn.datasets import load_diabetes\n",
    "from sklearn.linear_model import LinearRegression\n",
    "from sklearn.metrics import mean_squared_error,r2_score\n",
    "data= load_diabetes()"
   ]
  },
  {
   "cell_type": "code",
   "execution_count": 7,
   "metadata": {},
   "outputs": [],
   "source": [
    "#x_data表示数据集中的特征\n",
    "#labels表示预测值\n",
    "x_data= data.data\n",
    "labels= data.target"
   ]
  },
  {
   "cell_type": "code",
   "execution_count": 8,
   "metadata": {},
   "outputs": [
    {
     "data": {
      "text/plain": [
       "(442, 10)"
      ]
     },
     "execution_count": 8,
     "metadata": {},
     "output_type": "execute_result"
    }
   ],
   "source": [
    "x_data.shape"
   ]
  },
  {
   "cell_type": "code",
   "execution_count": 10,
   "metadata": {},
   "outputs": [
    {
     "data": {
      "text/plain": [
       "(442,)"
      ]
     },
     "execution_count": 10,
     "metadata": {},
     "output_type": "execute_result"
    }
   ],
   "source": [
    "labels.shape"
   ]
  },
  {
   "cell_type": "code",
   "execution_count": 15,
   "metadata": {},
   "outputs": [],
   "source": [
    "X_data= x_data[:,np.newaxis,2]#抽取其中的第二列作为特征\n",
    "from sklearn.model_selection import train_test_split#划分数据集用于训练\n",
    "x_train, x_test, y_train, y_test= train_test_split(X_data,labels, random_state=True,test_size=0.3)"
   ]
  },
  {
   "cell_type": "code",
   "execution_count": 23,
   "metadata": {},
   "outputs": [],
   "source": [
    "#调用库来拟合\n",
    "model= LinearRegression(normalize=True)\n",
    "clf= model.fit(x_train, y_train)\n",
    "y_predict= clf.predict(x_test)"
   ]
  },
  {
   "cell_type": "code",
   "execution_count": 24,
   "metadata": {},
   "outputs": [],
   "source": [
    "#测试最小二乘模型在测试集上的均方误差以及R2系数\n",
    "MSE= mean_squared_error(y_predict,y_test)\n",
    "R2= r2_score(y_test,y_predict)#要注意位置，真实值放在前面，预测值放在后面，越接近1，模型越好"
   ]
  },
  {
   "cell_type": "code",
   "execution_count": 25,
   "metadata": {},
   "outputs": [
    {
     "name": "stdout",
     "output_type": "stream",
     "text": [
      "均方误差为： 4095.914373798433\n",
      "R2系数为： 0.18642576043332093\n",
      "权重为： [1030.62089764]\n"
     ]
    }
   ],
   "source": [
    "print(\"均方误差为：\",MSE)\n",
    "print(\"R2系数为：\",R2)\n",
    "print(\"权重为：\",clf.coef_)"
   ]
  },
  {
   "cell_type": "code",
   "execution_count": 19,
   "metadata": {},
   "outputs": [
    {
     "data": {
      "text/plain": [
       "[<matplotlib.lines.Line2D at 0x1e60e33c828>]"
      ]
     },
     "execution_count": 19,
     "metadata": {},
     "output_type": "execute_result"
    },
    {
     "data": {
      "image/png": "[encoded data removed]",
      "text/plain": [
       "<Figure size 432x288 with 1 Axes>"
      ]
     },
     "metadata": {
      "needs_background": "light"
     },
     "output_type": "display_data"
    }
   ],
   "source": [
    "#绘图\n",
    "plt.scatter(x_test, y_test, color=\"black\")\n",
    "plt.plot(x_test, y_predict, color= \"blue\")"
   ]
  },
  {
   "cell_type": "markdown",
   "metadata": {},
   "source": [
    "## 总结"
   ]
  },
  {
   "cell_type": "markdown",
   "metadata": {},
   "source": [
    "用一个非常简单的列子调用了sklearn中的最小二乘回归模块，学到了以下内容：\n",
    "1. sklearn中的最小二乘模块以及其中的参数\n",
    "2. 线性回归模型的评价指标"
   ]
  },
  {
   "cell_type": "code",
   "execution_count": 33,
   "metadata": {},
   "outputs": [
    {
     "data": {
      "text/plain": [
       "array([-8.01395149e-16])"
      ]
     },
     "execution_count": 33,
     "metadata": {},
     "output_type": "execute_result"
    }
   ],
   "source": [
    "np.mean(X_data,axis=0)"
   ]
  },
  {
   "cell_type": "markdown",
   "metadata": {},
   "source": [
    "## 自己写最小二乘"
   ]
  },
  {
   "cell_type": "markdown",
   "metadata": {},
   "source": [
    "根据公式：\n",
    "<img src=\"https://miro.medium.com/max/495/1*f_VhshEGxwhT4tZLDzwtgA.png\" width= 200 height=200>"
   ]
  },
  {
   "cell_type": "code",
   "execution_count": 34,
   "metadata": {},
   "outputs": [],
   "source": [
    "def LSR(x, y):\n",
    "    x_mean= np.mean(x)\n",
    "    y_mean= np.mean(y)\n",
    "    fenzi= 0\n",
    "    fenmu= 0\n",
    "    for i in range(len(x)):\n",
    "        fenzi+=(x[i]-x_mean)*(y[i]-y_mean)\n",
    "        fenmu+=(x[i]-x_mean)**2\n",
    "    m= fenzi/fenmu\n",
    "    c= y_mean-m*x_mean\n",
    "    return m,c"
   ]
  },
  {
   "cell_type": "code",
   "execution_count": 40,
   "metadata": {},
   "outputs": [],
   "source": [
    "weight, bias= LSR(x_train.flatten(),y_train)"
   ]
  },
  {
   "cell_type": "code",
   "execution_count": 41,
   "metadata": {},
   "outputs": [
    {
     "name": "stdout",
     "output_type": "stream",
     "text": [
      "权重： 1030.6208976378798\n",
      "偏置： 151.41241649570495\n"
     ]
    }
   ],
   "source": [
    "print(\"权重：\",weight)\n",
    "print(\"偏置：\",bias)"
   ]
  },
  {
   "cell_type": "code",
   "execution_count": 43,
   "metadata": {},
   "outputs": [],
   "source": [
    "y_predict2= x_test*weight+bias"
   ]
  },
  {
   "cell_type": "code",
   "execution_count": 44,
   "metadata": {},
   "outputs": [
    {
     "name": "stdout",
     "output_type": "stream",
     "text": [
      "均方误差： 4095.9143737984323\n",
      "R2误差： 0.18642576043332115\n"
     ]
    }
   ],
   "source": [
    "MSE= mean_squared_error(y_test, y_predict2)\n",
    "R2= r2_score(y_test, y_predict2)\n",
    "print(\"均方误差：\",MSE)\n",
    "print(\"R2误差：\",R2)"
   ]
  },
  {
   "cell_type": "markdown",
   "metadata": {},
   "source": [
    "## 总结\n",
    "sklearn中的linear_mdoel模块就是用的最小二乘来求解线性回归模型，我从源码角度去用最小二乘求权重和偏置，但是我的代码只能解决只有一维的情况，如果超过了一维则无能为力了"
   ]
  }
 ],
 "metadata": {
  "kernelspec": {
   "display_name": "Python 3",
   "language": "python",
   "name": "python3"
  },
  "language_info": {
   "codemirror_mode": {
    "name": "ipython",
    "version": 3
   },
   "file_extension": ".py",
   "mimetype": "text/x-python",
   "name": "python",
   "nbconvert_exporter": "python",
   "pygments_lexer": "ipython3",
   "version": "3.5.6"
  },
  "toc": {
   "base_numbering": 1,
   "nav_menu": {},
   "number_sections": true,
   "sideBar": true,
   "skip_h1_title": false,
   "title_cell": "Table of Contents",
   "title_sidebar": "Contents",
   "toc_cell": false,
   "toc_position": {},
   "toc_section_display": true,
   "toc_window_display": false
  }
 },
 "nbformat": 4,
 "nbformat_minor": 2
}
