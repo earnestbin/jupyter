{
 "cells": [
  {
   "cell_type": "markdown",
   "metadata": {},
   "source": [
    "## 206.单链表的反转"
   ]
  },
  {
   "cell_type": "code",
   "execution_count": 27,
   "metadata": {
    "collapsed": true
   },
   "outputs": [],
   "source": [
    "#节点类\n",
    "class ListNode(object):\n",
    "    def __init__(self,value):\n",
    "        self.value= value\n",
    "        self.next=None\n",
    "#链表类\n",
    "class SingleList(object):\n",
    "    def __init__(self):\n",
    "        self.head= None\n",
    "    #尾部添加元素\n",
    "    def append(self,value):\n",
    "        #如果链表为空\n",
    "        cur= ListNode(value)\n",
    "        if not self.head:\n",
    "            self.head= cur\n",
    "        else:\n",
    "            temp= self.head\n",
    "            while temp.next:\n",
    "                temp= temp.next\n",
    "            temp.next= cur\n",
    "    #首部添加元素\n",
    "    def add(self,value):\n",
    "        #如果链表为空\n",
    "        cur= ListNode(value)\n",
    "        if not self.head:\n",
    "            self.head= cur\n",
    "        else:\n",
    "            temp= self.head\n",
    "            cur.next= temp\n",
    "            self.head= cur\n",
    "    #删除固定位置节点\n",
    "    def pop(self,index):\n",
    "        #如果链表为空\n",
    "        if not self.head:\n",
    "            print(\"链表为空\")\n",
    "        else:\n",
    "            temp= self.head\n",
    "            while index>=0:\n",
    "                temp=temp.next\n",
    "                index-=1\n",
    "            self.head= temp\n",
    "    #遍历打印链表值\n",
    "    def travel(self):\n",
    "        if not self.head:\n",
    "            print(\"链表为空\")\n",
    "            return\n",
    "        res= []\n",
    "        temp= self.head\n",
    "        while temp:\n",
    "            res.append(temp.value)\n",
    "            temp= temp.next\n",
    "        print(res)"
   ]
  },
  {
   "cell_type": "code",
   "execution_count": 28,
   "metadata": {
    "collapsed": true
   },
   "outputs": [],
   "source": [
    "singlelist= SingleList()\n",
    "singlelist.append(1)\n",
    "singlelist.append(2)\n",
    "singlelist.append(3)\n",
    "singlelist.append(4)\n",
    "singlelist.append(5)"
   ]
  },
  {
   "cell_type": "code",
   "execution_count": 29,
   "metadata": {
    "collapsed": false
   },
   "outputs": [
    {
     "name": "stdout",
     "output_type": "stream",
     "text": [
      "[1, 2, 3, 4, 5]\n"
     ]
    }
   ],
   "source": [
    "singlelist.travel()"
   ]
  },
  {
   "cell_type": "code",
   "execution_count": 30,
   "metadata": {
    "collapsed": true
   },
   "outputs": [],
   "source": [
    "for i in range(5):\n",
    "    singlelist.pop(0)\n",
    "singlelist.add(5)\n",
    "singlelist.add(4)\n",
    "singlelist.add(3)\n",
    "singlelist.add(2)\n",
    "singlelist.add(1)"
   ]
  },
  {
   "cell_type": "code",
   "execution_count": 31,
   "metadata": {
    "collapsed": false
   },
   "outputs": [
    {
     "name": "stdout",
     "output_type": "stream",
     "text": [
      "[1, 2, 3, 4, 5]\n"
     ]
    }
   ],
   "source": [
    "singlelist.travel()"
   ]
  },
  {
   "cell_type": "code",
   "execution_count": null,
   "metadata": {
    "collapsed": true
   },
   "outputs": [],
   "source": [
    "#反转链表迭代法\n",
    "class Solution(object):\n",
    "    def reverseList(self,head):\n",
    "        #反转链表的固定套路就是设置pre,after指针\n",
    "        if not head:\n",
    "            return\n",
    "        pre= None\n",
    "        cur= head \n",
    "        while cur:\n",
    "            after= cur.next\n",
    "            cur.next= pre\n",
    "            pre= cur\n",
    "            cur= after\n",
    "        return pre"
   ]
  },
  {
   "cell_type": "markdown",
   "metadata": {},
   "source": [
    "反转链表虽然简单，但是我却花了很长时间翻来覆去，第一我没想到用三个指针，第二我掉入了python的浅拷贝陷阱！\n",
    "假如我是这样写的：\n",
    "```python\n",
    "    pre= None\n",
    "    cur= head\n",
    "    after= cur.next\n",
    "    cur.next= pre\n",
    "    pre= cur\n",
    "    cur= after\n",
    "    while cur:\n",
    "        cur.next=pre\n",
    "        ...\n",
    "```\n",
    "这样的话cur.next发生了变化，after也跟着发生了变化\n",
    "![title](pig.png)"
   ]
  },
  {
   "cell_type": "code",
   "execution_count": null,
   "metadata": {
    "collapsed": true
   },
   "outputs": [],
   "source": [
    "#反转链表递归法\n",
    "class Solution(object):\n",
    "    def reverseList(self, head):\n",
    "        if not head or not head.next:\n",
    "            return head\n",
    "        temp=self.reverseList(head.next)\n",
    "        head.next.next= head\n",
    "        head.next=None\n",
    "        return temp"
   ]
  },
  {
   "cell_type": "markdown",
   "metadata": {},
   "source": [
    "## 141.环形链表\n",
    "给定一个链表，判断链表中是否有环"
   ]
  },
  {
   "cell_type": "code",
   "execution_count": null,
   "metadata": {
    "collapsed": true
   },
   "outputs": [],
   "source": [
    "class Solution(object):\n",
    "    def hasCycle(self, head):\n",
    "        \"\"\"\n",
    "        :type head: ListNode\n",
    "        :rtype: bool\n",
    "        \"\"\"\n",
    "        if not head:\n",
    "            return False\n",
    "        res= []\n",
    "        while head:\n",
    "            temp= id(head)\n",
    "            if temp in res:\n",
    "                return True\n",
    "            res.append(temp)\n",
    "            head= head.next\n",
    "        return False"
   ]
  },
  {
   "cell_type": "markdown",
   "metadata": {},
   "source": [
    "上面是我的代码，我使用蛮力解的，然而还是通过了"
   ]
  },
  {
   "cell_type": "markdown",
   "metadata": {},
   "source": [
    "上面的方法也可以用哈希表(set)进行优化，这样时间复杂度就变成了O(1)，不过空间复杂度还是O(n)"
   ]
  },
  {
   "cell_type": "code",
   "execution_count": null,
   "metadata": {
    "collapsed": true
   },
   "outputs": [],
   "source": [
    "#参考资料，发现可以用快慢指针来判断是否有环\n",
    "class Solution(object):\n",
    "    def hasCycle(self, head):\n",
    "        \"\"\"\n",
    "        :type head: ListNode\n",
    "        :rtype: bool\n",
    "        \"\"\"\n",
    "        #快慢指针\n",
    "        if not head:\n",
    "            return False\n",
    "        slow= head\n",
    "        quick= head\n",
    "        while quick and quick.next:\n",
    "            quick= quick.next.next\n",
    "            slow= slow.next\n",
    "            if quick is slow:\n",
    "                return True\n",
    "        return False"
   ]
  },
  {
   "cell_type": "markdown",
   "metadata": {},
   "source": [
    "## 142.环形链表ii\n",
    "找出环形链表的入口"
   ]
  },
  {
   "cell_type": "code",
   "execution_count": null,
   "metadata": {
    "collapsed": true
   },
   "outputs": [],
   "source": [
    "class Solution(object):\n",
    "    def detectCycle(self, head):\n",
    "        \"\"\"\n",
    "        :type head: ListNode\n",
    "        :rtype: ListNode\n",
    "        \"\"\"\n",
    "        if not head:\n",
    "            return None\n",
    "        slow= quick= head\n",
    "        while quick and quick.next:\n",
    "            quick= quick.next.next\n",
    "            slow= slow.next\n",
    "            if quick is slow:\n",
    "                quick= head\n",
    "                while quick is not slow:\n",
    "                    quick= quick.next\n",
    "                    slow= slow.next\n",
    "                return quick\n",
    "        return None"
   ]
  },
  {
   "cell_type": "markdown",
   "metadata": {},
   "source": [
    "这道题目妙在怎么求环形链表的入口，可以证明head到入口的距离等于相遇点到入口的距离"
   ]
  },
  {
   "cell_type": "markdown",
   "metadata": {},
   "source": [
    "## 21.合并两个有序链表"
   ]
  },
  {
   "cell_type": "code",
   "execution_count": null,
   "metadata": {
    "collapsed": true
   },
   "outputs": [],
   "source": [
    "class Solution(object):\n",
    "    def mergeTwoLists(self,l1,l2):\n",
    "        prehead= ListNode(-1)\n",
    "        temp= prehead\n",
    "        while l1 and l2:\n",
    "            if l1.val<=l2.val:\n",
    "                temp.next=l1\n",
    "                l1= l1.next\n",
    "            else:\n",
    "                temp.next=l2\n",
    "                l2= l2.next\n",
    "            temp= temp.next\n",
    "        temp.next= l1 if l1 else l2\n",
    "        return prehead.next"
   ]
  },
  {
   "cell_type": "markdown",
   "metadata": {},
   "source": [
    "这道题目绕来绕去就是没想出来，其实题目还是很简单的，只要你设置一个pre指针就可以了"
   ]
  },
  {
   "cell_type": "markdown",
   "metadata": {},
   "source": [
    "## 83.删除排序链表中的重复元素"
   ]
  },
  {
   "cell_type": "code",
   "execution_count": null,
   "metadata": {
    "collapsed": true
   },
   "outputs": [],
   "source": [
    "class Solution(object):\n",
    "    def deleteDuplicates(self, head):\n",
    "        \"\"\"\n",
    "        :type head: ListNode\n",
    "        :rtype: ListNode\n",
    "        \"\"\"\n",
    "        if not head or not head.next:\n",
    "            return head\n",
    "        pre= ListNode(-1)\n",
    "        temp= pre\n",
    "        pre.next= head\n",
    "        dic= set()\n",
    "        while head:\n",
    "            while head and head.val in dic:\n",
    "                head= head.next\n",
    "            if head:\n",
    "                dic.add(head.val)\n",
    "                temp.next= head\n",
    "                temp= temp.next\n",
    "                head= head.next\n",
    "        if temp.next and temp.next.val in dic:\n",
    "            temp.next=None\n",
    "        return pre.next"
   ]
  },
  {
   "cell_type": "markdown",
   "metadata": {},
   "source": [
    "这道题目花了不少时间，卡在了很多小的条件上"
   ]
  },
  {
   "cell_type": "markdown",
   "metadata": {},
   "source": [
    "这道题目我没看到是排序好的，因此用了set哈希，实际上没这么麻烦，关键在于遇到：1-1-1-1这样恶心的链表怎么处理\n",
    "参考代码：\n",
    "```python\n",
    "    if not head or head.next:\n",
    "        return head\n",
    "    t= head\n",
    "    while t.next:\n",
    "        if t.val==t.next.val:\n",
    "            t.next= t.next.next\n",
    "        else:\n",
    "            t=t.next\n",
    "    return head\n",
    "```"
   ]
  },
  {
   "cell_type": "markdown",
   "metadata": {},
   "source": [
    "## 148.排序链表(中等)\n",
    "在O(nlogn)时间复杂度和常数级空间复杂度下，对链表进行排序"
   ]
  },
  {
   "cell_type": "code",
   "execution_count": null,
   "metadata": {
    "collapsed": true
   },
   "outputs": [],
   "source": [
    "class Solution(object):\n",
    "    def sortList(self, head):\n",
    "        \"\"\"\n",
    "        :type head: ListNode\n",
    "        :rtype: ListNode\n",
    "        \"\"\"\n",
    "        if not head or not head.next:\n",
    "            return head\n",
    "        dic= dict()\n",
    "        pre= ListNode(\"x\")\n",
    "        pre.next= head\n",
    "        while head:\n",
    "            dic[head]= head.val\n",
    "            head= head.next\n",
    "        sorted_List= sorted(dic.items(),key= lambda x:x[1])\n",
    "        start= sorted_List[0][0]\n",
    "        pre.next= start\n",
    "        for item in range(1,len(sorted_List)):\n",
    "            start.next= sorted_List[item][0]\n",
    "            start= start.next\n",
    "        start.next=None\n",
    "        return pre.next"
   ]
  },
  {
   "cell_type": "markdown",
   "metadata": {},
   "source": [
    "居然一次就OK了，不可思议，我的思路就是用字典保存节点和节点值，然后按照节点值排序，然后将节点串起来"
   ]
  },
  {
   "cell_type": "markdown",
   "metadata": {
    "collapsed": true
   },
   "source": [
    "## 328.奇偶链表\n",
    "给定一个单链表，将所有奇数结点和偶数结点排在一起。第一个结点视为奇数结点，第二个视为偶数"
   ]
  },
  {
   "cell_type": "code",
   "execution_count": null,
   "metadata": {
    "collapsed": true
   },
   "outputs": [],
   "source": [
    "class Solution(object):\n",
    "    def oddEvenList(self, head):\n",
    "        \"\"\"\n",
    "        :type head: ListNode\n",
    "        :rtype: ListNode\n",
    "        \"\"\"\n",
    "        if not head or not head.next:\n",
    "            return head\n",
    "        ji= head\n",
    "        ou= head.next\n",
    "        temp= head.next\n",
    "        while ou and ou.next:\n",
    "            ji.next, ou.next= ji.next.next, ou.next.next\n",
    "            ji,ou= ji.next,ou.next\n",
    "        ji.next= temp\n",
    "        return head"
   ]
  },
  {
   "cell_type": "markdown",
   "metadata": {},
   "source": [
    "这里边的while循环条件是很有意思的，当偶数结点连接完毕，这是时候就应该查看偶数结点的下一波是不是None，如果是None就结束循环"
   ]
  },
  {
   "cell_type": "markdown",
   "metadata": {
    "collapsed": true
   },
   "source": [
    "## 143.重排链表(中等)\n",
    "将给定的链表按照先首后尾的顺序重新排列  \n",
    "比如：1-2-3-4，重新排列成：1-4-2-3"
   ]
  },
  {
   "cell_type": "code",
   "execution_count": null,
   "metadata": {
    "collapsed": true
   },
   "outputs": [],
   "source": [
    "class Solution(object):\n",
    "    def reorderList(self, head):\n",
    "        \"\"\"\n",
    "        :type head: ListNode\n",
    "        :rtype: None Do not return anything, modify head in-place instead.\n",
    "        \"\"\"\n",
    "        temp= head\n",
    "        res=[]\n",
    "        while temp:\n",
    "            res.append(temp)\n",
    "            temp= temp.next\n",
    "        L= len(res)\n",
    "        left= 0\n",
    "        right= L-1\n",
    "        p= ListNode(\"x\")\n",
    "        pre= p\n",
    "        while left<=right:\n",
    "            p.next= res[left]\n",
    "            p= p.next\n",
    "            left+=1\n",
    "            p.next=res[right]\n",
    "            p= p.next\n",
    "            right-=1\n",
    "        p.next= None\n",
    "        return pre.next"
   ]
  },
  {
   "cell_type": "markdown",
   "metadata": {},
   "source": [
    "<img src=\"pic\\143.重排链表.png\",width=\"60%\">\n",
    "这道题目我很快做出来了，我的方法是通过列表，添加每个结点，然后设置左右两个指针循环，跳出循环后，将指针的next设置成None"
   ]
  },
  {
   "cell_type": "markdown",
   "metadata": {},
   "source": [
    "## 61.旋转链表(中等)\n",
    "给定一个链表，将链表的每个节点向右移动k个位置，k是非负数\n",
    "比如：1-2-3-4-5，移动2个位置，变成4-5-1-2-3"
   ]
  },
  {
   "cell_type": "code",
   "execution_count": null,
   "metadata": {
    "collapsed": true
   },
   "outputs": [],
   "source": [
    "class Solution(object):\n",
    "    def rotateRight(self, head, k):\n",
    "        \"\"\"\n",
    "        :type head: ListNode\n",
    "        :type k: int\n",
    "        :rtype: ListNode\n",
    "        \"\"\"\n",
    "        if not head or not head.next:\n",
    "            return head\n",
    "        temp= head\n",
    "        res=[]\n",
    "        while temp:\n",
    "            res.append(temp.val)\n",
    "            temp= temp.next\n",
    "        k= k%len(res)\n",
    "        out= res[len(res)-k:]+res[:len(res)-k]\n",
    "        temp= head\n",
    "        i=0\n",
    "        while temp:\n",
    "            temp.val= out[i]\n",
    "            i+=1\n",
    "            temp= temp.next\n",
    "        return head"
   ]
  },
  {
   "cell_type": "markdown",
   "metadata": {},
   "source": [
    "<img src=\"pic\\61.旋转链表.png\" width=\"60%\">\n",
    "这道题目我很快就解出来了，我是通过遍历，将节点值放到数组中，然后按照要求旋转，最后在把原来的节点值换掉\n"
   ]
  },
  {
   "cell_type": "markdown",
   "metadata": {},
   "source": [
    "## 19.删除链表的倒数第N个节点"
   ]
  },
  {
   "cell_type": "code",
   "execution_count": null,
   "metadata": {
    "collapsed": true
   },
   "outputs": [],
   "source": [
    "class Solution(object):\n",
    "    def removeNthFromEnd(self, head, n):\n",
    "        \"\"\"\n",
    "        :type head: ListNode\n",
    "        :type n: int\n",
    "        :rtype: ListNode\n",
    "        \"\"\"\n",
    "        temp= head\n",
    "        res= []\n",
    "        while temp:\n",
    "            res.append(temp)\n",
    "            temp= temp.next\n",
    "        res.pop(-n)\n",
    "        pre= ListNode(\"x\")\n",
    "        temp=pre\n",
    "        pre.next= head\n",
    "        for item in res:\n",
    "            pre.next= item\n",
    "            pre= pre.next\n",
    "        pre.next= None\n",
    "        return temp.next"
   ]
  },
  {
   "cell_type": "markdown",
   "metadata": {},
   "source": [
    "题目是很快做出来了，可以没有按照要求，我遍历的两次，要求只能遍历一次\n",
    "<img src=\"pic/19.删除链表的倒数第N个节点.png\" width=\"60%\">"
   ]
  },
  {
   "cell_type": "markdown",
   "metadata": {},
   "source": [
    "参考的方法特别牛X，一次遍历即可，设置快慢指针，然后让快指针先走n步，这样快指针就永远比慢指针多走n步，还有初始化快慢指针为pre.next= head，真尼玛牛叉  \n",
    "```python\n",
    "    class Solution(object):\n",
    "    def removeNthFromEnd(self, head, n):\n",
    "        \"\"\"\n",
    "        :type head: ListNode\n",
    "        :type n: int\n",
    "        :rtype: ListNode\n",
    "        \"\"\"\n",
    "        pre= ListNode(\"x\")\n",
    "        pre.next=head\n",
    "        slow=quick=pre\n",
    "        for i in range(n+1):\n",
    "            quick= quick.next\n",
    "        while quick:\n",
    "            quick= quick.next\n",
    "            slow= slow.next\n",
    "        slow.next= slow.next.next\n",
    "        return pre.next\n",
    "```"
   ]
  },
  {
   "cell_type": "code",
   "execution_count": null,
   "metadata": {
    "collapsed": true
   },
   "outputs": [],
   "source": []
  }
 ],
 "metadata": {
  "anaconda-cloud": {},
  "kernelspec": {
   "display_name": "Python [default]",
   "language": "python",
   "name": "python3"
  },
  "language_info": {
   "codemirror_mode": {
    "name": "ipython",
    "version": 3
   },
   "file_extension": ".py",
   "mimetype": "text/x-python",
   "name": "python",
   "nbconvert_exporter": "python",
   "pygments_lexer": "ipython3",
   "version": "3.5.6"
  },
  "toc": {
   "base_numbering": 1,
   "nav_menu": {
    "height": "521px",
    "width": "393px"
   },
   "number_sections": true,
   "sideBar": true,
   "skip_h1_title": false,
   "title_cell": "Table of Contents",
   "title_sidebar": "Contents",
   "toc_cell": false,
   "toc_position": {},
   "toc_section_display": true,
   "toc_window_display": false
  }
 },
 "nbformat": 4,
 "nbformat_minor": 1
}
