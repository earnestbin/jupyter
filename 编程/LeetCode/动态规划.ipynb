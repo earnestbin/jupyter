{
 "cells": [
  {
   "cell_type": "markdown",
   "metadata": {},
   "source": [
    "## 1025.除数博弈(简单)"
   ]
  },
  {
   "cell_type": "code",
   "execution_count": 2,
   "metadata": {},
   "outputs": [],
   "source": [
    "#动态规划\n",
    "class Solution(object):\n",
    "    def divisorGame(self,N):\n",
    "        if N<=1:\n",
    "            return False\n",
    "        DP= [False for i in range(N+1)]\n",
    "        DP[2]=True\n",
    "        for i in range(3,N+1):\n",
    "            for j in range(1,i//2):\n",
    "                if i%j==0 and not DP[i-1]:\n",
    "                    DP[i]=True\n",
    "        return DP[-1]"
   ]
  },
  {
   "cell_type": "markdown",
   "metadata": {},
   "source": [
    "这道题本可以不用动态规划，但由于是动态规划专题，因此用动态规划求解"
   ]
  },
  {
   "cell_type": "markdown",
   "metadata": {},
   "source": [
    "## 121.买卖股票的最佳时机(简单)"
   ]
  },
  {
   "cell_type": "code",
   "execution_count": 3,
   "metadata": {},
   "outputs": [],
   "source": [
    "class Solution(object):\n",
    "    def maxProfit(self, prices):\n",
    "        \"\"\"\n",
    "        :type prices: List[int]\n",
    "        :rtype: int\n",
    "        \"\"\"\n",
    "        if not prices:\n",
    "            return 0\n",
    "        res= 0\n",
    "        m=prices[0]\n",
    "        for i in range(1,len(prices)):\n",
    "            if prices[i]<m:\n",
    "                m= prices[i]\n",
    "            res= max(prices[i]-m,res)\n",
    "        return res"
   ]
  },
  {
   "cell_type": "markdown",
   "metadata": {},
   "source": [
    "一开始想用标准的动态规划格式求解，但是不知道为什么超时了，后来想到不就是比较当前股票价格和之前最低股票价格差值和之前最大理论谁大嘛"
   ]
  },
  {
   "cell_type": "markdown",
   "metadata": {},
   "source": [
    "## 53.最大子序和(简单)"
   ]
  },
  {
   "cell_type": "code",
   "execution_count": 1,
   "metadata": {},
   "outputs": [],
   "source": [
    "#动态规划求解\n",
    "class Solution(object):\n",
    "    def maxSubArray(self, nums):\n",
    "        \"\"\"\n",
    "        :type nums: List[int]\n",
    "        :rtype: int\n",
    "        \"\"\"\n",
    "        if not nums:\n",
    "            return 0\n",
    "        DP= [0 for i in range(len(nums))]\n",
    "        DP[0]= nums[0]\n",
    "        for i in range(1, len(nums)):\n",
    "            DP[i]= max(DP[i-1]+nums[i], nums[i])\n",
    "        return max(DP)  "
   ]
  },
  {
   "cell_type": "markdown",
   "metadata": {},
   "source": [
    "这道题目我没有想出来，因为我不知道怎么处理当出现负数的情况，后来发现动态规划的解法，其实未必是DP中最后一个元素是解，这道题目的解就是DP中的最大值。  \n",
    "根据这个思路，其实可以将代码进行简化。\n",
    "```python\n",
    "class Solution(object):\n",
    "    def maxSubArray(self, nums):\n",
    "        \"\"\"\n",
    "        :type nums: List[int]\n",
    "        :rtype: int\n",
    "        \"\"\"\n",
    "        L= len(nums)\n",
    "        for i in range(1, L):\n",
    "            nums[i]+=max(nums[i-1],0)\n",
    "        return max(nums)\n",
    "```\n",
    "其实这种解法的原理就是每次都保存到目前为止加上本身的最大值，往后递推的时候每次加上的都是前面的最大值"
   ]
  },
  {
   "cell_type": "markdown",
   "metadata": {},
   "source": [
    "## 746. 使用最小花费爬楼梯(简单)"
   ]
  },
  {
   "cell_type": "code",
   "execution_count": 1,
   "metadata": {},
   "outputs": [],
   "source": [
    "class Solution(object):\n",
    "    def minCostClimbingStairs(self, cost):\n",
    "        \"\"\"\n",
    "        :type cost: List[int]\n",
    "        :rtype: int\n",
    "        \"\"\"\n",
    "        DP= [0 for i in range(len(cost))]\n",
    "        DP[0]= cost[0]\n",
    "        DP[1]= cost[1]\n",
    "        for i in range(2, len(cost)):\n",
    "            DP[i]= min(DP[i-1],DP[i-2])+cost[i]\n",
    "        return min(DP[-1],DP[-2])"
   ]
  },
  {
   "cell_type": "markdown",
   "metadata": {},
   "source": [
    "这道题目不应该是简单题，首先理解起来就很困难，我不知道是不是表述的问题，或者是翻译的锅，抑或是硬是将问题凑到现实中去，显得十分生硬"
   ]
  },
  {
   "cell_type": "markdown",
   "metadata": {},
   "source": [
    "## 198.打家劫舍(简单)"
   ]
  },
  {
   "cell_type": "code",
   "execution_count": 1,
   "metadata": {},
   "outputs": [],
   "source": [
    "class Solution(object):\n",
    "    def rob(self, nums):\n",
    "        \"\"\"\n",
    "        :type nums: List[int]\n",
    "        :rtype: int\n",
    "        \"\"\"\n",
    "        if not nums:\n",
    "            return 0\n",
    "        if len(nums)==1:\n",
    "            return nums[0]\n",
    "        if len(nums)==2:\n",
    "            return max(nums[0],nums[1])\n",
    "        DP= [0 for i in range(len(nums))]\n",
    "        DP[0]= nums[0]\n",
    "        DP[1]= nums[1]\n",
    "        for i in range(2, len(nums)):\n",
    "            DP[i]= max(DP[:i-1])+nums[i]\n",
    "        return max(DP)"
   ]
  },
  {
   "cell_type": "markdown",
   "metadata": {},
   "source": [
    "这道题目没有额外的测试数据，我是绝对通过不了的。我原本的思路是将数组的偶数索引对应的值加起来，奇数索引对应的值加起来，然后判断哪个更大。给定的测试数据都过了，但是程序并没有通过，原因很简单，比如[2,1,1,2]按照我的思路是3，但是正确结果是4，后来我用动态规划来求解，上面的就是原始程序"
   ]
  },
  {
   "cell_type": "markdown",
   "metadata": {},
   "source": [
    "## 877.石子游戏"
   ]
  },
  {
   "cell_type": "code",
   "execution_count": 2,
   "metadata": {},
   "outputs": [],
   "source": [
    "class Solution(object):\n",
    "    def stoneGame(self, piles):\n",
    "        \"\"\"\n",
    "        :type piles: List[int]\n",
    "        :rtype: bool\n",
    "        \"\"\"\n",
    "        #二维数组动态规划，取左还是右 \n",
    "        L= len(piles)\n",
    "        DP= [[0 for i in range(L)] for j in range(L)]\n",
    "        #DP[i][j]表示从i到j-i+1堆石子，当前选手相对于对手多出来的石子数量\n",
    "        #二维数组左对角线上的元素值等于piles上的值，因为这个时候只有一堆石子\n",
    "        for i in range(L):\n",
    "            DP[i][i]= piles[i]\n",
    "        for i in range(L):\n",
    "            for j in range(i+1,L):\n",
    "                #DP[i][j]有两种可能，第一是取左边piles[i]，第二取右边piles[j]\n",
    "                DP[i][j]= max(piles[i]- DP[i+1][j],piles[j]-DP[i][j-1])\n",
    "        return DP[0][L-1]>0"
   ]
  },
  {
   "cell_type": "markdown",
   "metadata": {},
   "source": [
    "这道题目用动态规划来求解简直了，上面使用二维数组来求解，用二维还是一维我老是分不清楚，实际上从return的DP[0][L-1]也可以看出来，完全可以用一维数组替代二维数组。用二维来做简直是浪费时间，我将i的范围从0到1就可以大大节省时间。\n",
    "```python\n",
    "class Solution(object):\n",
    "    def stoneGame(self, piles):\n",
    "        \"\"\"\n",
    "        :type piles: List[int]\n",
    "        :rtype: bool\n",
    "        \"\"\"\n",
    "        #二维数组动态规划，取左还是右 \n",
    "        L= len(piles)\n",
    "        DP= [[0 for i in range(L)] for j in range(L)]\n",
    "        #DP[i][j]表示从i到j-i+1堆石子，当前选手相对于对手多出来的石子数量\n",
    "        #二维数组左对角线上的元素值等于piles上的值，因为这个时候只有一堆石子\n",
    "        for i in range(L):\n",
    "            DP[i][i]= piles[i]\n",
    "        for j in range(1,L):\n",
    "            #DP[i][j]有两种可能，第一是取左边piles[i]，第二取右边piles[j]\n",
    "            DP[0][j]= max(piles[0]- DP[1][j],piles[j]-DP[0][j-1])\n",
    "        return DP[0][L-1]>0\n",
    "```"
   ]
  },
  {
   "cell_type": "markdown",
   "metadata": {},
   "source": [
    "## 96.不同的二叉搜索树(中等)"
   ]
  },
  {
   "cell_type": "code",
   "execution_count": 2,
   "metadata": {},
   "outputs": [],
   "source": [
    "#动态规划\n",
    "class Solution(object):\n",
    "    def numTrees(self, n):\n",
    "        \"\"\"\n",
    "        :type n: int\n",
    "        :rtype: int\n",
    "        \"\"\"\n",
    "        DP= [0 for i in range(n+1)]\n",
    "        DP[0]=1\n",
    "        DP[1]=1\n",
    "        for i in range(2,n+1):\n",
    "            for j in range(1,i+1):\n",
    "                DP[i]+=DP[j-1]*DP[i-j]\n",
    "        return DP[-1]"
   ]
  },
  {
   "cell_type": "markdown",
   "metadata": {},
   "source": [
    "这道题目思考起来真的听费力，我没做出来，没想到可以通过递归来分析出来"
   ]
  },
  {
   "cell_type": "markdown",
   "metadata": {},
   "source": [
    "## 120.三角形最小路径和(中等)\n"
   ]
  },
  {
   "cell_type": "code",
   "execution_count": 3,
   "metadata": {},
   "outputs": [],
   "source": [
    "class Solution(object):\n",
    "    def minimumTotal(self, triangle):\n",
    "        \"\"\"\n",
    "        :type triangle: List[List[int]]\n",
    "        :rtype: int\n",
    "        \"\"\"\n",
    "        #动态规划自底而上，这里相邻的意思是下一行的元素对应的索引和这一行一样或者加一\n",
    "        m= len(triangle)\n",
    "        for i in range(m-1,0,-1):\n",
    "            for j in range(i):\n",
    "                triangle[i-1][j]+=min(triangle[i][j],triangle[i][j+1])\n",
    "        return triangle[0][0]"
   ]
  },
  {
   "cell_type": "markdown",
   "metadata": {},
   "source": [
    "这道题目相邻的概念一开始没弄清楚，后来弄清楚后自底而上求解很容易"
   ]
  },
  {
   "cell_type": "markdown",
   "metadata": {},
   "source": [
    "## \t95.不同的二叉搜索树(中等)"
   ]
  },
  {
   "cell_type": "code",
   "execution_count": 4,
   "metadata": {},
   "outputs": [],
   "source": [
    "# Definition for a binary tree node.\n",
    "# class TreeNode(object):\n",
    "#     def __init__(self, x):\n",
    "#         self.val = x\n",
    "#         self.left = None\n",
    "#         self.right = None\n",
    "\n",
    "class Solution(object):\n",
    "    def recursion(self,start, end):\n",
    "        if start>end:\n",
    "            return [None]\n",
    "        all_trees= []\n",
    "        for i in range(start,end+1):\n",
    "            left= self.recursion(start,i-1)\n",
    "            right= self.recursion(i+1,end)\n",
    "            for l in left:\n",
    "                for r in right:\n",
    "                    temp= TreeNode(i)\n",
    "                    temp.left= l\n",
    "                    temp.right= r\n",
    "                    all_trees.append(temp)\n",
    "        return all_trees\n",
    "    def generateTrees(self, n):\n",
    "        \"\"\"\n",
    "        :type n: int\n",
    "        :rtype: List[TreeNode]\n",
    "        \"\"\"\n",
    "        return self.recursion(1,n) if n else []"
   ]
  },
  {
   "cell_type": "markdown",
   "metadata": {},
   "source": [
    "这道题目很不错，是上面一道题目的升华，不是求有多少种，而是让你把每种情况都列出来，这就加大了难度。用递归来做挺不错，就是想不到"
   ]
  },
  {
   "cell_type": "markdown",
   "metadata": {},
   "source": [
    "## \t674.回文子串(中等)\n"
   ]
  },
  {
   "cell_type": "code",
   "execution_count": 5,
   "metadata": {},
   "outputs": [],
   "source": [
    "class Solution(object):\n",
    "    def countSubstrings(self, s):\n",
    "        \"\"\"\n",
    "        :type s: str\n",
    "        :rtype: int\n",
    "        \"\"\"\n",
    "        L= len(s)\n",
    "        DP= [[0 for i in range(L)] for j in range(L)]\n",
    "        for i in range(L):\n",
    "            DP[i][i]=1\n",
    "        for i in range(L):\n",
    "            for j in range(i+1,L):\n",
    "                if s[i:j+1]==s[i:j+1][::-1]:\n",
    "                    DP[j][i]=1\n",
    "        return sum(sum(i) for i in DP)"
   ]
  },
  {
   "cell_type": "markdown",
   "metadata": {},
   "source": [
    "上面的代码是伪动态规划，虽然也通过了，但是耗时太久了。\n",
    "```python\n",
    "class Solution(object):\n",
    "    def countSubstrings(self, s):\n",
    "        \"\"\"\n",
    "        :type s: str\n",
    "        :rtype: int\n",
    "        \"\"\"\n",
    "        len_s = len(s)\n",
    "        dp = [[0] * len_s for _ in range(len_s)]\n",
    "        count=len_s\n",
    "        # base case 每个字符可以是一个回文串\n",
    "        for i in range(len_s-1,-1,-1):\n",
    "            dp[i][i]=1\n",
    "            for j in range(i+1,len_s):\n",
    "                if s[i]==s[j] and (dp[i+1][j-1] or j-i==1):\n",
    "                    dp[i][j]=1\n",
    "                    count+=1\n",
    "                else:\n",
    "                    dp[i][j]=0\n",
    "        return count\n",
    "```"
   ]
  },
  {
   "cell_type": "markdown",
   "metadata": {},
   "source": [
    "## 62.不同路径"
   ]
  },
  {
   "cell_type": "code",
   "execution_count": 6,
   "metadata": {},
   "outputs": [],
   "source": [
    "class Solution(object):\n",
    "    def uniquePaths(self, m, n):\n",
    "        \"\"\"\n",
    "        :type m: int\n",
    "        :type n: int\n",
    "        :rtype: int\n",
    "        \"\"\"\n",
    "        DP= [[1 for j in range(n)] for i in range(m)]\n",
    "        for j in range(1,n):\n",
    "            DP[0][j]=1\n",
    "        for i in range(1,m):\n",
    "            for j in range(1,n):\n",
    "                DP[i][j]= DP[i-1][j]+DP[i][j-1]\n",
    "        return DP[-1][-1]"
   ]
  },
  {
   "cell_type": "markdown",
   "metadata": {},
   "source": [
    "这道题目很简单，实在算不得中等难度，答案中有一种空间复杂度为O(n)的方法很是启发\n",
    "```python\n",
    "class Solution(object):\n",
    "    def uniquePaths(self, m, n):\n",
    "        \"\"\"\n",
    "        :type m: int\n",
    "        :type n: int\n",
    "        :rtype: int\n",
    "        \"\"\"\n",
    "        cur = [1] * n\n",
    "        for i in range(1, m):\n",
    "            for j in range(1, n):\n",
    "                cur[j] += cur[j-1]\n",
    "        return cur[-1]\n",
    "```"
   ]
  },
  {
   "cell_type": "markdown",
   "metadata": {},
   "source": [
    "## 279.完全平方数(中等)"
   ]
  },
  {
   "cell_type": "code",
   "execution_count": 1,
   "metadata": {},
   "outputs": [],
   "source": [
    "class Solution(object):\n",
    "    def numSquares(self, n):\n",
    "        \"\"\"\n",
    "        :type n: int\n",
    "        :rtype: int\n",
    "        \"\"\"\n",
    "        DP=[float(\"inf\") for i in range(n+1)]\n",
    "        DP[0]=0\n",
    "        for i in range(1, n+1):\n",
    "            for j in range(int(i**0.5),0,-1):\n",
    "                DP[i]= min(DP[i], DP[i-j*j]+1)\n",
    "        return DP[-1]"
   ]
  },
  {
   "cell_type": "markdown",
   "metadata": {},
   "source": [
    "这个题目的转移方程想不到，真的想不到。险些超时，不过想不出如何优化"
   ]
  },
  {
   "cell_type": "markdown",
   "metadata": {},
   "source": [
    "## 712.两个字符串的最小ASCII删除和"
   ]
  },
  {
   "cell_type": "code",
   "execution_count": 2,
   "metadata": {},
   "outputs": [],
   "source": [
    "class Solution(object):\n",
    "    def minimumDeleteSum(self, s1, s2):\n",
    "        #DP[i][j]表示s1[:i]和s2[:j]的最小ASCII删除和\n",
    "        DP= [[0 for i in range(len(s2)+1)] for i in range(len(s1)+1)]\n",
    "        for i in range(1,len(s1)+1):\n",
    "            #这里j始终为0，表示字符串s2为空串，结果就是s1串中所有字符的ASCII码\n",
    "            DP[i][0]= DP[i-1][0]+ord(s1[i-1])\n",
    "        for j in range(1, len(s2)+1):\n",
    "            #同理，字符串s1为空\n",
    "            DP[0][j]= DP[0][j-1]+ord(s2[j-1])\n",
    "        for i in range(1, len(s1)+1):\n",
    "            for j in range(1,len(s2)+1):\n",
    "                #假如s1[i-1]和s2[j-1]相等，那么DP[i][j]的值就是把这两个字母去掉后的结果，即DP[i-1][j-1]\n",
    "                if s1[i-1]==s2[j-1]:\n",
    "                    DP[i][j]= DP[i-1][j-1]\n",
    "                else:\n",
    "                    #如果不相等，我们比较删除任意一个字符后的DP值加上删除的那个字符的ASCII值的大小，选择小的那个删除\n",
    "                    DP[i][j]= min(DP[i-1][j]+ord(s1[i-1]),DP[i][j-1]+ord(s2[j-1]))\n",
    "        return DP[-1][-1]"
   ]
  },
  {
   "cell_type": "markdown",
   "metadata": {},
   "source": [
    "这道题目花了很久，不断调试，从头开始，才慢慢有点眉目，官方给的解题方法实在是误导我"
   ]
  },
  {
   "cell_type": "markdown",
   "metadata": {},
   "source": [
    "## 413.等差数列划分"
   ]
  },
  {
   "cell_type": "code",
   "execution_count": 1,
   "metadata": {},
   "outputs": [],
   "source": [
    "class Solution(object):\n",
    "    def numberOfArithmeticSlices(self, A):\n",
    "        \"\"\"\n",
    "        :type A: List[int]\n",
    "        :rtype: int\n",
    "        \"\"\"\n",
    "        if not A:\n",
    "            return 0\n",
    "        count=0\n",
    "        start=0\n",
    "        n= len(A)\n",
    "        for i in range(2,len(A)):\n",
    "            if A[i-1]*2==A[i-2]+A[i]:\n",
    "                start+=1\n",
    "                count+=start\n",
    "            else:\n",
    "                start=0\n",
    "        return count"
   ]
  },
  {
   "cell_type": "markdown",
   "metadata": {},
   "source": [
    "还是老样子，自己想不出来，看了别人写的之后才能写出来"
   ]
  },
  {
   "cell_type": "markdown",
   "metadata": {},
   "source": [
    "## 931. 下降路径最小和"
   ]
  },
  {
   "cell_type": "code",
   "execution_count": 2,
   "metadata": {},
   "outputs": [],
   "source": [
    "class Solution(object):\n",
    "    def minFallingPathSum(self, A):\n",
    "        \"\"\"\n",
    "        :type A: List[List[int]]\n",
    "        :rtype: int\n",
    "        \"\"\"\n",
    "        n= len(A)\n",
    "        for i in range(1,n):\n",
    "            for j in range(n):\n",
    "                if j==0:\n",
    "                    A[i][j]+= min(A[i-1][j],A[i-1][j+1])\n",
    "                elif j==n-1:\n",
    "                    A[i][j]+= min(A[i-1][j],A[i-1][j-1])\n",
    "                else:\n",
    "                    A[i][j]+= min(A[i-1][j],A[i-1][j-1],A[i-1][j+1])\n",
    "        return min(A[-1])"
   ]
  },
  {
   "cell_type": "markdown",
   "metadata": {},
   "source": [
    "这道题我思路出现了错误，我是想自底而上，慢慢加，每次都选择最小的元素保存在一个一维数组里面，这样做在给定的测试样本通过了，但是程序没有AC，原因是，有些样本不能这么做，我之前的办法实际上是没有考虑到顺序的变化，应该用一个二维的数组来做，并且从第二行开始遍历，每遍历一次得到的值表示能取到的最小的路径。求最后一行的最小值作为最终的最小路径"
   ]
  },
  {
   "cell_type": "markdown",
   "metadata": {},
   "source": [
    "## 714. 买卖股票的最佳时机含手续费(中等)"
   ]
  },
  {
   "cell_type": "code",
   "execution_count": 3,
   "metadata": {},
   "outputs": [],
   "source": [
    "class Solution(object):\n",
    "    def maxProfit(self, prices, fee):\n",
    "        \"\"\"\n",
    "        :type prices: List[int]\n",
    "        :type fee: int\n",
    "        :rtype: int\n",
    "        \"\"\"\n",
    "        #case1表示持有股票所能获得的最大利润，case2表示不持有股票获的最大利润\n",
    "        case1= -prices[0]\n",
    "        case2= 0\n",
    "        for i in range(1,len(prices)):\n",
    "            case2= max(case2,case1+prices[i]-fee)\n",
    "            case1= max(case1, case2- prices[i])\n",
    "        return case2"
   ]
  },
  {
   "cell_type": "markdown",
   "metadata": {},
   "source": [
    "这道题目的解法难以理解。参考以下贪心解法似乎更加优秀\n",
    "```python\n",
    "class Solution:\n",
    "    def maxProfit(self, prices, fee):\n",
    "        \"\"\"\n",
    "        :type prices: List[int]\n",
    "        :type fee: int\n",
    "        :rtype: int\n",
    "        \"\"\"\n",
    "        n = len(prices)\n",
    "        if n < 2:\n",
    "             return 0\n",
    "        ans = 0\n",
    "        minimum = prices[0]\n",
    "        for i in range(1, n):\n",
    "            if prices[i] < minimum:\n",
    "                minimum = prices[i]\n",
    "            elif prices[i] > minimum + fee:\n",
    "                ans += prices[i]-fee-minimum\n",
    "                minimum = prices[i]-fee\n",
    "        return ans\n",
    "```"
   ]
  },
  {
   "cell_type": "markdown",
   "metadata": {},
   "source": [
    "## 343. 整数拆分"
   ]
  },
  {
   "cell_type": "code",
   "execution_count": 4,
   "metadata": {},
   "outputs": [],
   "source": [
    "class Solution(object):\n",
    "    def integerBreak(self, n):\n",
    "        \"\"\"\n",
    "        :type n: int\n",
    "        :rtype: int\n",
    "        \"\"\"\n",
    "        if n==2:\n",
    "          return 1\n",
    "        elif n==3:\n",
    "          return 2\n",
    "        res= 1\n",
    "        while n>4:\n",
    "          res*=3\n",
    "          n-=3\n",
    "        return res*n"
   ]
  },
  {
   "cell_type": "markdown",
   "metadata": {},
   "source": [
    "这道题目不知道应该拆成几个数才能让乘积最大，后来发现，每个大于4都是拆成3和2的组合，写出来上述代码  \n",
    "关键在于这道题用动态规划怎么解？\n",
    "```python\n",
    "class Solution(object):\n",
    "    def integerBreak(self, n):\n",
    "        \"\"\"\n",
    "        :type n: int\n",
    "        :rtype: int\n",
    "        \"\"\"\n",
    "        #动态规划\n",
    "        DP= [1 for i in range(n+1)]\n",
    "        for i in range(2,n+1):\n",
    "          for j in range(1, i):\n",
    "            DP[i]= max(DP[i], DP[i-j]*j,(i-j)*j)\n",
    "        return DP[-1]\n",
    "```\n",
    "这里转移方程特别难以理解"
   ]
  },
  {
   "cell_type": "markdown",
   "metadata": {},
   "source": [
    "## 646. 最长数对链"
   ]
  },
  {
   "cell_type": "code",
   "execution_count": 5,
   "metadata": {},
   "outputs": [],
   "source": [
    "class Solution(object):\n",
    "    def findLongestChain(self, pairs):\n",
    "        \"\"\"\n",
    "        :type pairs: List[List[int]]\n",
    "        :rtype: int\n",
    "        \"\"\"\n",
    "        pairs= sorted(pairs, key= lambda x:x[1])\n",
    "        temp= float(\"-inf\")\n",
    "        count=0\n",
    "        for pair in pairs:\n",
    "            if pair[0]>temp:\n",
    "                count+=1\n",
    "                temp= pair[1]\n",
    "        return count"
   ]
  },
  {
   "cell_type": "markdown",
   "metadata": {},
   "source": [
    "做过的题再做不会做了，这道题先排序是有道理的，理解了按照第二个元素排序就理解了这道题目"
   ]
  },
  {
   "cell_type": "code",
   "execution_count": null,
   "metadata": {},
   "outputs": [],
   "source": []
  }
 ],
 "metadata": {
  "kernelspec": {
   "display_name": "Python 3",
   "language": "python",
   "name": "python3"
  },
  "language_info": {
   "codemirror_mode": {
    "name": "ipython",
    "version": 3
   },
   "file_extension": ".py",
   "mimetype": "text/x-python",
   "name": "python",
   "nbconvert_exporter": "python",
   "pygments_lexer": "ipython3",
   "version": "3.5.6"
  },
  "toc": {
   "base_numbering": 1,
   "nav_menu": {},
   "number_sections": true,
   "sideBar": true,
   "skip_h1_title": false,
   "title_cell": "Table of Contents",
   "title_sidebar": "Contents",
   "toc_cell": false,
   "toc_position": {},
   "toc_section_display": true,
   "toc_window_display": false
  }
 },
 "nbformat": 4,
 "nbformat_minor": 2
}
