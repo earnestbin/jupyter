{
 "cells": [
  {
   "cell_type": "markdown",
   "metadata": {},
   "source": [
    "## 859.亲密字符串(简单)\n",
    "题目描述：\n",
    "给定两个小写字母构成的字符串A和B，只要我们可以交换A中的两个字母得到和B相同的结果，就返回true，否则就返回false"
   ]
  },
  {
   "cell_type": "code",
   "execution_count": null,
   "metadata": {},
   "outputs": [],
   "source": [
    "class Solution(object):\n",
    "    def buddyStrings(self, A, B):\n",
    "        \"\"\"\n",
    "        :type A: str\n",
    "        :type B: str\n",
    "        :rtype: bool\n",
    "        \"\"\"\n",
    "        if len(A)!=len(B):\n",
    "            return False\n",
    "        if A==B and len(set(A))<len(A):\n",
    "            return True\n",
    "        res= [(a,b) for a,b in zip(A,B) if a!=b]\n",
    "        return len(res)==2 and res[0]==res[1][::-1]"
   ]
  },
  {
   "cell_type": "markdown",
   "metadata": {},
   "source": [
    "这道题目居然没做出来，真实"
   ]
  },
  {
   "cell_type": "markdown",
   "metadata": {},
   "source": [
    "## 686.重复叠加字符串匹配(简单)\n",
    "题目描述:\n",
    "给一个字符串A和字符串B，求A重复叠加最小的次数使得B成为A的子串，如果没有就返回-1"
   ]
  },
  {
   "cell_type": "code",
   "execution_count": null,
   "metadata": {},
   "outputs": [],
   "source": [
    "class Solution(object):\n",
    "    def repeatedStringMatch(self, A, B):\n",
    "        \"\"\"\n",
    "        :type A: str\n",
    "        :type B: str\n",
    "        :rtype: int\n",
    "        \"\"\"\n",
    "        count=1\n",
    "        temp= A\n",
    "        while len(temp)<=len(B) and B not in temp:\n",
    "            count+=1\n",
    "            temp+=A\n",
    "        if B not in temp and B not in temp+A:\n",
    "            return -1\n",
    "        elif B in temp:\n",
    "            return count\n",
    "        elif B in temp+A:\n",
    "            return count+1"
   ]
  },
  {
   "cell_type": "markdown",
   "metadata": {},
   "source": [
    "## 65.有效数字(困难)\n",
    "验证给定的字符串能不能作为有效的十进制数字"
   ]
  },
  {
   "cell_type": "code",
   "execution_count": 5,
   "metadata": {},
   "outputs": [],
   "source": [
    "import re\n",
    "class Solution():\n",
    "    def isNumber(self,s):\n",
    "        s= s.strip()\n",
    "        pattern = re.compile(r'^[\\+\\-]?(\\d+\\.\\d+|\\.\\d+|\\d+\\.|\\d+)(e[\\+\\-]?\\d+)?$')\n",
    "        return True if re.match(pattern,s) else False"
   ]
  },
  {
   "cell_type": "code",
   "execution_count": 1,
   "metadata": {},
   "outputs": [],
   "source": [
    "import re\n",
    "class Solution():\n",
    "    def isNumber(self,s):\n",
    "        try:\n",
    "            float(s)\n",
    "            return True\n",
    "        except ValueError as e:\n",
    "            return False"
   ]
  },
  {
   "cell_type": "code",
   "execution_count": 2,
   "metadata": {},
   "outputs": [
    {
     "name": "stdout",
     "output_type": "stream",
     "text": [
      "False\n"
     ]
    }
   ],
   "source": [
    "t= Solution()\n",
    "s= \"95a54e53\"\n",
    "print(t.isNumber(s))"
   ]
  },
  {
   "cell_type": "markdown",
   "metadata": {},
   "source": [
    "解法一：用正则表达式  \n",
    "正则表达式很简洁，但是pattern不容易想到，很容易忽略  \n",
    "解法二：用异常处理模块  \n",
    "过于简洁，不太适合  \n",
    "这道题目不好，可以投机取巧"
   ]
  },
  {
   "cell_type": "markdown",
   "metadata": {},
   "source": [
    "## 273. 整数转换英文表示(困难)\n",
    "将非负整数转换为其对应的英文表示"
   ]
  },
  {
   "cell_type": "code",
   "execution_count": 9,
   "metadata": {},
   "outputs": [
    {
     "name": "stdout",
     "output_type": "stream",
     "text": [
      "Twenty\n"
     ]
    }
   ],
   "source": [
    "class Solution(object):\n",
    "    def __init__(self):\n",
    "        self.units=[\"Zero\",\"One\",\"Two\",\"Three\",\"Four\",\"Five\",\"Six\",\"Seven\",\"Eight\",\"Nine\",\"Ten\",\"Eleven\",\"Twelve\",\n",
    "                   \"Thirteen\",\"Fourteen\",\"Fifteen\",\"Sixteen\",\"Seventeen\",\"Eighteen\",\"Nineteen\",\"Twenty\"]\n",
    "        self.tens=[\" \",\"Ten\",\"Twenty\",\"Thirty\",\"Forty\",\"Fifty\",\"Sixty\",\"Seventy\",\"Eighty\",\"Ninety\"]\n",
    "    \n",
    "    def numberToWords(self,num):\n",
    "        if num>999999999:\n",
    "            if num%1000000000==0:\n",
    "                return self.numberToWords(num//1000000000)+\" Billion\"\n",
    "            else:\n",
    "                return self.numberToWords(num//1000000000)+\" Billion \"+self.numberToWords(num%1000000000)\n",
    "        elif num>999999:\n",
    "            if num%1000000==0:\n",
    "                return self.numberToWords(num//1000000)+\" Million\"\n",
    "            else:\n",
    "                return self.numberToWords(num//1000000)+\" Million \"+self.numberToWords(num%1000000)\n",
    "        elif num>999:\n",
    "            if num%1000==0:\n",
    "                return self.numberToWords(num//1000)+\" Thousand\"\n",
    "            else:\n",
    "                return self.numberToWords(num//1000)+\" Thousand \"+self.numberToWords(num%1000)\n",
    "        elif num>99:\n",
    "            if num%100==0:\n",
    "                return self.numberToWords(num//100)+\" Hundred\"\n",
    "            else:\n",
    "                return self.numberToWords(num//100)+\" Hundred \"+self.numberToWords(num%100)\n",
    "        elif num>20:\n",
    "            if num%10==0:\n",
    "                return self.tens[(num//10)]\n",
    "            else:\n",
    "                return self.tens[(num//10)]+\" \"+self.units[num%10]\n",
    "        else:\n",
    "            return self.units[num]\n",
    "t= Solution()\n",
    "num=20\n",
    "print(t.numberToWords(num))"
   ]
  },
  {
   "cell_type": "markdown",
   "metadata": {},
   "source": [
    "这道题目很繁琐，用递归才显得不那么繁琐 "
   ]
  },
  {
   "cell_type": "markdown",
   "metadata": {},
   "source": [
    "## 8.字符串转换整数(中等)\n",
    "设计一个函数能将字符串转化成数字"
   ]
  },
  {
   "cell_type": "code",
   "execution_count": null,
   "metadata": {},
   "outputs": [],
   "source": [
    "class Solution(object):\n",
    "    def myAtoi(self, s):\n",
    "        \"\"\"\n",
    "        :type str: str\n",
    "        :rtype: int\n",
    "        \"\"\"\n",
    "        s= s.strip()\n",
    "        if not s:\n",
    "            return 0\n",
    "        start=0\n",
    "        if s[0]==\"-\":\n",
    "            start=1\n",
    "        elif s[0]==\"+\":\n",
    "            start=1 \n",
    "        end= start\n",
    "        while end<len(s) and (s[end].isdigit()):\n",
    "            end+=1 \n",
    "        s= s[:end]\n",
    "        try:\n",
    "            res=int(s)\n",
    "            if res<-2**31:\n",
    "                return -2**31\n",
    "            elif res>2**31-1:\n",
    "                return 2**31-1 \n",
    "            else:\n",
    "                return res\n",
    "        except:\n",
    "            return 0"
   ]
  },
  {
   "cell_type": "markdown",
   "metadata": {},
   "source": [
    "以上是我艰难地写出来的代码，执行用时：28ms，击败77%的用户  \n",
    "细节实在是太多了，不给提示根本想不出来"
   ]
  },
  {
   "cell_type": "markdown",
   "metadata": {},
   "source": [
    "## 848.字母移位(中等)"
   ]
  },
  {
   "cell_type": "code",
   "execution_count": null,
   "metadata": {},
   "outputs": [],
   "source": [
    "class Solution(object):\n",
    "    def shiftingLetters(self, S, shifts):\n",
    "        \"\"\"\n",
    "        :type S: str\n",
    "        :type shifts: List[int]\n",
    "        :rtype: str\n",
    "        \"\"\"\n",
    "        S= S[::-1]\n",
    "        shifts= shifts[::-1]\n",
    "        start= chr((ord(S[0])+shifts[0]-97)%26+97)\n",
    "        res=start\n",
    "        for i in range(1,len(shifts)):\n",
    "            temp= chr((ord(S[i])-ord(S[i-1])+shifts[i]+ord(res[-1])-97)%26+97)\n",
    "            res+=temp\n",
    "        return res[::-1]"
   ]
  },
  {
   "cell_type": "markdown",
   "metadata": {},
   "source": [
    "这道题目不难，但是我想了很久都没有想出来。超时，参考了一个非常有意义的思路，其实就是倒过来思考就可以了"
   ]
  },
  {
   "cell_type": "markdown",
   "metadata": {},
   "source": [
    "## 3.无重复字符的最长子串(中等)"
   ]
  },
  {
   "cell_type": "code",
   "execution_count": null,
   "metadata": {},
   "outputs": [],
   "source": [
    "class Solution(object):\n",
    "    def lengthOfLongestSubstring(self, s):\n",
    "        \"\"\"\n",
    "        :type s: str\n",
    "        :rtype: int\n",
    "        \"\"\"\n",
    "        if not s:\n",
    "            return 0\n",
    "        temp= [s[0]]\n",
    "        count=1\n",
    "        res= 1\n",
    "        for i in range(1,len(s)):\n",
    "            if s[i] not in temp:\n",
    "                temp.append(s[i])\n",
    "                res= max(res,len(temp))\n",
    "                continue\n",
    "            else:\n",
    "                temp.append(s[i])\n",
    "                index= temp.index(s[i])\n",
    "                temp= temp[index+1:]\n",
    "        return res"
   ]
  },
  {
   "cell_type": "markdown",
   "metadata": {},
   "source": [
    "这道题不难，就是几个边界弄错了，这要是不给提示，我肯定AC不了，主要是count的初值以及res的位置。这里有个用hash表优化的方法  \n",
    "```python\n",
    "class Solution(object):\n",
    "def lengthOfLongestSubstring(self, s):\n",
    "    \"\"\"\n",
    "    :type s: str\n",
    "    :rtype: int\n",
    "    \"\"\"\n",
    "    start=-1\n",
    "    res= 0\n",
    "    dic= dict()\n",
    "    for i in range(len(s)):\n",
    "        if s[i] in dic and dic[s[i]]>start:\n",
    "            start= dic[s[i]]\n",
    "            dic[s[i]]=i \n",
    "        else:\n",
    "            dic[s[i]]=i\n",
    "            res= max(res,i-start)\n",
    "    return res\n",
    "```"
   ]
  },
  {
   "cell_type": "markdown",
   "metadata": {},
   "source": [
    "## 916.单词子集"
   ]
  },
  {
   "cell_type": "code",
   "execution_count": null,
   "metadata": {},
   "outputs": [],
   "source": [
    "class Solution(object):\n",
    "    def wordSubsets(self, A, B):\n",
    "        \"\"\"\n",
    "        :type A: List[str]\n",
    "        :type B: List[str]\n",
    "        :rtype: List[str]\n",
    "        \"\"\"\n",
    "        res= []\n",
    "        for a in A:\n",
    "            dica= dict()\n",
    "            for item in a:\n",
    "                dica[item]= dica.get(item,0)+1\n",
    "            flag=1\n",
    "            for b in B:\n",
    "                dicb= dict()\n",
    "                for item in b:\n",
    "                    dicb[item]=dicb.get(item,0)+1\n",
    "                for key,value in dicb.items():\n",
    "                    if key not in dica or dicb[key]>dica[key]:\n",
    "                        flag=0\n",
    "                        break\n",
    "                    else:\n",
    "                        continue\n",
    "                if flag==0:\n",
    "                    break\n",
    "            if flag==1:\n",
    "                res.append(a)\n",
    "        return res"
   ]
  },
  {
   "cell_type": "markdown",
   "metadata": {},
   "source": [
    "上面的代码超时了,后来参考别人的思路，统计B中每个元素出现的最大次数存到字典中，下面是改进后的代码\n",
    "```python\n",
    "class Solution(object):\n",
    "    def wordSubsets(self, A, B):\n",
    "        \"\"\"\n",
    "        :type A: List[str]\n",
    "        :type B: List[str]\n",
    "        :rtype: List[str]\n",
    "        \"\"\"\n",
    "        dic= dict()\n",
    "        for b in B:\n",
    "            dicb= dict()\n",
    "            for item in b:\n",
    "                dicb[item]= dicb.get(item,0)+1\n",
    "                if item in dic:\n",
    "                    dic[item]= max(dic[item],dicb[item])\n",
    "                else:\n",
    "                    dic[item]= 1\n",
    "        res= []\n",
    "        for a in A:\n",
    "            dica= dict()\n",
    "            for item in a:\n",
    "                dica[item]=dica.get(item,0)+1\n",
    "            flag=1\n",
    "            for key,value in dic.items():\n",
    "                if key not in dica or dica[key]<value:\n",
    "                    flag=0\n",
    "                    break\n",
    "            if flag==1:\n",
    "                res.append(a) \n",
    "        return res \n",
    "```\n",
    "但是我写的上面的代码耗时太久，击败了27.27%的用户"
   ]
  },
  {
   "cell_type": "markdown",
   "metadata": {},
   "source": [
    "## 43.字符串相乘"
   ]
  },
  {
   "cell_type": "code",
   "execution_count": 1,
   "metadata": {},
   "outputs": [],
   "source": [
    "class Solution(object):\n",
    "    def multiply(self, num1, num2):\n",
    "        \"\"\"\n",
    "        :type num1: str\n",
    "        :type num2: str\n",
    "        :rtype: str\n",
    "        \"\"\"\n",
    "        lookup = {'0':0,'1':1,'2':2,'3':3,'4':4,'5':5,'6':6,'7':7,'8':8,'9':9}\n",
    "        if num1 == '0' or num2 == '0':\n",
    "            return '0'\n",
    "        num1,num2 = num1[::-1],num2[::-1]\n",
    "        L=len(num1)+len(num2)\n",
    "        tmp_res = [0 for _ in range(len(num1)+len(num2))]\n",
    "        for i in range(len(num1)):\n",
    "            for j in range(len(num2)):\n",
    "                tmp_res[i+j] += lookup[num1[i]] * lookup[num2[j]]\n",
    "        res = [0 for _ in range(len(num1)+len(num2))]\n",
    "        for i in range(len(tmp_res)):\n",
    "            res[i] = tmp_res[i]%10\n",
    "            if i < L-1:\n",
    "                tmp_res[i+1] += tmp_res[i]/10\n",
    "        return ''.join(str(i) for i in res[::-1]).lstrip('0')"
   ]
  },
  {
   "cell_type": "markdown",
   "metadata": {},
   "source": [
    "这是参考的别人的代码，虽然有点抽象，但是可以应对大数字得情况，全程没有使用int，不至于越界"
   ]
  },
  {
   "cell_type": "markdown",
   "metadata": {},
   "source": [
    "## 678.有效的括号字符串"
   ]
  },
  {
   "cell_type": "code",
   "execution_count": 2,
   "metadata": {},
   "outputs": [],
   "source": [
    "class Solution(object):\n",
    "    def checkValidString(self, s):\n",
    "        \"\"\"\n",
    "        :type s: str\n",
    "        :rtype: bool\n",
    "        \"\"\"\n",
    "        left,star= [],[]\n",
    "        L= len(s)\n",
    "        for i in range(L):\n",
    "            if s[i]==\"(\":\n",
    "                left.append(i)\n",
    "            elif s[i]==\"*\":\n",
    "                star.append(i)\n",
    "            else:\n",
    "                if left:\n",
    "                    left.pop()\n",
    "                elif star:\n",
    "                    star.pop()\n",
    "                else:\n",
    "                    return False\n",
    "        if len(star)<len(left):\n",
    "            return False\n",
    "        for l,s in zip(left[::-1],star[::-1]):\n",
    "            if s<l:\n",
    "                return False\n",
    "        return True    "
   ]
  },
  {
   "cell_type": "markdown",
   "metadata": {},
   "source": [
    "这道题目一点办法都没有，参考别人的思路，用栈来解决，栈来存储下标"
   ]
  },
  {
   "cell_type": "markdown",
   "metadata": {},
   "source": [
    "## 833.字符串中的查找与替换"
   ]
  },
  {
   "cell_type": "code",
   "execution_count": 2,
   "metadata": {},
   "outputs": [],
   "source": [
    "class Solution(object):\n",
    "    def findReplaceString(self, S, indexes, sources, targets):\n",
    "        \"\"\"\n",
    "        :type S: str\n",
    "        :type indexes: List[int]\n",
    "        :type sources: List[str]\n",
    "        :type targets: List[str]\n",
    "        :rtype: str\n",
    "        \"\"\"\n",
    "        dic= dict()\n",
    "        for i in range(len(sources)):\n",
    "            if indexes[i] not in dic:\n",
    "                dic[indexes[i]]=(sources[i],targets[i])\n",
    "        rank= sorted(dic.items(),key= lambda x:x[0],reverse=True)\n",
    "        for item in rank:\n",
    "            index, source, target= item[0], item[1][0], item[1][1]\n",
    "            if source==S[index:index+len(source)]:\n",
    "                S= S[:index]+S[index:].replace(source,target,1)\n",
    "        return S"
   ]
  },
  {
   "cell_type": "markdown",
   "metadata": {},
   "source": [
    "这道题目看了提示也想了好久才做出来, 主要是我一改变S，那么S的长度就变了，index也变了，我没法处理这玩意。后来看了提示，可以逆序改变S，这样索引就不会被破坏。这道题目还有个非常操蛋的地方，indexes实际上并不是升序的"
   ]
  },
  {
   "cell_type": "markdown",
   "metadata": {},
   "source": [
    "## 165.比较版本号(中等)"
   ]
  },
  {
   "cell_type": "code",
   "execution_count": 4,
   "metadata": {},
   "outputs": [],
   "source": [
    "class Solution(object):\n",
    "    def compareVersion(self, version1, version2):\n",
    "        \"\"\"\n",
    "        :type version1: str\n",
    "        :type version2: str\n",
    "        :rtype: int\n",
    "        \"\"\"\n",
    "        v1= [int(i) for i in version1.split('.')]\n",
    "        v2= [int(j) for j in version2.split('.')]\n",
    "        while v1 and v2:\n",
    "            t1,t2= v1.pop(0), v2.pop(0)\n",
    "            if t1<t2:\n",
    "                return -1\n",
    "            elif t1>t2:\n",
    "                return 1\n",
    "        if v1 and any(v1):\n",
    "            return 1\n",
    "        if v2 and any(v2):\n",
    "            return -1\n",
    "        return 0"
   ]
  },
  {
   "cell_type": "markdown",
   "metadata": {},
   "source": [
    "用栈来解这种匹配问题是个非常棒的选择"
   ]
  },
  {
   "cell_type": "markdown",
   "metadata": {},
   "source": [
    "## 856.括号的分数"
   ]
  },
  {
   "cell_type": "code",
   "execution_count": 1,
   "metadata": {},
   "outputs": [],
   "source": [
    "class Solution(object):\n",
    "    def scoreOfParentheses(self, S):\n",
    "        \"\"\"\n",
    "        :type S: str\n",
    "        :rtype: int\n",
    "        \"\"\"\n",
    "        count=0\n",
    "        res=0\n",
    "        for i in range(len(S)):\n",
    "            if S[i]==\"(\":\n",
    "                count+=1\n",
    "            else:\n",
    "                count-=1\n",
    "                if S[i-1]==\"(\":\n",
    "                    res+=(2**count)\n",
    "        return res"
   ]
  },
  {
   "cell_type": "markdown",
   "metadata": {},
   "source": [
    "这道题目应该被珍藏，有三种不同的解法，每种解法都韵味无穷：递归，栈，计数法\n",
    "```python\n",
    "#递归法求解\n",
    "class Solution(object):\n",
    "    def scoreOfParentheses(self, S):\n",
    "        \"\"\"\n",
    "        :type S: str\n",
    "        :rtype: int\n",
    "        \"\"\"\n",
    "        return self.recursion(0,len(S),S)\n",
    "    def recursion(self,left,right,S):\n",
    "        count=0\n",
    "        res=0\n",
    "        for i in range(left,right):\n",
    "            count+=1 if S[i]==\"(\" else -1\n",
    "            if count==0:\n",
    "                if i-left==1:\n",
    "                    res+=1\n",
    "                else:\n",
    "                    res+=2*self.recursion(left+1,i,S)\n",
    "                left=i+1\n",
    "        return res\n",
    "#栈求解\n",
    "class Solution(object):\n",
    "    def scoreOfParentheses(self, S):\n",
    "        \"\"\"\n",
    "        :type S: str\n",
    "        :rtype: int\n",
    "        \"\"\"\n",
    "        stack= [0]\n",
    "        for i in S:\n",
    "            if i=='(':\n",
    "                stack.append(0)\n",
    "            else:\n",
    "                temp= stack.pop()\n",
    "                stack[-1]+=max(2*temp,1)\n",
    "        return stack.pop()\n",
    "#更加巧妙的方法\n",
    "class Solution(object):\n",
    "    def scoreOfParentheses(self, S):\n",
    "        \"\"\"\n",
    "        :type S: str\n",
    "        :rtype: int\n",
    "        \"\"\"\n",
    "        count=0\n",
    "        res=0\n",
    "        for i in range(len(S)):\n",
    "            if S[i]=='(':\n",
    "                count+=1\n",
    "            else:\n",
    "                count-=1\n",
    "                if S[i-1]==\"(\":\n",
    "                    res+=2**count\n",
    "        return res\n",
    "```"
   ]
  },
  {
   "attachments": {},
   "cell_type": "markdown",
   "metadata": {},
   "source": [
    "## 1081.不同字符的最小子序列(中等)"
   ]
  },
  {
   "cell_type": "code",
   "execution_count": 1,
   "metadata": {},
   "outputs": [],
   "source": [
    "class Solution(object):\n",
    "    def smallestSubsequence(self, text):\n",
    "        \"\"\"\n",
    "        :type text: str\n",
    "        :rtype: str\n",
    "        \"\"\"\n",
    "        stack= []\n",
    "        for i in range(len(text)):\n",
    "            if text[i] in stack:\n",
    "                continue\n",
    "            while stack and ord(text[i])<ord(stack[-1]) and text.find(stack[-1],i)!=-1:\n",
    "                stack.pop()\n",
    "            stack.append(text[i])\n",
    "        return \"\".join(stack)"
   ]
  },
  {
   "cell_type": "markdown",
   "metadata": {},
   "source": [
    "这道题参考了别人的代码，利用了栈  \n",
    "ord(text[i])<ord(stack[-1])表示有更小的就将栈顶出栈，这样可以保证字典顺序  \n",
    "text.find(stack[-1],i)!=-1表示从i开始查找text看看栈顶元素有没有重复，如果有就将栈顶出栈，这个代码是整个solution的精髓"
   ]
  },
  {
   "cell_type": "markdown",
   "metadata": {},
   "source": [
    "## 71.简化路径"
   ]
  },
  {
   "cell_type": "code",
   "execution_count": 2,
   "metadata": {},
   "outputs": [],
   "source": [
    "class Solution(object):\n",
    "    def simplifyPath(self, path):\n",
    "        \"\"\"\n",
    "        :type path: str\n",
    "        :rtype: str\n",
    "        \"\"\"\n",
    "        array= path.split(\"/\")\n",
    "        stack= []\n",
    "        for item in array:\n",
    "            if item==\"..\":\n",
    "                if stack:\n",
    "                    stack.pop()\n",
    "            elif item and item!='.':\n",
    "                stack.append(item)\n",
    "        return '/'+'/'.join(stack)"
   ]
  },
  {
   "cell_type": "markdown",
   "metadata": {},
   "source": [
    "题目都没有读懂，实际上遇到..就删除前面的一个单词，遇到.就什么都不做  \n",
    "还有个要注意的，当你用split('/')切割路径的时候要注意空的情况"
   ]
  },
  {
   "cell_type": "markdown",
   "metadata": {},
   "source": [
    "## 583.两个字符串的删除操作"
   ]
  },
  {
   "cell_type": "code",
   "execution_count": 3,
   "metadata": {},
   "outputs": [],
   "source": [
    "class Solution(object):\n",
    "    def minDistance(self, word1, word2):\n",
    "        \"\"\"\n",
    "        :type word1: str\n",
    "        :type word2: str\n",
    "        :rtype: int\n",
    "        \"\"\"\n",
    "        #动态规划版本\n",
    "        m= len(word1)\n",
    "        n= len(word2)\n",
    "        DP=[[0 for i in range(n+1)] for j in range(m+1)]\n",
    "        #要注意从第二行和第二列开始\n",
    "        for i in range(1,m+1):\n",
    "            for j in range(1,n+1):\n",
    "                if word1[i-1]==word2[j-1]:\n",
    "                    DP[i][j]= DP[i-1][j-1]+1\n",
    "                else:\n",
    "                    DP[i][j]= max(DP[i-1][j],DP[i][j-1])\n",
    "        return m+n-2*DP[m][n]"
   ]
  },
  {
   "cell_type": "markdown",
   "metadata": {},
   "source": [
    "动态规划好久不做，生疏了，这道题显然是求最长公共子序列，即longest common sequence，关键是动态转移方程  \n",
    "需要复习一下字符串中的动态规划问题，字符串中用的最多的是动态规划、栈、字典"
   ]
  },
  {
   "attachments": {},
   "cell_type": "markdown",
   "metadata": {},
   "source": [
    "## 1003.检查替换后的词是否有效(中等)"
   ]
  },
  {
   "cell_type": "code",
   "execution_count": 4,
   "metadata": {},
   "outputs": [],
   "source": [
    "class Solution(object):\n",
    "    def isValid(self, S):\n",
    "        \"\"\"\n",
    "        :type S: str\n",
    "        :rtype: bool\n",
    "        \"\"\"\n",
    "        S= S.split(\"abc\")\n",
    "        t= \"\".join(S)\n",
    "        while len(S)>1:\n",
    "            S= t.split(\"abc\")\n",
    "            t= \"\".join(S)\n",
    "        if t==\"\" or t==\"abc\":\n",
    "            return True\n",
    "        else:\n",
    "            return False"
   ]
  },
  {
   "cell_type": "markdown",
   "metadata": {},
   "source": [
    "我这道题一开始都不懂，后来觉得是不断切分，就写出了上面的代码，通过了！  \n",
    "大佬的写法更简洁：\n",
    "```python\n",
    "class Solution(object):\n",
    "    def isValid(self, S):\n",
    "        \"\"\"\n",
    "        :type S: str\n",
    "        :rtype: bool\n",
    "        \"\"\"\n",
    "        while 'abc' in S:\n",
    "            S= S.replace('abc',\"\")\n",
    "        return not S\n",
    "```"
   ]
  },
  {
   "cell_type": "markdown",
   "metadata": {},
   "source": [
    "## 22.括号生成"
   ]
  },
  {
   "cell_type": "code",
   "execution_count": null,
   "metadata": {},
   "outputs": [],
   "source": [
    "#暴力法\n",
    "class Solution(object):\n",
    "    def generateParenthesis(self, n):\n",
    "        \"\"\"\n",
    "        :type n: int\n",
    "        :rtype: List[str]\n",
    "        \"\"\"\n",
    "        res= []\n",
    "        def generate(A=[]):\n",
    "            if len(A)==2*n:\n",
    "                t= \"\".join(A)\n",
    "                if self.is_valid(t):\n",
    "                    res.append(t)\n",
    "            else:\n",
    "                A.append(\"(\")\n",
    "                generate(A)\n",
    "                A.pop() \n",
    "                A.append(\")\")\n",
    "                generate(A)\n",
    "                A.pop()\n",
    "        generate()\n",
    "        return res\n",
    "    def is_valid(self,S):\n",
    "        if S[0]==\")\":\n",
    "            return False\n",
    "        if S[-1]==\"(\":\n",
    "            return False\n",
    "        left= []\n",
    "        for i in range(len(S)):\n",
    "            if S[i]==\"(\":\n",
    "                left.append(\"(\")\n",
    "            elif not left:\n",
    "                return False\n",
    "            else:\n",
    "                left.pop()\n",
    "        return not left"
   ]
  },
  {
   "cell_type": "markdown",
   "metadata": {},
   "source": [
    "暴力法容易想通，但是不太容易写出来，尤其是两个pop  \n",
    "这道题还可以用回溯来做，但是回溯的递归思路我一直想不通，先给出代码：\n",
    "```python\n",
    "class Solution(object):\n",
    "    def generateParenthesis(self, n):\n",
    "        \"\"\"\n",
    "        :type n: int\n",
    "        :rtype: List[str]\n",
    "        \"\"\"\n",
    "        #回溯法\n",
    "        S= \"\"\n",
    "        left,right=0,0\n",
    "        res= []\n",
    "        def recursion(S,left,right):\n",
    "            if len(S)==2*n:\n",
    "                res.append(S)\n",
    "                return \n",
    "            if left<n:\n",
    "                recursion(S+\"(\",left+1,right)\n",
    "            if right<left:\n",
    "                recursion(S+\")\",left,right+1)\n",
    "        recursion(S,left,right)\n",
    "        return res\n",
    "```"
   ]
  },
  {
   "cell_type": "code",
   "execution_count": null,
   "metadata": {},
   "outputs": [],
   "source": []
  }
 ],
 "metadata": {
  "kernelspec": {
   "display_name": "Python 3",
   "language": "python",
   "name": "python3"
  },
  "language_info": {
   "codemirror_mode": {
    "name": "ipython",
    "version": 3
   },
   "file_extension": ".py",
   "mimetype": "text/x-python",
   "name": "python",
   "nbconvert_exporter": "python",
   "pygments_lexer": "ipython3",
   "version": "3.5.6"
  },
  "toc": {
   "base_numbering": 1,
   "nav_menu": {},
   "number_sections": true,
   "sideBar": true,
   "skip_h1_title": false,
   "title_cell": "Table of Contents",
   "title_sidebar": "Contents",
   "toc_cell": false,
   "toc_position": {},
   "toc_section_display": true,
   "toc_window_display": false
  }
 },
 "nbformat": 4,
 "nbformat_minor": 2
}
