{
 "cells": [
  {
   "cell_type": "markdown",
   "metadata": {},
   "source": [
    "## 859.亲密字符串(简单)\n",
    "题目描述：\n",
    "给定两个小写字母构成的字符串A和B，只要我们可以交换A中的两个字母得到和B相同的结果，就返回true，否则就返回false"
   ]
  },
  {
   "cell_type": "code",
   "execution_count": null,
   "metadata": {},
   "outputs": [],
   "source": [
    "class Solution(object):\n",
    "    def buddyStrings(self, A, B):\n",
    "        \"\"\"\n",
    "        :type A: str\n",
    "        :type B: str\n",
    "        :rtype: bool\n",
    "        \"\"\"\n",
    "        if len(A)!=len(B):\n",
    "            return False\n",
    "        if A==B and len(set(A))<len(A):\n",
    "            return True\n",
    "        res= [(a,b) for a,b in zip(A,B) if a!=b]\n",
    "        return len(res)==2 and res[0]==res[1][::-1]"
   ]
  },
  {
   "cell_type": "markdown",
   "metadata": {},
   "source": [
    "这道题目居然没做出来，真实"
   ]
  },
  {
   "attachments": {},
   "cell_type": "markdown",
   "metadata": {},
   "source": [
    "## 686.重复叠加字符串匹配(简单)\n",
    "题目描述:\n",
    "给一个字符串A和字符串B，求A重复叠加最小的次数使得B成为A的子串，如果没有就返回-1"
   ]
  },
  {
   "cell_type": "code",
   "execution_count": null,
   "metadata": {},
   "outputs": [],
   "source": [
    "class Solution(object):\n",
    "    def repeatedStringMatch(self, A, B):\n",
    "        \"\"\"\n",
    "        :type A: str\n",
    "        :type B: str\n",
    "        :rtype: int\n",
    "        \"\"\"\n",
    "        count=1\n",
    "        temp= A\n",
    "        while len(temp)<=len(B) and B not in temp:\n",
    "            count+=1\n",
    "            temp+=A\n",
    "        if B not in temp and B not in temp+A:\n",
    "            return -1\n",
    "        elif B in temp:\n",
    "            return count\n",
    "        elif B in temp+A:\n",
    "            return count+1"
   ]
  }
 ],
 "metadata": {
  "kernelspec": {
   "display_name": "Python 3",
   "language": "python",
   "name": "python3"
  },
  "language_info": {
   "codemirror_mode": {
    "name": "ipython",
    "version": 3
   },
   "file_extension": ".py",
   "mimetype": "text/x-python",
   "name": "python",
   "nbconvert_exporter": "python",
   "pygments_lexer": "ipython3",
   "version": "3.5.6"
  },
  "toc": {
   "base_numbering": 1,
   "nav_menu": {},
   "number_sections": true,
   "sideBar": true,
   "skip_h1_title": false,
   "title_cell": "Table of Contents",
   "title_sidebar": "Contents",
   "toc_cell": false,
   "toc_position": {},
   "toc_section_display": true,
   "toc_window_display": false
  }
 },
 "nbformat": 4,
 "nbformat_minor": 2
}
