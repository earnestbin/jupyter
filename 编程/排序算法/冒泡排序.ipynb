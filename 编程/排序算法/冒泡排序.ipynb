{
 "cells": [
  {
   "cell_type": "code",
   "execution_count": 15,
   "metadata": {},
   "outputs": [],
   "source": [
    "from detecter import isRight\n",
    "import time"
   ]
  },
  {
   "cell_type": "code",
   "execution_count": 4,
   "metadata": {},
   "outputs": [],
   "source": [
    "def bubble_sort(array):\n",
    "    L= len(array)\n",
    "    if L<2:\n",
    "        return array\n",
    "    for i in range(L-1,0,-1):\n",
    "        for j in range(i):\n",
    "            if array[j]>array[j+1]:\n",
    "                array[j], array[j+1]= array[j+1], array[j]\n",
    "    return array"
   ]
  },
  {
   "cell_type": "code",
   "execution_count": 5,
   "metadata": {},
   "outputs": [
    {
     "name": "stdout",
     "output_type": "stream",
     "text": [
      "NICE\n",
      "耗时： 136.04725058377917\n"
     ]
    }
   ],
   "source": [
    "start= time.clock()\n",
    "isRight(200000,100,10,bubble_sort)\n",
    "end= time.clock()\n",
    "print(\"耗时：\",end-start)"
   ]
  },
  {
   "cell_type": "markdown",
   "metadata": {},
   "source": [
    "我写的这个冒泡排序算法很耗时间啊"
   ]
  },
  {
   "cell_type": "markdown",
   "metadata": {},
   "source": [
    "## 程序员面试笔试宝典上面的代码改版"
   ]
  },
  {
   "cell_type": "code",
   "execution_count": 6,
   "metadata": {},
   "outputs": [],
   "source": [
    "def bubble_sort2(array):\n",
    "    L= len(array)\n",
    "    if L<2:\n",
    "        return array\n",
    "    for i in range(L-1):\n",
    "        for j in range(L-1,i,-1):\n",
    "            if array[j]<array[j-1]:\n",
    "                array[j], array[j-1]= array[j-1], array[j]\n",
    "    return array"
   ]
  },
  {
   "cell_type": "code",
   "execution_count": 7,
   "metadata": {},
   "outputs": [
    {
     "name": "stdout",
     "output_type": "stream",
     "text": [
      "NICE\n",
      "耗时： 126.00891380022193\n"
     ]
    }
   ],
   "source": [
    "start= time.clock()\n",
    "isRight(200000,100,10,bubble_sort2)\n",
    "end= time.clock()\n",
    "print(\"耗时：\",end-start)"
   ]
  },
  {
   "cell_type": "markdown",
   "metadata": {},
   "source": [
    "## 改用双端冒泡看看\n"
   ]
  },
  {
   "cell_type": "code",
   "execution_count": 8,
   "metadata": {},
   "outputs": [],
   "source": [
    "def double_bubble(array):\n",
    "    L= len(array)\n",
    "    if L<2:\n",
    "        return array\n",
    "    left=0\n",
    "    right= L-1\n",
    "    while left<right:\n",
    "        #将最大的数推到最右边\n",
    "        for i in range(right):\n",
    "            if array[i+1]<array[i]:\n",
    "                array[i+1], array[i]= array[i], array[i+1]\n",
    "        right-=1\n",
    "        #将最小的数推到最左边\n",
    "        for j in range(right, left, -1):\n",
    "            if array[j]<array[j-1]:\n",
    "                array[j], array[j-1]= array[j-1], array[j]\n",
    "        left+=1\n",
    "    return array"
   ]
  },
  {
   "cell_type": "code",
   "execution_count": 9,
   "metadata": {},
   "outputs": [
    {
     "name": "stdout",
     "output_type": "stream",
     "text": [
      "NICE\n",
      "耗时： 151.07430508705102\n"
     ]
    }
   ],
   "source": [
    "start= time.clock()\n",
    "isRight(200000,100,10,double_bubble)\n",
    "end= time.clock()\n",
    "print(\"耗时：\",end-start)"
   ]
  },
  {
   "cell_type": "markdown",
   "metadata": {},
   "source": [
    "怎么回事啊？反而更慢了"
   ]
  },
  {
   "cell_type": "markdown",
   "metadata": {},
   "source": [
    "## 参考网上的双端冒泡"
   ]
  },
  {
   "cell_type": "code",
   "execution_count": 13,
   "metadata": {},
   "outputs": [],
   "source": [
    "def double_bubble2(array):\n",
    "    L= len(array)\n",
    "    if L<2:\n",
    "        return array\n",
    "    left=0\n",
    "    right= L-1\n",
    "    while left<right:\n",
    "        index= left#index表示最后一次交换的位置\n",
    "        #将最大的数推到最右边\n",
    "        for i in range(left,right):\n",
    "            if array[i+1]<array[i]:\n",
    "                array[i+1], array[i]= array[i], array[i+1]\n",
    "                index= i\n",
    "        right= index\n",
    "        #将最小的数推到最左边\n",
    "        for j in range(right, left, -1):\n",
    "            if array[j]<array[j-1]:\n",
    "                array[j], array[j-1]= array[j-1], array[j]\n",
    "                index= j\n",
    "        left= index\n",
    "    return array"
   ]
  },
  {
   "cell_type": "code",
   "execution_count": 14,
   "metadata": {},
   "outputs": [
    {
     "name": "stdout",
     "output_type": "stream",
     "text": [
      "NICE\n",
      "耗时： 110.98341935634971\n"
     ]
    }
   ],
   "source": [
    "start= time.clock()\n",
    "isRight(200000,100,10,double_bubble2)\n",
    "end= time.clock()\n",
    "print(\"耗时：\",end-start)"
   ]
  },
  {
   "cell_type": "markdown",
   "metadata": {},
   "source": [
    "确实快了一点点"
   ]
  },
  {
   "cell_type": "markdown",
   "metadata": {},
   "source": [
    "## 设置一个标志位，看看是不是有序了"
   ]
  },
  {
   "cell_type": "code",
   "execution_count": 11,
   "metadata": {},
   "outputs": [],
   "source": [
    "def bubble_sort3(array):\n",
    "    L= len(array)\n",
    "    if L<2:\n",
    "        return array\n",
    "    for i in range(L-1):\n",
    "        flag=False\n",
    "        for j in range(L-1,i,-1):\n",
    "            if array[j]<array[j-1]:\n",
    "                array[j], array[j-1]= array[j-1], array[j]\n",
    "                flag=True\n",
    "        if not flag:\n",
    "            return array\n",
    "    return array"
   ]
  },
  {
   "cell_type": "code",
   "execution_count": 12,
   "metadata": {},
   "outputs": [
    {
     "name": "stdout",
     "output_type": "stream",
     "text": [
      "NICE\n",
      "耗时： 139.23998159880603\n"
     ]
    }
   ],
   "source": [
    "start= time.clock()\n",
    "isRight(200000,100,10,bubble_sort3)\n",
    "end= time.clock()\n",
    "print(\"耗时：\",end-start)"
   ]
  },
  {
   "cell_type": "code",
   "execution_count": null,
   "metadata": {},
   "outputs": [],
   "source": []
  }
 ],
 "metadata": {
  "kernelspec": {
   "display_name": "Python 3",
   "language": "python",
   "name": "python3"
  },
  "language_info": {
   "codemirror_mode": {
    "name": "ipython",
    "version": 3
   },
   "file_extension": ".py",
   "mimetype": "text/x-python",
   "name": "python",
   "nbconvert_exporter": "python",
   "pygments_lexer": "ipython3",
   "version": "3.5.6"
  },
  "toc": {
   "base_numbering": 1,
   "nav_menu": {},
   "number_sections": true,
   "sideBar": true,
   "skip_h1_title": false,
   "title_cell": "Table of Contents",
   "title_sidebar": "Contents",
   "toc_cell": false,
   "toc_position": {},
   "toc_section_display": true,
   "toc_window_display": false
  }
 },
 "nbformat": 4,
 "nbformat_minor": 2
}
