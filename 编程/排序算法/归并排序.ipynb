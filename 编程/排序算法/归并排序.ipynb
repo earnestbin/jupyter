{
 "cells": [
  {
   "cell_type": "code",
   "execution_count": 1,
   "metadata": {},
   "outputs": [],
   "source": [
    "from detecter import isRight\n",
    "import time"
   ]
  },
  {
   "cell_type": "code",
   "execution_count": 3,
   "metadata": {},
   "outputs": [],
   "source": [
    "def merge_sort(array):\n",
    "    def devide(arr):\n",
    "        L= len(arr)\n",
    "        if L<2:\n",
    "            return arr\n",
    "        mid= L//2\n",
    "        left= devide(arr[:mid])\n",
    "        right= devide(arr[mid:])\n",
    "        arr= merge(arr,left,right)\n",
    "        return arr\n",
    "    def merge(arr,a1,a2):\n",
    "        L= len(arr)\n",
    "        L1= len(a1)\n",
    "        L2= len(a2)\n",
    "        i=j=0\n",
    "        while i+j<L:\n",
    "            if j==L2 or (i<L1 and a1[i]<a2[j]):\n",
    "                arr[i+j]= a1[i]\n",
    "                i+=1\n",
    "            else:\n",
    "                arr[i+j]= a2[j]\n",
    "                j+=1\n",
    "        return arr\n",
    "    return devide(array)"
   ]
  },
  {
   "cell_type": "code",
   "execution_count": 5,
   "metadata": {},
   "outputs": [
    {
     "name": "stdout",
     "output_type": "stream",
     "text": [
      "NICE\n",
      "耗时： 55.85248568501942\n"
     ]
    }
   ],
   "source": [
    "start= time.clock()\n",
    "isRight(200000,100,10,merge_sort)\n",
    "end= time.clock()\n",
    "print(\"耗时：\",end-start)"
   ]
  },
  {
   "cell_type": "markdown",
   "metadata": {},
   "source": [
    "这种方法是我之前参考的python数据结构里面的，我还记得，很清楚"
   ]
  },
  {
   "cell_type": "markdown",
   "metadata": {},
   "source": [
    "## 其它写法"
   ]
  },
  {
   "cell_type": "code",
   "execution_count": 2,
   "metadata": {},
   "outputs": [],
   "source": [
    "def merge_sort2(array):\n",
    "    def merge(left, right):\n",
    "        i=j=0\n",
    "        res= []\n",
    "        L1= len(left)\n",
    "        L2= len(right)\n",
    "        while i<L1 and j<L2:\n",
    "            if left[i]<right[j]:\n",
    "                res.append(left[i])\n",
    "                i+=1\n",
    "            else:\n",
    "                res.append(right[j])\n",
    "                j+=1\n",
    "        res+=left[i:]+right[j:]\n",
    "        return res\n",
    "    def Sort(arr):\n",
    "        L= len(arr)\n",
    "        if L<2:\n",
    "            return arr\n",
    "        mid= L//2\n",
    "        left= Sort(arr[:mid])\n",
    "        right= Sort(arr[mid:])\n",
    "        return merge(left, right)\n",
    "    res= Sort(array)\n",
    "    return res"
   ]
  },
  {
   "cell_type": "code",
   "execution_count": 3,
   "metadata": {},
   "outputs": [
    {
     "name": "stdout",
     "output_type": "stream",
     "text": [
      "NICE\n",
      "耗时： 59.08417166876952\n"
     ]
    }
   ],
   "source": [
    "start= time.clock()\n",
    "isRight(200000,100,10,merge_sort2)\n",
    "end= time.clock()\n",
    "print(\"耗时：\",end-start)"
   ]
  },
  {
   "cell_type": "code",
   "execution_count": null,
   "metadata": {},
   "outputs": [],
   "source": []
  }
 ],
 "metadata": {
  "kernelspec": {
   "display_name": "Python 3",
   "language": "python",
   "name": "python3"
  },
  "language_info": {
   "codemirror_mode": {
    "name": "ipython",
    "version": 3
   },
   "file_extension": ".py",
   "mimetype": "text/x-python",
   "name": "python",
   "nbconvert_exporter": "python",
   "pygments_lexer": "ipython3",
   "version": "3.5.6"
  },
  "toc": {
   "base_numbering": 1,
   "nav_menu": {},
   "number_sections": true,
   "sideBar": true,
   "skip_h1_title": false,
   "title_cell": "Table of Contents",
   "title_sidebar": "Contents",
   "toc_cell": false,
   "toc_position": {},
   "toc_section_display": true,
   "toc_window_display": false
  }
 },
 "nbformat": 4,
 "nbformat_minor": 2
}
