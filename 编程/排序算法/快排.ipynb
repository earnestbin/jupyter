{
 "cells": [
  {
   "cell_type": "code",
   "execution_count": 5,
   "metadata": {},
   "outputs": [],
   "source": [
    "from detecter import isRight\n",
    "import time"
   ]
  },
  {
   "cell_type": "code",
   "execution_count": 6,
   "metadata": {},
   "outputs": [],
   "source": [
    "def quick_sort(array):\n",
    "    def recursion(arr,left,right):\n",
    "        if left<right:\n",
    "            temp= arr[right]\n",
    "            i= left\n",
    "            j= right\n",
    "            while i<j:\n",
    "                while i<j and arr[i]<temp:\n",
    "                    i+=1\n",
    "                while i<j and arr[j]>=temp:\n",
    "                    j-=1\n",
    "                arr[i],arr[j]=arr[j],arr[i]\n",
    "            arr[i], arr[right]= arr[right], arr[i]\n",
    "            recursion(arr,left,i-1)\n",
    "            recursion(arr,i+1,right)\n",
    "    recursion(array,0,len(array)-1)\n",
    "    return array"
   ]
  },
  {
   "cell_type": "code",
   "execution_count": 7,
   "metadata": {},
   "outputs": [
    {
     "name": "stdout",
     "output_type": "stream",
     "text": [
      "NICE\n",
      "耗时： 38.55679235362373\n"
     ]
    }
   ],
   "source": [
    "start= time.clock()\n",
    "isRight(200000,100,10,quick_sort)\n",
    "end= time.clock()\n",
    "print(\"耗时：\",end-start)"
   ]
  },
  {
   "cell_type": "markdown",
   "metadata": {},
   "source": [
    "真香"
   ]
  },
  {
   "cell_type": "markdown",
   "metadata": {},
   "source": [
    "## 对快排进行改进(随机快排)"
   ]
  },
  {
   "cell_type": "code",
   "execution_count": 27,
   "metadata": {},
   "outputs": [],
   "source": [
    "import random\n",
    "def fun(array):\n",
    "    def quick_sort2(num,start, end):\n",
    "        #对上面的快排进行改进，把等于标称值的数放到中间\n",
    "        if start<end:\n",
    "            #随机快排\n",
    "            t= random.randint(start,end)\n",
    "            cur= start\n",
    "            temp= num[t]\n",
    "            left, right= start-1, end+1\n",
    "            while cur<right:\n",
    "                if(num[cur]<temp):\n",
    "                    left+=1\n",
    "                    num[cur], num[left]= num[left],num[cur]\n",
    "                    cur+=1\n",
    "                elif num[cur]>temp:\n",
    "                    right-=1\n",
    "                    num[cur], num[right]=num[right],num[cur]\n",
    "                else:\n",
    "                    cur+=1\n",
    "            quick_sort2(num, start, left)\n",
    "            quick_sort2(num, right, end)\n",
    "    quick_sort2(array,0,len(array)-1)\n",
    "    return array"
   ]
  },
  {
   "cell_type": "code",
   "execution_count": 28,
   "metadata": {},
   "outputs": [
    {
     "name": "stdout",
     "output_type": "stream",
     "text": [
      "NICE\n",
      "耗时： 32.10151742483367\n"
     ]
    }
   ],
   "source": [
    "start= time.clock()\n",
    "isRight(200000,100,10,fun)\n",
    "end= time.clock()\n",
    "print(\"耗时：\",end-start)"
   ]
  },
  {
   "cell_type": "code",
   "execution_count": 29,
   "metadata": {},
   "outputs": [
    {
     "name": "stdout",
     "output_type": "stream",
     "text": [
      "NICE\n",
      "耗时： 16.181305657116354\n"
     ]
    }
   ],
   "source": [
    "def fun2(array):\n",
    "    return sorted(array)\n",
    "start= time.clock()\n",
    "isRight(200000,100,10,fun2)\n",
    "end= time.clock()\n",
    "print(\"耗时：\",end-start)"
   ]
  },
  {
   "cell_type": "code",
   "execution_count": 27,
   "metadata": {},
   "outputs": [],
   "source": [
    "def quick_sort(array):\n",
    "    def fun(array, left, right):\n",
    "        if left<right:\n",
    "            flag= array[right]\n",
    "            i,j=left,right\n",
    "            while i<j:\n",
    "                while i<j and array[i]<flag:\n",
    "                    i+=1\n",
    "                while i<j and array[j]>=flag:\n",
    "                    j-=1\n",
    "                array[i], array[j]= array[j], array[i]\n",
    "            array[i], array[right]= array[right], array[i]\n",
    "            fun(array,left,i-1)\n",
    "            fun(array,i+1,right)\n",
    "    fun(array,0,len(array)-1)\n",
    "    return array"
   ]
  },
  {
   "cell_type": "code",
   "execution_count": 25,
   "metadata": {},
   "outputs": [
    {
     "data": {
      "text/plain": [
       "[1, 2, 3, 5]"
      ]
     },
     "execution_count": 25,
     "metadata": {},
     "output_type": "execute_result"
    }
   ],
   "source": [
    "array= [1,3,2,5]\n",
    "quick_sort(array)"
   ]
  },
  {
   "cell_type": "code",
   "execution_count": 28,
   "metadata": {},
   "outputs": [
    {
     "name": "stdout",
     "output_type": "stream",
     "text": [
      "NICE\n",
      "耗时： 39.084806057263904\n"
     ]
    }
   ],
   "source": [
    "start= time.clock()\n",
    "isRight(200000,100,10,quick_sort)\n",
    "end= time.clock()\n",
    "print(\"耗时：\",end-start)"
   ]
  },
  {
   "cell_type": "code",
   "execution_count": null,
   "metadata": {},
   "outputs": [],
   "source": []
  }
 ],
 "metadata": {
  "kernelspec": {
   "display_name": "Python 3",
   "language": "python",
   "name": "python3"
  },
  "language_info": {
   "codemirror_mode": {
    "name": "ipython",
    "version": 3
   },
   "file_extension": ".py",
   "mimetype": "text/x-python",
   "name": "python",
   "nbconvert_exporter": "python",
   "pygments_lexer": "ipython3",
   "version": "3.5.6"
  },
  "toc": {
   "base_numbering": 1,
   "nav_menu": {},
   "number_sections": true,
   "sideBar": true,
   "skip_h1_title": false,
   "title_cell": "Table of Contents",
   "title_sidebar": "Contents",
   "toc_cell": false,
   "toc_position": {},
   "toc_section_display": true,
   "toc_window_display": false
  }
 },
 "nbformat": 4,
 "nbformat_minor": 2
}
