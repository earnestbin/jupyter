{
 "cells": [
  {
   "cell_type": "code",
   "execution_count": 1,
   "metadata": {},
   "outputs": [],
   "source": [
    "#导入对数器\n",
    "from detecter import isRight\n",
    "\"\"\"\n",
    "    isRight(次数，长度，数字范围，测试方法)\n",
    "    此对数器改变了输入的数组，而sorted这样的方法不可以测试，因为它并不改变原来的数组\n",
    "\"\"\"\n",
    "import time"
   ]
  },
  {
   "cell_type": "code",
   "execution_count": 7,
   "metadata": {},
   "outputs": [],
   "source": [
    "def insert_sort(array):\n",
    "    if len(array)<=1:\n",
    "        return array\n",
    "    L= len(array)\n",
    "    for i in range(1,L):\n",
    "        temp= i\n",
    "        for j in range(i-1,-1,-1):\n",
    "            if array[temp]<array[j]:\n",
    "                array[temp], array[j]= array[j], array[temp]\n",
    "                temp=j\n",
    "            else:\n",
    "                break\n",
    "    return array"
   ]
  },
  {
   "cell_type": "markdown",
   "metadata": {},
   "source": [
    "## 按照程序员面试笔试宝典改造以下看看是不是有长进"
   ]
  },
  {
   "cell_type": "code",
   "execution_count": 2,
   "metadata": {},
   "outputs": [],
   "source": [
    "def insert_sort2(array):\n",
    "    L= len(array)\n",
    "    if L<=1:\n",
    "        return array\n",
    "    for i in range(1,L):\n",
    "        temp= array[i]\n",
    "        for j in range(i-1,-1,-1):\n",
    "            if temp<array[j]:\n",
    "                array[j+1]= array[j]\n",
    "            else:\n",
    "                j+=1\n",
    "                break\n",
    "        array[j]= temp\n",
    "    return array"
   ]
  },
  {
   "cell_type": "markdown",
   "metadata": {},
   "source": [
    "这里改造要注意程序员面试笔试宝典是用c写的，用Python改写不太一样，尤其是边界"
   ]
  },
  {
   "cell_type": "code",
   "execution_count": 8,
   "metadata": {},
   "outputs": [
    {
     "name": "stdout",
     "output_type": "stream",
     "text": [
      "NICE\n",
      "耗时： 84.07804724063891\n"
     ]
    }
   ],
   "source": [
    "start= time.clock()\n",
    "isRight(200000,100,10,insert_sort)\n",
    "end= time.clock()\n",
    "print(\"耗时：\",end-start)"
   ]
  },
  {
   "cell_type": "code",
   "execution_count": 3,
   "metadata": {},
   "outputs": [
    {
     "name": "stdout",
     "output_type": "stream",
     "text": [
      "NICE\n",
      "耗时： 69.9433884182191\n"
     ]
    }
   ],
   "source": [
    "start= time.clock()\n",
    "isRight(200000,100,10,insert_sort2)\n",
    "end= time.clock()\n",
    "print(\"耗时：\",end-start)"
   ]
  },
  {
   "cell_type": "markdown",
   "metadata": {},
   "source": [
    "优化过之后速度果然快了很多"
   ]
  },
  {
   "cell_type": "markdown",
   "metadata": {},
   "source": [
    "## 试图用二分法节省查找时间"
   ]
  },
  {
   "cell_type": "code",
   "execution_count": 9,
   "metadata": {},
   "outputs": [],
   "source": [
    "def insert_sort3(array):\n",
    "    L= len(array)\n",
    "    if L<=1:\n",
    "        return array\n",
    "    for i in range(1,L):\n",
    "        temp= array[i]\n",
    "        left= 0\n",
    "        right= i-1\n",
    "        while left<=right:\n",
    "            mid= (left+right)//2\n",
    "            if temp<array[mid]:\n",
    "                right= mid-1\n",
    "            else:\n",
    "                left= mid+1\n",
    "        for j in range(i-1,left-1,-1):\n",
    "            if temp<array[j]:\n",
    "                array[j+1]= array[j]\n",
    "        if left!=i:\n",
    "            array[left]= temp\n",
    "    return array"
   ]
  },
  {
   "cell_type": "code",
   "execution_count": 10,
   "metadata": {},
   "outputs": [
    {
     "name": "stdout",
     "output_type": "stream",
     "text": [
      "NICE\n",
      "耗时： 83.37227033715317\n"
     ]
    }
   ],
   "source": [
    "start= time.clock()\n",
    "isRight(200000,100,10,insert_sort3)\n",
    "end= time.clock()\n",
    "print(\"耗时：\",end-start)"
   ]
  },
  {
   "cell_type": "markdown",
   "metadata": {},
   "source": [
    "不知道为什么二分法反而更加耗时"
   ]
  },
  {
   "cell_type": "code",
   "execution_count": null,
   "metadata": {},
   "outputs": [],
   "source": []
  }
 ],
 "metadata": {
  "kernelspec": {
   "display_name": "Python 3",
   "language": "python",
   "name": "python3"
  },
  "language_info": {
   "codemirror_mode": {
    "name": "ipython",
    "version": 3
   },
   "file_extension": ".py",
   "mimetype": "text/x-python",
   "name": "python",
   "nbconvert_exporter": "python",
   "pygments_lexer": "ipython3",
   "version": "3.5.6"
  },
  "toc": {
   "base_numbering": 1,
   "nav_menu": {},
   "number_sections": true,
   "sideBar": true,
   "skip_h1_title": false,
   "title_cell": "Table of Contents",
   "title_sidebar": "Contents",
   "toc_cell": false,
   "toc_position": {},
   "toc_section_display": true,
   "toc_window_display": false
  }
 },
 "nbformat": 4,
 "nbformat_minor": 2
}
