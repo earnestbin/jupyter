{
 "cells": [
  {
   "cell_type": "markdown",
   "metadata": {},
   "source": [
    "选择排序的原理就是找到第二个数开始比第一个数小的最小的数，和第一个数交换，然后从第三个数开始，找比第二个数小的最小的数，然后交换，依此类推"
   ]
  },
  {
   "cell_type": "code",
   "execution_count": 4,
   "metadata": {},
   "outputs": [],
   "source": [
    "from detecter import isRight\n",
    "import time"
   ]
  },
  {
   "cell_type": "code",
   "execution_count": 10,
   "metadata": {},
   "outputs": [],
   "source": [
    "def select_sort(array):\n",
    "    L= len(array)\n",
    "    if L<2:\n",
    "        return array\n",
    "    for i in range(L-1):\n",
    "        temp= array[i]\n",
    "        flag= i\n",
    "        for j in range(i+1,L):\n",
    "            if array[j]<temp:\n",
    "                temp= array[j]\n",
    "                flag=j\n",
    "        if flag!=i:\n",
    "            array[i],array[flag]= array[flag], array[i]\n",
    "    return array"
   ]
  },
  {
   "cell_type": "code",
   "execution_count": 11,
   "metadata": {},
   "outputs": [
    {
     "name": "stdout",
     "output_type": "stream",
     "text": [
      "NICE\n",
      "耗时： 64.31070429159092\n"
     ]
    }
   ],
   "source": [
    "start= time.clock()\n",
    "isRight(200000,100,10,select_sort)\n",
    "end= time.clock()\n",
    "print(\"耗时：\",end-start)"
   ]
  },
  {
   "cell_type": "markdown",
   "metadata": {},
   "source": [
    "看来选择排序比插入排序快一点"
   ]
  },
  {
   "cell_type": "code",
   "execution_count": null,
   "metadata": {},
   "outputs": [],
   "source": []
  }
 ],
 "metadata": {
  "kernelspec": {
   "display_name": "Python 3",
   "language": "python",
   "name": "python3"
  },
  "language_info": {
   "codemirror_mode": {
    "name": "ipython",
    "version": 3
   },
   "file_extension": ".py",
   "mimetype": "text/x-python",
   "name": "python",
   "nbconvert_exporter": "python",
   "pygments_lexer": "ipython3",
   "version": "3.5.6"
  },
  "toc": {
   "base_numbering": 1,
   "nav_menu": {},
   "number_sections": true,
   "sideBar": true,
   "skip_h1_title": false,
   "title_cell": "Table of Contents",
   "title_sidebar": "Contents",
   "toc_cell": false,
   "toc_position": {},
   "toc_section_display": true,
   "toc_window_display": false
  }
 },
 "nbformat": 4,
 "nbformat_minor": 2
}
