{
 "cells": [
  {
   "cell_type": "markdown",
   "metadata": {},
   "source": [
    "## python多进程和多线程\n",
    "python3中thread已经遗弃，改用threading"
   ]
  },
  {
   "cell_type": "code",
   "execution_count": 9,
   "metadata": {},
   "outputs": [
    {
     "name": "stdout",
     "output_type": "stream",
     "text": [
      "开始：Tue Jul 30 14:26:17 2019\n",
      "主进程结束：Tue Jul 30 14:26:22 2019\n"
     ]
    }
   ],
   "source": [
    "#多进程的例子\n",
    "import time\n",
    "import multiprocessing\n",
    "def func():\n",
    "    print(\"子进程开始：%s\"%time.ctime())\n",
    "    time.sleep(5)\n",
    "    print(\"子进程结束：%s\"%time.ctime())\n",
    "#开启多进程\n",
    "def main():\n",
    "    p= multiprocessing.Process(target=func)\n",
    "    p.start()\n",
    "    p.join()\n",
    "if __name__ == \"__main__\":\n",
    "    print(\"开始：%s\"%time.ctime())\n",
    "    main()\n",
    "    time.sleep(5)\n",
    "    print(\"主进程结束：%s\"%time.ctime())"
   ]
  },
  {
   "cell_type": "markdown",
   "metadata": {},
   "source": [
    "Jupyter上运行结果和Vscode上不一样，这里子进程居然不允许，奇了怪"
   ]
  },
  {
   "cell_type": "code",
   "execution_count": 18,
   "metadata": {},
   "outputs": [
    {
     "data": {
      "text/plain": [
       "4"
      ]
     },
     "execution_count": 18,
     "metadata": {},
     "output_type": "execute_result"
    }
   ],
   "source": [
    "#查看CPU有多少核\n",
    "import os\n",
    "os.cpu_count()"
   ]
  },
  {
   "cell_type": "code",
   "execution_count": 6,
   "metadata": {},
   "outputs": [
    {
     "name": "stdout",
     "output_type": "stream",
     "text": [
      "开始：Tue Jul 30 12:39:23 2019\n",
      "子线程开始：Tue Jul 30 12:39:23 2019\n",
      "子线程结束：Tue Jul 30 12:39:28 2019\n",
      "主线程结束：Tue Jul 30 12:39:33 2019\n"
     ]
    }
   ],
   "source": [
    "#多线程的例子\n",
    "import time\n",
    "import threading\n",
    "def func():\n",
    "    print(\"子线程开始：%s\"%time.ctime())\n",
    "    time.sleep(5)\n",
    "    print(\"子线程结束：%s\"%time.ctime())\n",
    "#开启多进程\n",
    "p= threading.Thread(target=func)\n",
    "if __name__ == \"__main__\":\n",
    "    print(\"开始：%s\"%time.ctime())\n",
    "    p.start()\n",
    "    p.join()\n",
    "    time.sleep(5)\n",
    "    print(\"主线程结束：%s\"%time.ctime())"
   ]
  },
  {
   "cell_type": "code",
   "execution_count": 5,
   "metadata": {},
   "outputs": [
    {
     "name": "stdout",
     "output_type": "stream",
     "text": [
      "听音乐 Mon Jul 29 21:29:21 2019\n",
      "听音乐 Mon Jul 29 21:29:22 2019\n",
      "看电影 Mon Jul 29 21:29:23 2019\n",
      "看电影 Mon Jul 29 21:29:28 2019\n",
      "娱乐结束 Mon Jul 29 21:29:33 2019\n"
     ]
    }
   ],
   "source": [
    "#通过一些简单的例子来逐步了解多线程\n",
    "from time import ctime,sleep\n",
    "def music():\n",
    "    for i in range(2):\n",
    "        print(\"听音乐 %s\"%ctime())\n",
    "        sleep(1)\n",
    "def move():\n",
    "    for i in range(2):\n",
    "        print(\"看电影 %s\"%ctime())\n",
    "        sleep(5)\n",
    "music()\n",
    "move()\n",
    "print(\"娱乐结束 %s\"%ctime())"
   ]
  },
  {
   "cell_type": "markdown",
   "metadata": {},
   "source": [
    "如何做到同时听音乐并看电影？"
   ]
  },
  {
   "cell_type": "code",
   "execution_count": 15,
   "metadata": {},
   "outputs": [
    {
     "name": "stdout",
     "output_type": "stream",
     "text": [
      "all start Mon Jul 29 21:57:30 2019\n",
      "听音乐 Mon Jul 29 21:57:30 2019\n",
      "看电影 Mon Jul 29 21:57:30 2019\n",
      "听音乐 Mon Jul 29 21:57:35 2019看电影 Mon Jul 29 21:57:35 2019\n",
      "\n",
      "all over Mon Jul 29 21:57:40 2019\n"
     ]
    }
   ],
   "source": [
    "import threading\n",
    "def music(func):\n",
    "    for i in range(2):\n",
    "        print(\"听音乐 %s\"%ctime())\n",
    "        sleep(5)\n",
    "def movie(func):\n",
    "    for i in range(2):\n",
    "        print(\"看电影 %s\"%ctime())\n",
    "        sleep(5)\n",
    "threads= []\n",
    "t1= threading.Thread(target=music,args=(\"sososo\",))\n",
    "threads.append(t1)\n",
    "t2= threading.Thread(target=movie,args=(\"li\",))\n",
    "threads.append(t2)\n",
    "if __name__==\"__main__\":\n",
    "    print(\"all start %s\"%ctime())\n",
    "    for t in threads:\n",
    "        t.setDaemon(True)\n",
    "        t.start()\n",
    "    t.join()#这里的join()提供了一个阻塞，防止子线程未执行完\n",
    "    print(\"all over %s\"%ctime())"
   ]
  },
  {
   "cell_type": "markdown",
   "metadata": {},
   "source": [
    "貌似多线程可以让多个程序在同一时间执行，这样就节省了排队执行的时间，你想想看，看电影花费5的时间，听音乐花费1的时间，因此总的花费时间取决于花费时间多的"
   ]
  },
  {
   "cell_type": "markdown",
   "metadata": {},
   "source": [
    "上面的代码有个地方让人不满意，每次创建新的线程还得需要threading.Thread()一个个的添加，这样很麻烦说实话，能不能通过for循环来实现"
   ]
  },
  {
   "cell_type": "code",
   "execution_count": 17,
   "metadata": {},
   "outputs": [
    {
     "name": "stdout",
     "output_type": "stream",
     "text": [
      "听音乐 Mon Jul 29 22:12:48 2019\n",
      "看电影 Mon Jul 29 22:12:48 2019\n",
      "听音乐 Mon Jul 29 22:12:53 2019看电影 Mon Jul 29 22:12:53 2019\n",
      "\n",
      "结束 Mon Jul 29 22:12:58 2019\n"
     ]
    }
   ],
   "source": [
    "from time import *\n",
    "import threading\n",
    "def music(func):\n",
    "    for i in range(2):\n",
    "        print(\"听音乐 %s\"%ctime())\n",
    "        sleep(5)\n",
    "def movie(func):\n",
    "    for i in range(2):\n",
    "        print(\"看电影 %s\"%ctime())\n",
    "        sleep(5)\n",
    "def player(name):\n",
    "    r= name.split(\".\")[1]\n",
    "    if r==\"mp3\":\n",
    "        music(name)\n",
    "    elif r==\"mp4\":\n",
    "        movie(name)\n",
    "    else:\n",
    "        print(\"fuck you!\")\n",
    "L= [\"爱情买卖.mp3\",\"天下无贼.mp4\"]\n",
    "threads=[]\n",
    "for i in range(len(L)):\n",
    "    t= threading.Thread(target=player,args=(L[i],))\n",
    "    threads.append(t)\n",
    "if __name__==\"__main__\":\n",
    "    for i in range(len(L)):\n",
    "        threads[i].start()\n",
    "    for i in range(len(L)):\n",
    "        threads[i].join()\n",
    "    print(\"结束 %s\"%ctime())"
   ]
  },
  {
   "cell_type": "code",
   "execution_count": 20,
   "metadata": {},
   "outputs": [
    {
     "name": "stdout",
     "output_type": "stream",
     "text": [
      "Start playing:监狱风云.mp4!Mon Jul 29 22:19:35 2019\n",
      "Start playing:我不是黄蓉.mp3!Mon Jul 29 22:19:35 2019\n",
      "Start playing:我不是黄蓉.mp3!Mon Jul 29 22:19:38 2019\n",
      "Start playing:监狱风云.mp4!Mon Jul 29 22:19:40 2019\n",
      "结束 Mon Jul 29 22:19:45 2019\n"
     ]
    }
   ],
   "source": [
    "#将电影和音乐放到一起\n",
    "from time import *\n",
    "import threading\n",
    "def super_player(file, time):\n",
    "    for i in range(2):\n",
    "        print(\"Start playing:%s!%s\"%(file,ctime()))\n",
    "        sleep(time)\n",
    "L={\"我不是黄蓉.mp3\":3,\"监狱风云.mp4\":5}\n",
    "threads=[]\n",
    "for file, time in L.items():\n",
    "    t= threading.Thread(target= super_player,args=(file,time,))\n",
    "    threads.append(t)\n",
    "if __name__==\"__main__\":\n",
    "    for i in range(len(L)):\n",
    "        threads[i].start()\n",
    "    for i in range(len(L)):\n",
    "        threads[i].join()\n",
    "    print(\"结束 %s\" %ctime())"
   ]
  },
  {
   "cell_type": "code",
   "execution_count": 27,
   "metadata": {},
   "outputs": [
    {
     "name": "stdout",
     "output_type": "stream",
     "text": [
      "Start playing:监狱风云.mp4!Mon Jul 29 22:48:52 2019\n",
      "Start playing:我不是黄蓉.mp3!Mon Jul 29 22:48:52 2019\n",
      "Start playing:我不是黄蓉.mp3!Mon Jul 29 22:48:55 2019\n",
      "Start playing:监狱风云.mp4!Mon Jul 29 22:48:57 2019\n",
      "结束 Mon Jul 29 22:49:02 2019\n"
     ]
    }
   ],
   "source": [
    "import threading\n",
    "#创建自己的多线程类\n",
    "class MyThread(threading.Thread):\n",
    "    def __init__(self,func, args, name=\"\"):\n",
    "        threading.Thread.__init__(self)\n",
    "        self.name= name\n",
    "        self.func= func\n",
    "        self.args= args\n",
    "    def run(self):\n",
    "        self.func(*self.args)\n",
    "def super_player(file, time):\n",
    "    for i in range(2):\n",
    "        print(\"Start playing:%s!%s\"%(file,ctime()))\n",
    "        sleep(time)\n",
    "L={\"我不是黄蓉.mp3\":3,\"监狱风云.mp4\":5}\n",
    "threads=[]\n",
    "for k,v in L.items():\n",
    "    t= MyThread(super_player,(k,v),super_player.__name__)\n",
    "    threads.append(t)\n",
    "if __name__==\"__main__\":\n",
    "    for i in range(len(L)):\n",
    "        threads[i].start()\n",
    "    for i in range(len(L)):\n",
    "        threads[i].join()\n",
    "    print(\"结束 %s\" %ctime())"
   ]
  },
  {
   "cell_type": "code",
   "execution_count": 13,
   "metadata": {},
   "outputs": [
    {
     "name": "stdout",
     "output_type": "stream",
     "text": [
      "从https://gss0.baidu.com/-Po3dSag_xI4khGko9WTAnF6hhy/zhidao/wh%3D600%2C800/sign=08660b2573f0f736d8ab44073a659f21/fc1f4134970a304e861d9da0dac8a786c9175ca8.jpg下载图片......\n",
      "从https://gss0.baidu.com/-Po3dSag_xI4khGko9WTAnF6hhy/zhidao/wh%3D600%2C800/sign=08660b2573f0f736d8ab44073a659f21/fc1f4134970a304e861d9da0dac8a786c9175ca8.jpg下载图片......\n",
      "从https://gss0.baidu.com/-Po3dSag_xI4khGko9WTAnF6hhy/zhidao/wh%3D600%2C800/sign=08660b2573f0f736d8ab44073a659f21/fc1f4134970a304e861d9da0dac8a786c9175ca8.jpg下载图片......\n",
      "从https://gss0.baidu.com/-Po3dSag_xI4khGko9WTAnF6hhy/zhidao/wh%3D600%2C800/sign=08660b2573f0f736d8ab44073a659f21/fc1f4134970a304e861d9da0dac8a786c9175ca8.jpg下载图片......\n",
      "从https://gss0.baidu.com/-Po3dSag_xI4khGko9WTAnF6hhy/zhidao/wh%3D600%2C800/sign=08660b2573f0f736d8ab44073a659f21/fc1f4134970a304e861d9da0dac8a786c9175ca8.jpg下载图片......\n",
      "从https://gss0.baidu.com/-Po3dSag_xI4khGko9WTAnF6hhy/zhidao/wh%3D600%2C800/sign=08660b2573f0f736d8ab44073a659f21/fc1f4134970a304e861d9da0dac8a786c9175ca8.jpg下载图片......\n",
      "从https://gss0.baidu.com/-Po3dSag_xI4khGko9WTAnF6hhy/zhidao/wh%3D600%2C800/sign=08660b2573f0f736d8ab44073a659f21/fc1f4134970a304e861d9da0dac8a786c9175ca8.jpg下载图片......\n",
      "从https://gss0.baidu.com/-Po3dSag_xI4khGko9WTAnF6hhy/zhidao/wh%3D600%2C800/sign=08660b2573f0f736d8ab44073a659f21/fc1f4134970a304e861d9da0dac8a786c9175ca8.jpg下载图片......\n",
      "从https://gss0.baidu.com/-Po3dSag_xI4khGko9WTAnF6hhy/zhidao/wh%3D600%2C800/sign=08660b2573f0f736d8ab44073a659f21/fc1f4134970a304e861d9da0dac8a786c9175ca8.jpg下载图片......\n",
      "从https://gss0.baidu.com/-Po3dSag_xI4khGko9WTAnF6hhy/zhidao/wh%3D600%2C800/sign=08660b2573f0f736d8ab44073a659f21/fc1f4134970a304e861d9da0dac8a786c9175ca8.jpg下载图片......\n",
      "耗时： 1.4770457744598389\n"
     ]
    }
   ],
   "source": [
    "#爬取图片并下载，测试速度，然后用多线程看速度提高多少\n",
    "import urllib.request\n",
    "import time\n",
    "def downloadImage(url,filename):\n",
    "    print(\"下载图片......\".format(time.ctime()))\n",
    "    urllib.request.urlretrieve(url,filename)\n",
    "def main():\n",
    "    for i in range(10):\n",
    "        pic_name= \"{}.jpg\".format(i)\n",
    "        downloadImage(r'https://gss0.baidu.com/-Po3dSag_xI4khGko9WTAnF6hhy/zhidao/wh%3D600%2C800/sign=08660b2573f0f736d8ab44073a659f21/fc1f4134970a304e861d9da0dac8a786c9175ca8.jpg',pic_name)\n",
    "if __name__==\"__main__\":\n",
    "    t0= time.time()\n",
    "    main()\n",
    "    t1= time.time()\n",
    "    print(\"耗时：\",t1-t0)"
   ]
  },
  {
   "cell_type": "code",
   "execution_count": 14,
   "metadata": {},
   "outputs": [
    {
     "name": "stdout",
     "output_type": "stream",
     "text": [
      "下载图片......下载图片......\n",
      "\n",
      "下载图片......\n",
      "下载图片......\n",
      "下载图片......\n",
      "下载图片......\n",
      "下载图片......\n",
      "下载图片......\n",
      "下载图片......\n",
      "下载图片......\n",
      "耗时： 0.29180479049682617\n"
     ]
    }
   ],
   "source": [
    "#开启多线程\n",
    "import urllib.request\n",
    "import time\n",
    "import threading\n",
    "url=r\"https://gss0.baidu.com/-Po3dSag_xI4khGko9WTAnF6hhy/zhidao/wh%3D600%2C800/sign=08660b2573f0f736d8ab44073a659f21/fc1f4134970a304e861d9da0dac8a786c9175ca8.jpg\"\n",
    "def downloadImage(url,filename):\n",
    "    print(\"下载图片......\".format(time.ctime()))\n",
    "    urllib.request.urlretrieve(url,filename)\n",
    "def Thread(i):\n",
    "    pic_name=\"{}.jpg\".format(i)\n",
    "    downloadImage(url,pic_name)\n",
    "def main():\n",
    "    threads=[]\n",
    "    for i in range(10):\n",
    "        thread= threading.Thread(target= Thread,args=(i,))\n",
    "        threads.append(thread)\n",
    "        thread.start()\n",
    "    for i in threads:\n",
    "        i.join()\n",
    "if __name__==\"__main__\":\n",
    "    t0= time.time()\n",
    "    main()\n",
    "    t1= time.time()\n",
    "    print(\"耗时：\",t1-t0)"
   ]
  },
  {
   "cell_type": "markdown",
   "metadata": {},
   "source": [
    "很明显使用多线程快了很多，多线程适合用于I/O密集型，多进程适合计算密集型"
   ]
  },
  {
   "cell_type": "code",
   "execution_count": 18,
   "metadata": {},
   "outputs": [
    {
     "name": "stdout",
     "output_type": "stream",
     "text": [
      "开始计算\n",
      "7647949\n",
      "53550643\n",
      "35821001\n",
      "26638253\n",
      "17966681\n",
      "54386599\n",
      "69882577\n",
      "27271781\n",
      "57600791\n",
      "33998369\n",
      "57953449\n",
      "70365041\n",
      "23782757\n",
      "47046611\n",
      "54612427\n",
      "46943473\n",
      "1841003\n",
      "40908893\n",
      "36580169\n",
      "35137253\n",
      "51663883\n",
      "65525969\n",
      "6995231\n",
      "24336089\n",
      "39940009\n",
      "72501797\n",
      "72997619\n",
      "12727381\n",
      "63055801\n",
      "49565743\n",
      "18646231\n",
      "76805117\n",
      "39189967\n",
      "67000937\n",
      "68397887\n",
      "70217177\n",
      "97546373\n",
      "83208017\n",
      "5691029\n",
      "73785007\n",
      "47101573\n",
      "23383727\n",
      "41423827\n",
      "85888273\n",
      "21848923\n",
      "78370111\n",
      "77507011\n",
      "49969807\n",
      "17782217\n",
      "8764927\n",
      "80533823\n",
      "16847893\n",
      "60519353\n",
      "43124017\n",
      "13018153\n",
      "84026941\n",
      "57366919\n",
      "84126299\n",
      "38118679\n",
      "19557623\n",
      "58899019\n",
      "18620141\n",
      "81935939\n",
      "51357899\n",
      "30561269\n",
      "91958947\n",
      "93198419\n",
      "76064057\n",
      "35158639\n",
      "86177843\n",
      "78082201\n",
      "23991203\n",
      "1971469\n",
      "494237\n",
      "89704081\n",
      "67595963\n",
      "1584059\n",
      "62273243\n",
      "86980363\n",
      "80625437\n",
      "3387997\n",
      "56422673\n",
      "45466501\n",
      "65084137\n",
      "49297681\n",
      "48650879\n",
      "43913543\n",
      "21106957\n",
      "13376707\n",
      "19383647\n",
      "18047747\n",
      "86083253\n",
      "23831953\n",
      "6102589\n",
      "62415697\n",
      "95799427\n",
      "75670501\n",
      "90086839\n",
      "6998779\n",
      "63454439\n",
      "9542167\n",
      "98581969\n",
      "41676233\n",
      "60324431\n",
      "38889989\n",
      "78505513\n",
      "46334081\n",
      "4896377\n",
      "53936963\n",
      "45779869\n",
      "64846363\n",
      "35526487\n",
      "90777811\n",
      "45954641\n",
      "89081897\n",
      "6470543\n",
      "58593221\n",
      "19027717\n",
      "58276711\n",
      "42970217\n",
      "94567709\n",
      "93718463\n",
      "30714881\n",
      "37661201\n",
      "55100429\n",
      "61257407\n",
      "72779437\n",
      "93035363\n",
      "80742371\n",
      "48551809\n",
      "6827939\n",
      "31646477\n",
      "61950731\n",
      "73248569\n",
      "79339693\n",
      "43394509\n",
      "58778371\n",
      "80218211\n",
      "15774211\n",
      "22638643\n",
      "26951467\n",
      "80781823\n",
      "83052763\n",
      "6782231\n",
      "82885987\n",
      "48408187\n",
      "70894121\n",
      "70385719\n",
      "40539379\n",
      "34433767\n",
      "13228679\n",
      "31284733\n",
      "21324881\n",
      "20971723\n",
      "39000127\n",
      "35967311\n",
      "29058103\n",
      "12424931\n",
      "76043867\n",
      "18680699\n",
      "60282227\n",
      "99586859\n",
      "13644887\n",
      "45897767\n",
      "99987799\n",
      "96664481\n",
      "55664339\n",
      "38444713\n",
      "74228587\n",
      "26589793\n",
      "68723449\n",
      "50238473\n",
      "41530859\n",
      "64692899\n",
      "2185649\n",
      "44033771\n",
      "34156387\n",
      "79617611\n",
      "31376503\n",
      "96535259\n",
      "28147979\n",
      "93829481\n",
      "31985251\n",
      "9727681\n",
      "60591653\n",
      "95468479\n",
      "1052531\n",
      "2878147\n",
      "69817669\n",
      "57921841\n",
      "52306327\n",
      "93245261\n",
      "97028681\n",
      "18302357\n",
      "36296749\n",
      "87120953\n",
      "14947103\n",
      "84845743\n",
      "44139331\n",
      "29622317\n",
      "30021451\n",
      "85085843\n",
      "98593771\n",
      "16435681\n",
      "85172257\n",
      "72701303\n",
      "39586409\n",
      "91887269\n",
      "83449271\n",
      "2644153\n",
      "55789511\n",
      "42626417\n",
      "95918209\n",
      "29652853\n",
      "18934231\n",
      "75710617\n",
      "7290463\n",
      "19424723\n",
      "43727867\n",
      "65802179\n",
      "88502929\n",
      "78061859\n",
      "40172971\n",
      "914941\n",
      "52815031\n",
      "95902441\n",
      "10076653\n",
      "27072547\n",
      "60446453\n",
      "87861691\n",
      "8222987\n",
      "27577027\n",
      "94336181\n",
      "75978577\n",
      "95863951\n",
      "29293183\n",
      "31141819\n",
      "35137397\n",
      "878749\n",
      "62898229\n",
      "52059991\n",
      "46717019\n",
      "40350589\n",
      "40785263\n",
      "2319029\n",
      "15314077\n",
      "72339259\n",
      "74043881\n",
      "76669987\n",
      "65893739\n",
      "50479769\n",
      "3304219\n",
      "66006203\n",
      "4708513\n",
      "49788727\n",
      "42382699\n",
      "46520963\n",
      "2756491\n",
      "23635673\n",
      "19020871\n",
      "38102983\n",
      "90417527\n",
      "7324969\n",
      "53480387\n",
      "44999137\n",
      "96108637\n",
      "53641901\n",
      "6407833\n",
      "68954869\n",
      "64606967\n",
      "35363257\n",
      "56459813\n",
      "73976779\n",
      "18241511\n",
      "25474147\n",
      "29644871\n",
      "60262063\n",
      "57773743\n",
      "24698483\n",
      "88872313\n",
      "568669\n",
      "27479593\n",
      "67543037\n",
      "73573163\n",
      "7617161\n",
      "38999713\n",
      "56997803\n",
      "65431211\n",
      "18054991\n",
      "31499731\n",
      "87901901\n",
      "34036819\n",
      "55845737\n",
      "2943113\n",
      "48064391\n",
      "29082253\n",
      "58875907\n",
      "87518779\n",
      "19106309\n",
      "63573691\n",
      "12831461\n",
      "24692953\n",
      "6811799\n",
      "55285501\n",
      "21529273\n",
      "39474389\n",
      "95800193\n",
      "67367357\n",
      "8778167\n",
      "63672589\n",
      "41452819\n",
      "58546097\n",
      "63218629\n",
      "91651741\n",
      "31020481\n",
      "24512921\n",
      "27531683\n",
      "90853039\n",
      "12384623\n",
      "51992251\n",
      "75298549\n",
      "90150581\n",
      "93077953\n",
      "85035299\n",
      "43137793\n",
      "40368619\n",
      "67488653\n",
      "40265473\n",
      "39433781\n",
      "30657629\n",
      "65957623\n",
      "6694837\n",
      "91925167\n",
      "7880441\n",
      "24659867\n",
      "45498373\n",
      "85952329\n",
      "83176507\n",
      "90104263\n",
      "67152823\n",
      "69704821\n",
      "16996183\n",
      "38370991\n",
      "30888967\n",
      "41750279\n",
      "48165827\n",
      "79367621\n",
      "51995611\n",
      "7781117\n",
      "81260761\n",
      "3092813\n",
      "71864983\n",
      "80808337\n",
      "96503689\n",
      "28487377\n",
      "47544983\n",
      "16647949\n",
      "1305533\n",
      "44810671\n",
      "40173593\n",
      "77850137\n",
      "16919401\n",
      "72075851\n",
      "85056871\n",
      "21516857\n",
      "94561793\n",
      "77358949\n",
      "22957607\n",
      "55829623\n",
      "9555643\n",
      "25949071\n",
      "78209507\n",
      "27906239\n",
      "80155073\n",
      "58201621\n",
      "89295049\n",
      "70748861\n",
      "26789017\n",
      "89166269\n",
      "80765441\n",
      "61492913\n",
      "16607879\n",
      "33862951\n",
      "63218669\n",
      "70354331\n",
      "26879351\n",
      "3396473\n",
      "73092037\n",
      "44271683\n",
      "86664749\n",
      "19117451\n",
      "46510337\n",
      "17977039\n",
      "81839477\n",
      "35081297\n",
      "86849929\n",
      "43889143\n",
      "48295717\n",
      "4998733\n",
      "80828567\n",
      "27880249\n",
      "34877147\n",
      "49035677\n",
      "61118489\n",
      "20279003\n",
      "84191207\n",
      "49005707\n",
      "85746631\n",
      "12017399\n",
      "68407441\n",
      "59561701\n",
      "57903689\n",
      "54521573\n",
      "2946247\n",
      "95078267\n",
      "16938503\n",
      "84974081\n",
      "96364729\n",
      "10318367\n",
      "308951\n",
      "28956871\n",
      "40106329\n",
      "3745087\n",
      "62352779\n",
      "77614337\n",
      "54642143\n",
      "32951153\n",
      "75935357\n",
      "15526241\n",
      "24964451\n",
      "83439781\n",
      "29714753\n",
      "39881243\n",
      "5135569\n",
      "78133687\n",
      "2603087\n",
      "17355913\n",
      "36203171\n",
      "90337591\n",
      "82998043\n",
      "18871841\n",
      "7059691\n",
      "90735319\n",
      "55386847\n",
      "14904479\n",
      "12082361\n",
      "37575029\n",
      "14370397\n",
      "80642491\n",
      "77628839\n",
      "452041\n",
      "76721657\n",
      "77543729\n",
      "84875387\n",
      "759547\n",
      "47275981\n",
      "66273841\n",
      "21461677\n",
      "73245103\n",
      "9643867\n",
      "89323733\n",
      "92451427\n",
      "1754303\n",
      "41147921\n",
      "56027161\n",
      "87070301\n",
      "28471283\n",
      "46495859\n",
      "76113889\n",
      "81309253\n",
      "2804209\n",
      "10005179\n",
      "57441179\n",
      "17581049\n",
      "86799967\n",
      "72543439\n",
      "27813641\n",
      "15705149\n",
      "19135189\n",
      "2172977\n",
      "13741379\n",
      "83735269\n",
      "33996689\n",
      "11429057\n",
      "54765631\n",
      "72658169\n",
      "39542533\n",
      "84426323\n",
      "26932163\n",
      "1828361\n",
      "98097917\n",
      "97742767\n",
      "15859859\n",
      "96458581\n",
      "72488503\n",
      "7996031\n",
      "54224029\n",
      "25710679\n",
      "13732489\n",
      "34100917\n",
      "20050523\n",
      "422239\n",
      "32773933\n",
      "40617331\n",
      "45255227\n",
      "11077117\n",
      "65381993\n",
      "8325131\n",
      "85942369\n",
      "18654989\n",
      "79758241\n",
      "67811641\n",
      "25669597\n",
      "94017943\n",
      "5204047\n",
      "40095127\n",
      "81229439\n",
      "85639733\n",
      "42956377\n",
      "72578659\n",
      "73844299\n",
      "14414107\n",
      "25881377\n",
      "51967397\n",
      "11951699\n",
      "58031891\n",
      "30301783\n",
      "74391769\n",
      "76268383\n",
      "96195103\n",
      "61986649\n",
      "28875733\n",
      "32246239\n",
      "11669969\n",
      "57157733\n",
      "81451087\n",
      "42880363\n",
      "82563919\n",
      "39328339\n",
      "48304379\n",
      "3835921\n",
      "68837389\n",
      "91277393\n",
      "13094177\n",
      "3176177\n",
      "13467823\n",
      "71422261\n",
      "79379281\n",
      "43024843\n",
      "64802261\n",
      "38605949\n",
      "83960119\n",
      "27103169\n",
      "4991153\n",
      "60312361\n",
      "21630593\n",
      "36083501\n",
      "93595841\n",
      "25123877\n",
      "9126659\n",
      "9815831\n",
      "1675279\n",
      "耗时： 0.7684293090422898\n"
     ]
    }
   ],
   "source": [
    "#多进程计算实例：找出100万个20000到10000000之间的随机数中的质数\n",
    "import time \n",
    "import random\n",
    "#快速判断是不是质数\n",
    "def isPrime(n):\n",
    "    i=2\n",
    "    while i*i<=n:\n",
    "        if n%i==0:\n",
    "            return False\n",
    "        i+=1\n",
    "    return True\n",
    "def main():\n",
    "    for i in range(10000):\n",
    "        rand= random.randint(2000,100000000)\n",
    "        if isPrime(rand):\n",
    "            print(rand)\n",
    "if __name__==\"__main__\":\n",
    "    print(\"开始计算\")\n",
    "    t1= time.clock()\n",
    "    main()\n",
    "    t2= time.clock()\n",
    "    print(\"耗时：\",t2-t1)"
   ]
  },
  {
   "cell_type": "code",
   "execution_count": null,
   "metadata": {},
   "outputs": [
    {
     "name": "stdout",
     "output_type": "stream",
     "text": [
      "开始运算\n"
     ]
    }
   ],
   "source": [
    "#用多进程来运算\n",
    "import time\n",
    "import random\n",
    "import multiprocessing\n",
    "from multiprocessing import Pool \n",
    "def Process(i):\n",
    "    rand= random.randint(2000,100000000)\n",
    "    def isPrime(n):\n",
    "        i=2\n",
    "        while i*i<=n:\n",
    "            if n%i==0:\n",
    "                return False\n",
    "            i+=1\n",
    "        return True\n",
    "    if isPrime(rand):\n",
    "        print(rand)\n",
    "if __name__==\"__main__\":\n",
    "    print(\"开始运算\")\n",
    "    t1= time.clock()\n",
    "    pool= Pool(processes=4)\n",
    "    pool.map_async(Process,range(10))\n",
    "    pool.close()\n",
    "    pool.join()\n",
    "    t2= time.clock()\n",
    "    print(\"耗时：\",t2-t1)"
   ]
  },
  {
   "cell_type": "markdown",
   "metadata": {},
   "source": [
    "不知道为什么Jupyter就是没办法实现多进程，我在vscode下面可以\n",
    "我查了一下，发现说是windows下Jupyter的锅，解决方法是将func写成一个脚本运行"
   ]
  },
  {
   "cell_type": "code",
   "execution_count": 7,
   "metadata": {},
   "outputs": [
    {
     "name": "stdout",
     "output_type": "stream",
     "text": [
      "开始运算\n",
      "耗时： 0.4667006715973798\n"
     ]
    }
   ],
   "source": [
    "import time\n",
    "import random\n",
    "import multiprocessing\n",
    "import helper\n",
    "from multiprocessing import Pool\n",
    "if __name__==\"__main__\":\n",
    "    print(\"开始运算\")\n",
    "    t1= time.clock()\n",
    "    p= Pool(processes=4)\n",
    "    p.map(helper.Process,[i for i in range(10000)])\n",
    "    t2= time.clock()\n",
    "    print(\"耗时：\",t2-t1)"
   ]
  },
  {
   "cell_type": "markdown",
   "metadata": {},
   "source": [
    "### 进程池"
   ]
  },
  {
   "cell_type": "raw",
   "metadata": {},
   "source": [
    "如果程序需要启动多个进程，可以用multiprocessing中的Pool模块创建进程池  \n",
    "进程池有几个常用的方法：  \n",
    "1. apply：阻塞式，主进程开始运行，碰到子进程切换到子进程，等待子进程结束再切换到下一个子进程直到所有子进程全部运行完毕，再切回主进程\n",
    "2. apply_async：异步非组塞式，主进程开始运行，碰到子进程不管他，继续执行我的，等我主线程执行完毕，爱咋地咋地，一般这种方法在close后要加上join来阻塞子进程\n",
    "3. map：和map()函数一样，灵活地创建多个子进程，也是阻塞式的\n",
    "4. map_async：同上\n",
    "5. close：进程池用完了要记得关闭\n",
    "6. terminate：遇到不老实的xx，直接终止\n",
    "7. join：等待着进程完毕"
   ]
  },
  {
   "cell_type": "code",
   "execution_count": null,
   "metadata": {
    "collapsed": true
   },
   "outputs": [],
   "source": [
    "from multiprocessing import Pool\n",
    "import os,time,random\n",
    "def worker(info):\n",
    "    start= time.clock()\n",
    "    print(\"%s开始，进程号为：%s,%s\"%(info,os.getpid(),time.ctime()))\n",
    "    time.sleep(random.random()*2)\n",
    "    stop= time.clock()\n",
    "    print(\"%s执行完毕，耗时%f\"%(info,stop-start))\n",
    "if __name__ == \"__main__\":\n",
    "    pool= Pool(4)\n",
    "    pool.apply_async(worker,(\"lebron\",))\n",
    "    pool.apply_async(worker,(\"kobe\",))\n",
    "    pool.close()\n",
    "    pool.join()"
   ]
  },
  {
   "cell_type": "markdown",
   "metadata": {},
   "source": [
    "join()要放到close()后"
   ]
  },
  {
   "cell_type": "markdown",
   "metadata": {
    "collapsed": true
   },
   "source": [
    "## python的时间模块\n",
    "经常在程序中遇到和时间有关的部分，这里记录一下都有哪些关于时间的调用"
   ]
  },
  {
   "cell_type": "code",
   "execution_count": 1,
   "metadata": {},
   "outputs": [
    {
     "data": {
      "text/plain": [
       "1564451244.7586515"
      ]
     },
     "execution_count": 1,
     "metadata": {},
     "output_type": "execute_result"
    }
   ],
   "source": [
    "#时间戳的概念，它是指格林威治时间下距今的秒数\n",
    "import time\n",
    "time.time()"
   ]
  },
  {
   "cell_type": "code",
   "execution_count": 2,
   "metadata": {},
   "outputs": [
    {
     "data": {
      "text/plain": [
       "time.struct_time(tm_year=2019, tm_mon=7, tm_mday=30, tm_hour=9, tm_min=48, tm_sec=56, tm_wday=1, tm_yday=211, tm_isdst=0)"
      ]
     },
     "execution_count": 2,
     "metadata": {},
     "output_type": "execute_result"
    }
   ],
   "source": [
    "#获取当前时间\n",
    "time.localtime(time.time())"
   ]
  },
  {
   "cell_type": "markdown",
   "metadata": {},
   "source": [
    "time.localtime()是返回时间戳下的时间元组，元组里面包括年、月、日、时、分、秒、周几、一年中的第几天、夏令时"
   ]
  },
  {
   "cell_type": "code",
   "execution_count": 3,
   "metadata": {},
   "outputs": [
    {
     "data": {
      "text/plain": [
       "'Tue Jul 30 09:51:29 2019'"
      ]
     },
     "execution_count": 3,
     "metadata": {},
     "output_type": "execute_result"
    }
   ],
   "source": [
    "#获取格式化的时间有两种方法\n",
    "#方法一\n",
    "time.asctime(time.localtime(time.time()))"
   ]
  },
  {
   "cell_type": "code",
   "execution_count": 14,
   "metadata": {},
   "outputs": [
    {
     "data": {
      "text/plain": [
       "'Tue Jul 30 10:07:28 2019'"
      ]
     },
     "execution_count": 14,
     "metadata": {},
     "output_type": "execute_result"
    }
   ],
   "source": [
    "#方法二\n",
    "time.ctime()"
   ]
  },
  {
   "cell_type": "code",
   "execution_count": 10,
   "metadata": {},
   "outputs": [
    {
     "data": {
      "text/plain": [
       "'19-07-30 10:01:53'"
      ]
     },
     "execution_count": 10,
     "metadata": {},
     "output_type": "execute_result"
    }
   ],
   "source": [
    "#自定义格式化时间\n",
    "time.strftime(\"%y-%m-%d %I:%M:%S\",time.localtime())"
   ]
  },
  {
   "cell_type": "markdown",
   "metadata": {},
   "source": [
    "python中时间日期格式化符号：  \n",
    "%y：年份(19)  \n",
    "%Y：年份(2019)  \n",
    "%m：月份  \n",
    "%d：日  \n",
    "%H：24小时制时  \n",
    "%I：12小时制时  \n",
    "%M：分钟"
   ]
  },
  {
   "cell_type": "code",
   "execution_count": 1,
   "metadata": {},
   "outputs": [
    {
     "ename": "NameError",
     "evalue": "name 'time' is not defined",
     "output_type": "error",
     "traceback": [
      "\u001b[0;31m---------------------------------------------------------------------------\u001b[0m",
      "\u001b[0;31mNameError\u001b[0m                                 Traceback (most recent call last)",
      "\u001b[0;32m<ipython-input-1-57bf4b553091>\u001b[0m in \u001b[0;36m<module>\u001b[0;34m()\u001b[0m\n\u001b[1;32m      1\u001b[0m \u001b[1;31m#返回当前CPU时间，经常用来计时\u001b[0m\u001b[1;33m\u001b[0m\u001b[1;33m\u001b[0m\u001b[0m\n\u001b[0;32m----> 2\u001b[0;31m \u001b[0mtime\u001b[0m\u001b[1;33m.\u001b[0m\u001b[0mclock\u001b[0m\u001b[1;33m(\u001b[0m\u001b[1;33m)\u001b[0m\u001b[1;33m\u001b[0m\u001b[0m\n\u001b[0m",
      "\u001b[0;31mNameError\u001b[0m: name 'time' is not defined"
     ]
    }
   ],
   "source": [
    "#返回当前CPU时间，经常用来计时\n",
    "time.clock()"
   ]
  },
  {
   "cell_type": "markdown",
   "metadata": {
    "collapsed": true
   },
   "source": [
    "## 回调函数"
   ]
  },
  {
   "cell_type": "markdown",
   "metadata": {},
   "source": [
    "回调函数是一个作为另一个函数参数的函数，等主函数执行完毕，再执行作为参数的回调函数"
   ]
  },
  {
   "cell_type": "code",
   "execution_count": 1,
   "metadata": {
    "collapsed": true
   },
   "outputs": [],
   "source": [
    "#回调函数的例子\n",
    "def funcA(callback):\n",
    "    callback()\n",
    "    print(\"执行主函数\")\n",
    "def funcB():\n",
    "    print(\"执行回调函数\")"
   ]
  },
  {
   "cell_type": "code",
   "execution_count": 2,
   "metadata": {},
   "outputs": [
    {
     "name": "stdout",
     "output_type": "stream",
     "text": [
      "执行回调函数\n",
      "执行主函数\n"
     ]
    }
   ],
   "source": [
    "funcA(funcB)"
   ]
  },
  {
   "cell_type": "code",
   "execution_count": null,
   "metadata": {
    "collapsed": true
   },
   "outputs": [],
   "source": []
  }
 ],
 "metadata": {
  "anaconda-cloud": {},
  "kernelspec": {
   "display_name": "Python 3",
   "language": "python",
   "name": "python3"
  },
  "language_info": {
   "codemirror_mode": {
    "name": "ipython",
    "version": 3
   },
   "file_extension": ".py",
   "mimetype": "text/x-python",
   "name": "python",
   "nbconvert_exporter": "python",
   "pygments_lexer": "ipython3",
   "version": "3.5.6"
  },
  "toc": {
   "base_numbering": 1,
   "nav_menu": {
    "height": "127px",
    "width": "199px"
   },
   "number_sections": true,
   "sideBar": true,
   "skip_h1_title": false,
   "title_cell": "Table of Contents",
   "title_sidebar": "Contents",
   "toc_cell": false,
   "toc_position": {},
   "toc_section_display": true,
   "toc_window_display": false
  }
 },
 "nbformat": 4,
 "nbformat_minor": 1
}
