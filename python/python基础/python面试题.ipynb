{
 "cells": [
  {
   "cell_type": "markdown",
   "metadata": {},
   "source": [
    "## read、reandline、readlines的区别"
   ]
  },
  {
   "cell_type": "code",
   "execution_count": 18,
   "metadata": {},
   "outputs": [
    {
     "name": "stdout",
     "output_type": "stream",
     "text": [
      "这里说的孔乙己，就是鲁迅先生在1919年写的那个孔乙己。\n",
      "\n",
      "鲁迅笔下的孔乙己，他的真名并不叫孔乙己。鲁迅在1919年说“后来再没有见到过孔乙己，大约他的确是死了”。其实， 孔乙己并没有死，现在还活着的，今年是121岁，鹤发童颜，身体硬朗，只是摸样变了，穿着打扮变了，说话口气也变了，思想观念更是变了。\n",
      "\n"
     ]
    }
   ],
   "source": [
    "file= r'C:\\Users\\Administrator\\Desktop\\孔乙己传.txt'\n",
    "with open(file, \"r\",encoding='utf-8') as f:\n",
    "    for i in range(2):\n",
    "        print(f.readline())"
   ]
  },
  {
   "cell_type": "markdown",
   "metadata": {},
   "source": [
    "### read(size)默认读取txt中所有的内容，返回一个字符串；readline默认读取一行，返回一个字符串；readlines读取所有行，返回一个列表"
   ]
  },
  {
   "cell_type": "markdown",
   "metadata": {},
   "source": [
    "## 可变参数\\*args和\\**kwargs"
   ]
  },
  {
   "cell_type": "code",
   "execution_count": 21,
   "metadata": {},
   "outputs": [
    {
     "name": "stdout",
     "output_type": "stream",
     "text": [
      "3 2 1 "
     ]
    }
   ],
   "source": [
    "def func(*args):\n",
    "    for i in args:\n",
    "        print(i,end=\" \")\n",
    "func(3,2,1)"
   ]
  },
  {
   "cell_type": "code",
   "execution_count": 29,
   "metadata": {},
   "outputs": [
    {
     "name": "stdout",
     "output_type": "stream",
     "text": [
      "a lebron\n"
     ]
    }
   ],
   "source": [
    "def func(**kwargs):\n",
    "    for i in kwargs:\n",
    "        print(i,kwargs[i])\n",
    "func(a=\"lebron\")"
   ]
  },
  {
   "cell_type": "markdown",
   "metadata": {},
   "source": [
    "### \\*args表示任意多个参数，\\**k表示任意多个关键字参数，\\*args一定要放在\\**kwargs前面"
   ]
  },
  {
   "cell_type": "markdown",
   "metadata": {},
   "source": [
    "## python中的继承与多态"
   ]
  },
  {
   "cell_type": "code",
   "execution_count": 44,
   "metadata": {
    "collapsed": true
   },
   "outputs": [],
   "source": [
    "class Parent(object):\n",
    "    x=1\n",
    "class Child1(Parent):\n",
    "    pass\n",
    "class Child2(Parent):\n",
    "    pass"
   ]
  },
  {
   "cell_type": "markdown",
   "metadata": {},
   "source": [
    "类中的变量x是可以通过类名直接访问的，而且继承的类拥有超类所有功能，还可以对超类功能进行覆盖，这叫多态\n",
    "\n",
    "你通过Child1对x进行改变，发现不影响Parent以及Child2，但是反过来就变了"
   ]
  },
  {
   "cell_type": "code",
   "execution_count": 48,
   "metadata": {},
   "outputs": [],
   "source": [
    "Parent.x=2"
   ]
  },
  {
   "cell_type": "code",
   "execution_count": 49,
   "metadata": {},
   "outputs": [
    {
     "data": {
      "text/plain": [
       "2"
      ]
     },
     "execution_count": 49,
     "metadata": {},
     "output_type": "execute_result"
    }
   ],
   "source": [
    "Child1.x"
   ]
  },
  {
   "cell_type": "markdown",
   "metadata": {},
   "source": [
    "## python浅拷贝现象"
   ]
  },
  {
   "cell_type": "code",
   "execution_count": 64,
   "metadata": {},
   "outputs": [],
   "source": [
    "L= []\n",
    "a={\"num\":0}\n",
    "for i in range(6):\n",
    "    a['num']=i\n",
    "    L.append(a)"
   ]
  },
  {
   "cell_type": "code",
   "execution_count": 65,
   "metadata": {},
   "outputs": [
    {
     "data": {
      "text/plain": [
       "[{'num': 5}, {'num': 5}, {'num': 5}, {'num': 5}, {'num': 5}, {'num': 5}]"
      ]
     },
     "execution_count": 65,
     "metadata": {},
     "output_type": "execute_result"
    }
   ],
   "source": [
    "L"
   ]
  },
  {
   "cell_type": "markdown",
   "metadata": {},
   "source": [
    "字典是可变对象，L.append是将字典的引用传入，修改a的值时，L中的值也会跟着改变"
   ]
  },
  {
   "cell_type": "markdown",
   "metadata": {},
   "source": [
    "## python读取大GB文本"
   ]
  },
  {
   "cell_type": "code",
   "execution_count": 68,
   "metadata": {
    "collapsed": true
   },
   "outputs": [],
   "source": [
    "#读取少量文本\n",
    "def get_lines():\n",
    "    L=[]\n",
    "    with open(\"file.txt\",\"r\") as f:\n",
    "        for line in f:\n",
    "            L.append(line)\n",
    "    return L\n",
    "#读取Big量文本\n",
    "def get_bigger():\n",
    "    L= []\n",
    "    with open(\"file.txt\",\"r\") as f:\n",
    "        data= f.readlines(60000)\n",
    "    L.append(data)\n",
    "    yield L"
   ]
  },
  {
   "cell_type": "markdown",
   "metadata": {},
   "source": [
    "就是通过迭代的方式一次返回不那么多，但也不少的数据，既避免了爆内存，也避免了读取太慢"
   ]
  },
  {
   "cell_type": "markdown",
   "metadata": {},
   "source": [
    "## 写一个函数，输入某个文件夹路径，返回文件夹路径下所有文件夹的文件的路径"
   ]
  },
  {
   "cell_type": "code",
   "execution_count": 72,
   "metadata": {
    "collapsed": true
   },
   "outputs": [],
   "source": [
    "import os\n",
    "def get_file_load(file):\n",
    "    for child in os.listdir(file):\n",
    "        linked_load= os.path.join(file,child)\n",
    "        #如果路径是一个目录，就继续挖，如果是一个文件，就把文件路径打印出来\n",
    "        if os.path.isdir(linked_load):\n",
    "            get_file_load(linked_load)\n",
    "        else:\n",
    "            print(linked_load)"
   ]
  },
  {
   "cell_type": "code",
   "execution_count": 73,
   "metadata": {},
   "outputs": [
    {
     "name": "stdout",
     "output_type": "stream",
     "text": [
      "C:\\Users\\Administrator\\Pictures\\Camera Roll\\desktop.ini\n",
      "C:\\Users\\Administrator\\Pictures\\desktop.ini\n",
      "C:\\Users\\Administrator\\Pictures\\pic\\00后美少女小九月黑丝连体情趣衣蕾丝袜性感诱惑图片.jpg\n",
      "C:\\Users\\Administrator\\Pictures\\pic\\36D巨胸美女童倩裸色性感内衣喷血诱惑写真图片.jpg\n",
      "C:\\Users\\Administrator\\Pictures\\pic\\90后大胸美女白皙粉嫩妖娆多姿写真图片.jpg\n",
      "C:\\Users\\Administrator\\Pictures\\pic\\丰满大胸美女蕾丝内裤吊带诱惑白瓷肌肤吹弹可破图片.jpg\n",
      "C:\\Users\\Administrator\\Pictures\\pic\\丰满爆乳美女模特小清新诱惑性感美女图片.jpg\n",
      "C:\\Users\\Administrator\\Pictures\\pic\\丸子头女孩白嫩大长腿光滑牛奶肌图片.jpg\n",
      "C:\\Users\\Administrator\\Pictures\\pic\\丸子头清纯美少女抹胸吊带秀雅绝俗写真图片.jpg\n",
      "C:\\Users\\Administrator\\Pictures\\pic\\丸子头美女吊带超短裙露香肩美腿图片.jpg\n",
      "C:\\Users\\Administrator\\Pictures\\pic\\丸子头美女吊带超短裤性感香肩美腿图片.jpg\n",
      "C:\\Users\\Administrator\\Pictures\\pic\\丸子头美女唇红齿白气色红润床上诱人图片.jpg\n",
      "C:\\Users\\Administrator\\Pictures\\pic\\丸子头美女唇红齿白蕾丝纱裙全裸美背露白嫩牛奶肌图片.jpg\n",
      "C:\\Users\\Administrator\\Pictures\\pic\\丸子头美女性感泳衣湿身诱惑好身材图片.jpg\n",
      "C:\\Users\\Administrator\\Pictures\\pic\\丸子头美女白瓷肌肤吹弹可破床上性感图片.jpg\n",
      "C:\\Users\\Administrator\\Pictures\\pic\\丸子头美女脸蛋白里透红白衬衫运动短裤露白瓷肌肤图片.jpg\n",
      "C:\\Users\\Administrator\\Pictures\\pic\\丸子头美女露齿大笑床上诱人长腿图片.jpg\n",
      "C:\\Users\\Administrator\\Pictures\\pic\\丸子头美女露齿甜笑姿态撩人居家图片.jpg\n",
      "C:\\Users\\Administrator\\Pictures\\pic\\丸子头美少女性感紧身泳衣沙滩上演绎甜美可爱写真图片.jpg\n",
      "C:\\Users\\Administrator\\Pictures\\pic\\丸子头美眉吊带超短裤白嫩香肩美腿图片.jpg\n",
      "C:\\Users\\Administrator\\Pictures\\pic\\书房抚琴美女长腿如白玉酥胸古筝服性感诱惑图片.jpg\n",
      "C:\\Users\\Administrator\\Pictures\\pic\\书香清纯粉嫩美女图书馆卖萌图片.jpg\n",
      "C:\\Users\\Administrator\\Pictures\\pic\\人体艺术美女妲己豪乳肥臀床上撩人日本旅拍图片.jpg\n",
      "C:\\Users\\Administrator\\Pictures\\pic\\仙女气质女神SISY思修长美腿海边比基尼性感写真图片.jpg\n",
      "C:\\Users\\Administrator\\Pictures\\pic\\优雅冷艳美女吊带深v礼裙妖娆妩媚图片.jpg\n",
      "C:\\Users\\Administrator\\Pictures\\pic\\优雅芭蕾舞美女红唇雪肤气质清纯图片.jpg\n",
      "C:\\Users\\Administrator\\Pictures\\pic\\俏皮短发美女学生妹校园制服街拍图片.jpg\n",
      "C:\\Users\\Administrator\\Pictures\\pic\\元气短发少女背带短裤修长美腿户外图片.jpg\n",
      "C:\\Users\\Administrator\\Pictures\\pic\\元气美女清爽短发吊带裙秀香肩锁骨调皮搞怪图片.jpg\n",
      "C:\\Users\\Administrator\\Pictures\\pic\\元气美少女纯白连衣裙暖棕色秀发展白瓷肌肤吹弹可破图片.jpg\n",
      "C:\\Users\\Administrator\\Pictures\\pic\\光滑牛奶肌美女蓬松卷发脸蛋白里透红床上大胆图片.jpg\n",
      "C:\\Users\\Administrator\\Pictures\\pic\\冲天马尾辫元气美女身材高挑休闲运动服秀纤细筷子腿图片.jpg\n",
      "C:\\Users\\Administrator\\Pictures\\pic\\制服美女大学生长发披肩唇红齿白图片.jpg\n",
      "C:\\Users\\Administrator\\Pictures\\pic\\制服美女校花精致娃娃脸长发飘飘图片.jpg\n",
      "C:\\Users\\Administrator\\Pictures\\pic\\单眼皮美少女蓬松卷发纤细四肢露齿甜笑居家写真.jpg\n",
      "C:\\Users\\Administrator\\Pictures\\pic\\卷发美女庄哲琦波点连衣裙秀香肩美腿图片.jpg\n",
      "C:\\Users\\Administrator\\Pictures\\pic\\厨房美女白嫩肌肤精致侧颜做蛋糕图片.jpg\n",
      "C:\\Users\\Administrator\\Pictures\\pic\\厨房美娇娘圆润娃娃脸乌黑长发居家图片.jpg\n",
      "C:\\Users\\Administrator\\Pictures\\pic\\双马尾辫元气女孩满脸胶原蛋白森女系装扮露齿甜笑图片.jpg\n",
      "C:\\Users\\Administrator\\Pictures\\pic\\古灵精怪邻家少女白嫩长腿个性造型艺术摄影图片.jpg\n",
      "C:\\Users\\Administrator\\Pictures\\pic\\可爱mm吊带短裤露粉肩玉腿私房搞怪图片.jpg\n",
      "C:\\Users\\Administrator\\Pictures\\pic\\可爱睡衣美女秀修长美腿表情搞怪图片.jpg\n",
      "C:\\Users\\Administrator\\Pictures\\pic\\可爱短发mm超短裤诱人白丝长腿图片.jpg\n",
      "C:\\Users\\Administrator\\Pictures\\pic\\可爱连衣裙mm俏皮麻花辫调皮搞怪图片.jpg\n",
      "C:\\Users\\Administrator\\Pictures\\pic\\吊带内衣美女下衣失踪露玉腿衣带滑落裸美肩诱人图片.jpg\n",
      "C:\\Users\\Administrator\\Pictures\\pic\\吊带短裙美女俏皮灯笼辫脸蛋白里透红游乐场搞怪图片.jpg\n",
      "C:\\Users\\Administrator\\Pictures\\pic\\吊带短裙美女光滑牛奶肌露齿甜笑图片.jpg\n",
      "C:\\Users\\Administrator\\Pictures\\pic\\吊带碎花裙美女柔顺长发粉嫩脸蛋图片.jpg\n",
      "C:\\Users\\Administrator\\Pictures\\pic\\吊带美女高束马尾大秀白嫩天鹅颈图片.jpg\n",
      "C:\\Users\\Administrator\\Pictures\\pic\\吊带美少女白嫩肌肤粉嫩香唇私房图片.jpg\n",
      "C:\\Users\\Administrator\\Pictures\\pic\\吊带裙美女漂亮脸蛋微卷长发诱人图片.jpg\n",
      "C:\\Users\\Administrator\\Pictures\\pic\\吊带超短裙美女性感香肩美腿诱惑图片.jpg\n",
      "C:\\Users\\Administrator\\Pictures\\pic\\名媛气质御姐少妇蕾丝内衣大胆裸露美胸写真图片.jpg\n",
      "C:\\Users\\Administrator\\Pictures\\pic\\向日葵麻花辫美女唇红齿白气色红润笑容甜美图片.jpg\n",
      "C:\\Users\\Administrator\\Pictures\\pic\\哪吒头美眉黄色背带裙细长筷子腿图片.jpg\n",
      "C:\\Users\\Administrator\\Pictures\\pic\\图书馆美女校花及腰黑发制服短裙图片.jpg\n",
      "C:\\Users\\Administrator\\Pictures\\pic\\圆润娃娃脸美女头戴草帽白色长裙图片.jpg\n",
      "C:\\Users\\Administrator\\Pictures\\pic\\复古红唇美女精致面容飘逸长发吊带衫秀香肩锁骨图片.jpg\n",
      "C:\\Users\\Administrator\\Pictures\\pic\\大提琴美女白色长裙黑溜溜大眼白皙脸蛋忧郁气质图片.jpg\n",
      "C:\\Users\\Administrator\\Pictures\\pic\\大提琴美少女吊带裙小露香肩锁骨图片.jpg\n",
      "C:\\Users\\Administrator\\Pictures\\pic\\大波浪卷发美女白皙瓜子脸针织吊带裙露光滑牛奶肌图片.jpg\n",
      "C:\\Users\\Administrator\\Pictures\\pic\\大眼睛美女校花黑袜美腿制服诱惑图片.jpg\n",
      "C:\\Users\\Administrator\\Pictures\\pic\\大眼睛美女长发披肩气质清纯私房图片.jpg\n",
      "C:\\Users\\Administrator\\Pictures\\pic\\大眼萝莉美女吊带裙秀天鹅颈撑伞图片.jpg\n",
      "C:\\Users\\Administrator\\Pictures\\pic\\天使美女蕾丝白纱裙优雅气质窈窕身姿图片.jpg\n",
      "C:\\Users\\Administrator\\Pictures\\pic\\头戴花环美女皮肤水嫩黄色连衣裙露牛奶肌斜眼沉思图片.jpg\n",
      "C:\\Users\\Administrator\\Pictures\\pic\\姿色天然美少女白皙肌肤晶莹如玉养眼图片.jpg\n",
      "C:\\Users\\Administrator\\Pictures\\pic\\娃娃脸美女学生双马尾日系制服双手托腮露齿甜笑图片.jpg\n",
      "C:\\Users\\Administrator\\Pictures\\pic\\娃娃脸美女气色红润及腰卷发波点女仆装露齿甜笑图片.jpg\n",
      "C:\\Users\\Administrator\\Pictures\\pic\\娇羞萝莉美女小v脸白里透红毛衣白丝长腿露齿甜笑图片.jpg\n",
      "C:\\Users\\Administrator\\Pictures\\pic\\娇艳红唇美少妇蕾丝透视装展前凸后翘s型曲线身材图片.jpg\n",
      "C:\\Users\\Administrator\\Pictures\\pic\\嫩白美腿少女卧室大胆开放性感小蛮腰养眼写真图片.jpg\n",
      "C:\\Users\\Administrator\\Pictures\\pic\\学院风制服美女精致小v脸蓬松秀发图片.jpg\n",
      "C:\\Users\\Administrator\\Pictures\\pic\\宅男女神紧身吊带裙前凸后翘小蛮腰大长腿诱人床照图片.jpg\n",
      "C:\\Users\\Administrator\\Pictures\\pic\\宅男女神许诺Sabrina黑丝美腿脱衣酥胸诱惑图片.jpg\n",
      "C:\\Users\\Administrator\\Pictures\\pic\\小卷毛美女脸蛋白里透红吊带短裤白丝长腿清纯气质图片.jpg\n",
      "C:\\Users\\Administrator\\Pictures\\pic\\小清新制服美女校花泳池湿身诱惑图片.jpg\n",
      "C:\\Users\\Administrator\\Pictures\\pic\\小清新制服美女校花黑袜长腿宿舍图片.jpg\n",
      "C:\\Users\\Administrator\\Pictures\\pic\\小清新美女迷离大眼脸蛋泛红蕾丝纱裙露白嫩酥胸图片.jpg\n",
      "C:\\Users\\Administrator\\Pictures\\pic\\小清新美女郑晴笑容甜美樱花树下图片.jpg\n",
      "C:\\Users\\Administrator\\Pictures\\pic\\小清新美女飘逸长发精致小v脸背心短裤秀香肩玉腿图片.jpg\n",
      "C:\\Users\\Administrator\\Pictures\\pic\\小清新麻花辫美女唇红齿白露肩白裙秀娇嫩牛奶肌图片.jpg\n",
      "C:\\Users\\Administrator\\Pictures\\pic\\小清新麻花辫美女波点吊带裙露圆润香肩白嫩美腿图片.jpg\n",
      "C:\\Users\\Administrator\\Pictures\\pic\\居家睡衣美少女慵懒秀发迷人电眼半露香肩诱惑图片.jpg\n",
      "C:\\Users\\Administrator\\Pictures\\pic\\居家美女乌黑长发粉嫩脸蛋四肢纤细图片.jpg\n",
      "C:\\Users\\Administrator\\Pictures\\pic\\居家美女俏皮麻花辫脸蛋白里透红图片.jpg\n",
      "C:\\Users\\Administrator\\Pictures\\pic\\居家美女粉嫩圆脸唇红齿白半露香肩撩人图片.jpg\n",
      "C:\\Users\\Administrator\\Pictures\\pic\\居家美女诱人香肩修长美腿嘟嘴卖萌图片.jpg\n",
      "C:\\Users\\Administrator\\Pictures\\pic\\居家美女露脐装超短裤秀性感身材图片.jpg\n",
      "C:\\Users\\Administrator\\Pictures\\pic\\居家萌妹怡然自乐小清新氧气少女美丽可爱图片.jpg\n",
      "C:\\Users\\Administrator\\Pictures\\pic\\巨乳美女模特王朝朝红色内衣嫩白酮体妖艳诱惑图片.jpg\n",
      "C:\\Users\\Administrator\\Pictures\\pic\\床上美女吊带睡衣白嫩肌肤露齿甜笑图片.jpg\n",
      "C:\\Users\\Administrator\\Pictures\\pic\\床上美女吊带超短裤小蛮腰大长腿图片.jpg\n",
      "C:\\Users\\Administrator\\Pictures\\pic\\床上美女漂亮脸蛋性感吊带短裤香肩美腿诱惑写真.jpg\n",
      "C:\\Users\\Administrator\\Pictures\\pic\\床上美女白色睡衣裙发丝凌乱姿态慵懒漂亮沉睡侧颜图片.jpg\n",
      "C:\\Users\\Administrator\\Pictures\\pic\\床上美女背心短裤白嫩香肩美腿诱惑图片.jpg\n",
      "C:\\Users\\Administrator\\Pictures\\pic\\异域风情电眼美女蕾丝美乳前凸后翘图片.jpg\n",
      "C:\\Users\\Administrator\\Pictures\\pic\\微卷长发美女脸蛋白里透红吐舌卖萌图片.jpg\n",
      "C:\\Users\\Administrator\\Pictures\\pic\\微卷马尾辫美女粉扑扑脸蛋吊带超短裤露细胳膊小腿图片.jpg\n",
      "C:\\Users\\Administrator\\Pictures\\pic\\性感吊带睡衣美女白嫩酥胸修长玉腿图片.jpg\n",
      "C:\\Users\\Administrator\\Pictures\\pic\\性感吊带短发美女私房秀白嫩香肩锁骨图片.jpg\n",
      "C:\\Users\\Administrator\\Pictures\\pic\\性感吊带美女秀香肩锁骨酥胸诱惑图片.jpg\n",
      "C:\\Users\\Administrator\\Pictures\\pic\\性感吊带美女香肩裸露享受阳光沐浴个人艺术图片.jpg\n",
      "C:\\Users\\Administrator\\Pictures\\pic\\性感大奶美女陈欣滑嫩美腿泳装黑丝透视诱惑写真图片.jpg\n",
      "C:\\Users\\Administrator\\Pictures\\pic\\性感女神尤妮丝丰腴美臀酒店浴室湿身诱惑写真图片.jpg\n",
      "C:\\Users\\Administrator\\Pictures\\pic\\性感姐妹花格格污巫&王曼妮内衣大胸修长美腿双飞人体艺术图片.jpg\n",
      "C:\\Users\\Administrator\\Pictures\\pic\\性感泳衣美女白皙牛奶肌湿身诱惑图片.jpg\n",
      "C:\\Users\\Administrator\\Pictures\\pic\\性感短发美女白色纱裙香肩美腿诱惑图片.jpg\n",
      "C:\\Users\\Administrator\\Pictures\\pic\\性感短发美女蕾丝肩带滑落白胸诱人图片.jpg\n",
      "C:\\Users\\Administrator\\Pictures\\pic\\性感美女LalaBaby职场OL女王黑丝美腿喷血写真图片.jpg\n",
      "C:\\Users\\Administrator\\Pictures\\pic\\性感美女容容容Alice大波美腿花式内衣诱惑写真图片.jpg\n",
      "C:\\Users\\Administrator\\Pictures\\pic\\性感美女模特唐雨辰学生装深沟美腿制服诱惑图片.jpg\n",
      "C:\\Users\\Administrator\\Pictures\\pic\\性感美女陆萱萱深V低胸街头大秀雪白胸脯诱人写真图片.jpg\n",
      "C:\\Users\\Administrator\\Pictures\\pic\\性感美眉吊带香肩超短裤美腿诱惑图片.jpg\n",
      "C:\\Users\\Administrator\\Pictures\\pic\\性感翘臀美女唯美丝足修长美腿私房图片.jpg\n",
      "C:\\Users\\Administrator\\Pictures\\pic\\性感蕾丝吊带裙美女小露香肩白嫩玉足户外作画图片.jpg\n",
      "C:\\Users\\Administrator\\Pictures\\pic\\性感香肩混血美女镂空衫美腿真空诱人图片.jpg\n",
      "C:\\Users\\Administrator\\Pictures\\pic\\情趣吊带美女露脐装秀蛮腰超短裤诱人美腿性感图片.jpg\n",
      "C:\\Users\\Administrator\\Pictures\\pic\\情趣美女吊带超短裤白皙美腿诱惑香肩床上大胆图片.jpg\n",
      "C:\\Users\\Administrator\\Pictures\\pic\\惹火美女宽松毛衣露粉肩超短裤修长美腿露齿甜笑图片.jpg\n",
      "C:\\Users\\Administrator\\Pictures\\pic\\推女神美胸美女伍月yuer护士装诱惑.jpg\n",
      "C:\\Users\\Administrator\\Pictures\\pic\\文艺范美女长发披肩五官清秀户外图片.jpg\n",
      "C:\\Users\\Administrator\\Pictures\\pic\\日本和服美女精致眉眼光滑牛奶肌图片.jpg\n",
      "C:\\Users\\Administrator\\Pictures\\pic\\日本死水库少女雪肤玉肌湿身诱惑图片.jpg\n",
      "C:\\Users\\Administrator\\Pictures\\pic\\日本白嫩和服美女睫毛弯弯樱桃小嘴图片.jpg\n",
      "C:\\Users\\Administrator\\Pictures\\pic\\日本短发美女真空吊带走光露美胸超短裤翘臀诱惑图片.jpg\n",
      "C:\\Users\\Administrator\\Pictures\\pic\\日本素人氧气美女居家空灵诱惑走光写真图片.jpg\n",
      "C:\\Users\\Administrator\\Pictures\\pic\\日本美女及腰长发吊带长裙白嫩美乳唯美丝足大胆图片.jpg\n",
      "C:\\Users\\Administrator\\Pictures\\pic\\日系和服美女稚嫩童颜小巧樱唇零瑕疵肌肤白到发光图片.jpg\n",
      "C:\\Users\\Administrator\\Pictures\\pic\\日系小清新美女及腰长发蕾丝连衣裙图片.jpg\n",
      "C:\\Users\\Administrator\\Pictures\\pic\\日系小清新美女标致娃娃脸蓬松长发细胳膊小腿图片.jpg\n",
      "C:\\Users\\Administrator\\Pictures\\pic\\日系萝莉美女吊带香肩白丝袜长腿诱惑撩人姿势图片.jpg\n",
      "C:\\Users\\Administrator\\Pictures\\pic\\日系蓝色制服女学生肉嘟嘟圆脸眼神清冷文艺气质图片.jpg\n",
      "C:\\Users\\Administrator\\Pictures\\pic\\日系软萌美女复古小洋装邻家气质图片.jpg\n",
      "C:\\Users\\Administrator\\Pictures\\pic\\早安美少女发丝凌乱姿态慵懒居家图片.jpg\n",
      "C:\\Users\\Administrator\\Pictures\\pic\\时尚嫩模美女镂空蕾丝衫雪白美腿内衣性感图片.jpg\n",
      "C:\\Users\\Administrator\\Pictures\\pic\\极品甜美萝莉梦幻粉嫩内衣酥胸性感美女图片.jpg\n",
      "C:\\Users\\Administrator\\Pictures\\pic\\极品美女大波浪卷发火辣身材傲人上围露事业线撩人图片.jpg\n",
      "C:\\Users\\Administrator\\Pictures\\pic\\极品美女白嫩美胸性感玉背翘臀诱惑图片.jpg\n",
      "C:\\Users\\Administrator\\Pictures\\pic\\极品美女脸蛋白里透红背心短裤圆润香肩长腿诱惑图片.jpg\n",
      "C:\\Users\\Administrator\\Pictures\\pic\\极致容颜美女白嫩清纯气质高清无圣光图片.jpg\n",
      "C:\\Users\\Administrator\\Pictures\\pic\\林中撑伞女学生水手制服身姿娇小长发飘飘面色红润图片.jpg\n",
      "C:\\Users\\Administrator\\Pictures\\pic\\标致瓜子脸美女精致盘发悠闲下午茶图片.jpg\n",
      "C:\\Users\\Administrator\\Pictures\\pic\\森女系美女低扎马尾卖萌甜笑居家图片.jpg\n",
      "C:\\Users\\Administrator\\Pictures\\pic\\森女系美女圆润小脸俏皮短发小清新装扮户外图片.jpg\n",
      "C:\\Users\\Administrator\\Pictures\\pic\\森女系美女头戴草帽手捧满天星唯美图片.jpg\n",
      "C:\\Users\\Administrator\\Pictures\\pic\\樱桃唇美女模特刘美辰性感内衣扮演厨娘娇妻写真图片.jpg\n",
      "C:\\Users\\Administrator\\Pictures\\pic\\樱桃小嘴美女单手托腮吊带睡衣私房图片.jpg\n",
      "C:\\Users\\Administrator\\Pictures\\pic\\樱桃美少女发丝凌乱唇红齿白私房图片.jpg\n",
      "C:\\Users\\Administrator\\Pictures\\pic\\樱花树下制服美女细碎短发治愈系笑容清新气质图片.jpg\n",
      "C:\\Users\\Administrator\\Pictures\\pic\\比基尼泳衣美女光滑牛奶肌姿态撩人图片.jpg\n",
      "C:\\Users\\Administrator\\Pictures\\pic\\比基尼美女尤物肉感丰韵身材激情写真图片.jpg\n",
      "C:\\Users\\Administrator\\Pictures\\pic\\毛衣美女漂亮瓜子脸白嫩美腿私房图片.jpg\n",
      "C:\\Users\\Administrator\\Pictures\\pic\\气质美女佳妮酱黑色长裙姿态撩人图片.jpg\n",
      "C:\\Users\\Administrator\\Pictures\\pic\\气质美女毛衣裙大玩下衣失踪秀美腿图片.jpg\n",
      "C:\\Users\\Administrator\\Pictures\\pic\\气质美女白色长裙蓬松短发精致眉眼图片.jpg\n",
      "C:\\Users\\Administrator\\Pictures\\pic\\水手制服美女学生大眼小嘴满脸胶原蛋白精致编发图片.jpg\n",
      "C:\\Users\\Administrator\\Pictures\\pic\\水手制服美女校花唇红齿白靓丽脸蛋图片.jpg\n",
      "C:\\Users\\Administrator\\Pictures\\pic\\沙发美女蓝色连衣裙露光滑牛奶肌图片.jpg\n",
      "C:\\Users\\Administrator\\Pictures\\pic\\治愈清纯少女私房热裤美腿活泼可爱写真图片.jpg\n",
      "C:\\Users\\Administrator\\Pictures\\pic\\洋娃娃美女露脐装超短裤露白瓷肌肤图片.jpg\n",
      "C:\\Users\\Administrator\\Pictures\\pic\\浴室美女深v吊带秀事业线大胆裸背图片.jpg\n",
      "C:\\Users\\Administrator\\Pictures\\pic\\浴巾美女俏皮丸子头光滑牛奶肌私房图片.jpg\n",
      "C:\\Users\\Administrator\\Pictures\\pic\\浴缸美女性感吊带露诱人香肩锁骨图片.jpg\n",
      "C:\\Users\\Administrator\\Pictures\\pic\\浴缸美女精致鹅蛋脸白嫩香肩锁骨图片.jpg\n",
      "C:\\Users\\Administrator\\Pictures\\pic\\浴缸裹胸美女圆润包子脸露齿大笑赤身露牛奶肌图片.jpg\n",
      "C:\\Users\\Administrator\\Pictures\\pic\\海军服美女学生俏皮麻花辫咧嘴大笑黑丝美腿诱惑图片.jpg\n",
      "C:\\Users\\Administrator\\Pictures\\pic\\海藻小卷毛萝莉美女蕾丝白纱裙圆嘟嘟小脸气色红润图片.jpg\n",
      "C:\\Users\\Administrator\\Pictures\\pic\\清新国模少女惬意午后治愈系个人艺术写真图片.jpg\n",
      "C:\\Users\\Administrator\\Pictures\\pic\\清纯学生妹俏皮马尾辫学院风制服图片.jpg\n",
      "C:\\Users\\Administrator\\Pictures\\pic\\清纯气质美女白皙肌肤极度迷人养眼图片.jpg\n",
      "C:\\Users\\Administrator\\Pictures\\pic\\清纯眼镜妹红色连衣裙狗啃式短发图片.jpg\n",
      "C:\\Users\\Administrator\\Pictures\\pic\\清纯短发美女撩人长腿露齿甜笑居家图片.jpg\n",
      "C:\\Users\\Administrator\\Pictures\\pic\\清纯美女丹婷森女系装扮头戴草帽图片.jpg\n",
      "C:\\Users\\Administrator\\Pictures\\pic\\清纯美女可爱麻花辫白皙肌肤短裤丝袜撩人长腿私房图片.jpg\n",
      "C:\\Users\\Administrator\\Pictures\\pic\\清纯美女吊带裙大秀香肩露齿甜笑图片.jpg\n",
      "C:\\Users\\Administrator\\Pictures\\pic\\清纯美少女萝莉格子连衣裙温婉舒雅居家写真图片.jpg\n",
      "C:\\Users\\Administrator\\Pictures\\pic\\清纯邻家女孩修长筷子腿露齿甜笑图片.jpg\n",
      "C:\\Users\\Administrator\\Pictures\\pic\\清纯马尾美女吊带裙纤细四肢居家图片.jpg\n",
      "C:\\Users\\Administrator\\Pictures\\pic\\漂亮清纯长发美女精致五官性感诱人自拍图片大全.jpg\n",
      "C:\\Users\\Administrator\\Pictures\\pic\\漂亮脸蛋美女超短裤露白嫩美腿居家图片.jpg\n",
      "C:\\Users\\Administrator\\Pictures\\pic\\灰色制服美女学生精致编发漂亮脸蛋图片.jpg\n",
      "C:\\Users\\Administrator\\Pictures\\pic\\牛仔背带裤漂亮美眉气色红润衣带滑落秀白嫩香肩图片.jpg\n",
      "C:\\Users\\Administrator\\Pictures\\pic\\牛仔裤美女吊带衫露白嫩天鹅颈头戴编织帽露齿甜笑图片.jpg\n",
      "C:\\Users\\Administrator\\Pictures\\pic\\牛仔裤美女慵懒卷发漂亮脸蛋街拍图片.jpg\n",
      "C:\\Users\\Administrator\\Pictures\\pic\\牛仔裤美女清爽短发香肩锁骨诱惑图片.jpg\n",
      "C:\\Users\\Administrator\\Pictures\\pic\\牛仔裤美女精致小v脸白嫩玉颈纤细藕臂裸足图片.jpg\n",
      "C:\\Users\\Administrator\\Pictures\\pic\\牛仔裤美女精致小脸饱满苹果饥镂空吊带衣秀天鹅颈图片.jpg\n",
      "C:\\Users\\Administrator\\Pictures\\pic\\牛仔裤美女紧身吊带弯腰露酥胸户外大胆湿身诱惑图片.jpg\n",
      "C:\\Users\\Administrator\\Pictures\\pic\\牛仔裤美女迷人笑容夏日休闲装大秀性感小蛮腰图片.jpg\n",
      "C:\\Users\\Administrator\\Pictures\\pic\\牛仔裤美女长发披肩皮肤水嫩诱人香肩图片.jpg\n",
      "C:\\Users\\Administrator\\Pictures\\pic\\牛仔裤美女飘逸卷发精致侧颜唯美图片.jpg\n",
      "C:\\Users\\Administrator\\Pictures\\pic\\牛仔裤美女高束马尾诱人吊带香肩图片.jpg\n",
      "C:\\Users\\Administrator\\Pictures\\pic\\牛仔裤美少女吊带衫露马甲线新潮雀斑妆可爱哪咤头图片.jpg\n",
      "C:\\Users\\Administrator\\Pictures\\pic\\牛仔裤翘臀美女半裸香肩诱人长腿图片.jpg\n",
      "C:\\Users\\Administrator\\Pictures\\pic\\猫系双马尾美女超短裤诱人白丝美腿图片.jpg\n",
      "C:\\Users\\Administrator\\Pictures\\pic\\瓜子脸美女长发飘飘白衬衣牛仔热裤大秀修长美腿图片.jpg\n",
      "C:\\Users\\Administrator\\Pictures\\pic\\白丝长腿包子脸美女微卷短发吊带超短裤露白嫩瓷肌图片.jpg\n",
      "C:\\Users\\Administrator\\Pictures\\pic\\白丝长腿美女俏皮麻花辫眨眼卖萌抿嘴甜笑吃西瓜图片.jpg\n",
      "C:\\Users\\Administrator\\Pictures\\pic\\白丝长腿美女白色背心外披开衫小露香肩露齿甜笑图片.jpg\n",
      "C:\\Users\\Administrator\\Pictures\\pic\\白嫩小脚丫美女连衣裙微露香肩锁骨图片.jpg\n",
      "C:\\Users\\Administrator\\Pictures\\pic\\白嫩瓜子脸美女迷人电眼樱桃小嘴图片.jpg\n",
      "C:\\Users\\Administrator\\Pictures\\pic\\白嫩美女休闲运动服高挑身材白色丝袜长腿诱惑图片.jpg\n",
      "C:\\Users\\Administrator\\Pictures\\pic\\白嫩美女唇红齿白诱人白丝长腿私房图片.jpg\n",
      "C:\\Users\\Administrator\\Pictures\\pic\\白嫩美女性感吊带短裤香肩美腿诱惑图片.jpg\n",
      "C:\\Users\\Administrator\\Pictures\\pic\\白嫩长腿美女深v吊带大秀事业线图片.jpg\n",
      "C:\\Users\\Administrator\\Pictures\\pic\\白嫩鹅蛋脸美女尤物光滑牛奶肌细长美腿床上诱惑图片.jpg\n",
      "C:\\Users\\Administrator\\Pictures\\pic\\白毛衣美女抹胸吊带私房大秀性感美腿图片.jpg\n",
      "C:\\Users\\Administrator\\Pictures\\pic\\白皙干净御姐嫣然一笑媚眼勾人私房图片.jpg\n",
      "C:\\Users\\Administrator\\Pictures\\pic\\白色运动服美女长相清纯可爱学生头无辜大眼网球场图片.jpg\n",
      "C:\\Users\\Administrator\\Pictures\\pic\\白色针织吊带衫美女短裤露修长筷子腿床上舒展手脚图片.jpg\n",
      "C:\\Users\\Administrator\\Pictures\\pic\\白衬衣美女单眼皮小眼睛脸部骨骼线条硬朗曲腿盘坐图片.jpg\n",
      "C:\\Users\\Administrator\\Pictures\\pic\\白裙清纯美女阳光沙滩美腿白嫩如霜图片.jpg\n",
      "C:\\Users\\Administrator\\Pictures\\pic\\眼镜妹美女粉嫩脸蛋白丝长腿诱惑图片.jpg\n",
      "C:\\Users\\Administrator\\Pictures\\pic\\睡衣美女光滑牛奶肌姿态撩人居家图片.jpg\n",
      "C:\\Users\\Administrator\\Pictures\\pic\\睡衣美女吊带超短裤诱人香肩美腿图片.jpg\n",
      "C:\\Users\\Administrator\\Pictures\\pic\\睫毛弯弯美女脸蛋白里透红蓬蓬裙露娇嫩牛奶肌图片.jpg\n",
      "C:\\Users\\Administrator\\Pictures\\pic\\知性大方美女无袖连衣裙笑眼盈盈气质温柔躺沙发看书图片.jpg\n",
      "C:\\Users\\Administrator\\Pictures\\pic\\知性美女身材高挑胸大屁股翘街拍图片.jpg\n",
      "C:\\Users\\Administrator\\Pictures\\pic\\短发美女吊带碎花裙香肩美腿书房图片.jpg\n",
      "C:\\Users\\Administrator\\Pictures\\pic\\短发美女碎花吊带裙浴室湿身露纤细藕臂白嫩双腿图片.jpg\n",
      "C:\\Users\\Administrator\\Pictures\\pic\\短发美女超短裤细长美腿搞怪卖萌图片.jpg\n",
      "C:\\Users\\Administrator\\Pictures\\pic\\碎花裙美女脸蛋白里透红精致锁骨图片.jpg\n",
      "C:\\Users\\Administrator\\Pictures\\pic\\碎花连衣裙美女漂亮脸蛋微卷秀发图片.jpg\n",
      "C:\\Users\\Administrator\\Pictures\\pic\\空气刘海美女精致侧颜唇红齿白居家图片.jpg\n",
      "C:\\Users\\Administrator\\Pictures\\pic\\童颜巨乳大眼美女小尤奈性感肥臀后进式人体艺术图片.jpg\n",
      "C:\\Users\\Administrator\\Pictures\\pic\\童颜美女棕色长发水手制服满脸胶原蛋白白丝美腿图片.jpg\n",
      "C:\\Users\\Administrator\\Pictures\\pic\\童颜美少女吊带内衣香肩美腿性感写真图片.jpg\n",
      "C:\\Users\\Administrator\\Pictures\\pic\\笑眼弯弯马尾辫美女红润脸蛋白T热裤修长美腿操场图片.jpg\n",
      "C:\\Users\\Administrator\\Pictures\\pic\\粉嫩美女吊带短裤白皙香肩美腿诱惑图片.jpg\n",
      "C:\\Users\\Administrator\\Pictures\\pic\\粉扑扑脸蛋日系美女大眼睛小嘴巴校园制服配贝雷帽图片.jpg\n",
      "C:\\Users\\Administrator\\Pictures\\pic\\粉红内衣美女施忆佳性感小内内私房翘臀撩人写真图片.jpg\n",
      "C:\\Users\\Administrator\\Pictures\\pic\\精致瓜子脸美女半露香肩修长美腿图片.jpg\n",
      "C:\\Users\\Administrator\\Pictures\\pic\\精选天姿国色气质美女深沟酥胸长腿养眼图片.jpg\n",
      "C:\\Users\\Administrator\\Pictures\\pic\\素颜美女牛仔热裤秀白嫩美腿私房图片.jpg\n",
      "C:\\Users\\Administrator\\Pictures\\pic\\素颜美女精致小v脸修长美腿性感图片.jpg\n",
      "C:\\Users\\Administrator\\Pictures\\pic\\紧身牛仔裤美女红唇雪肤白衬衣领口微开露诱人美乳图片.jpg\n",
      "C:\\Users\\Administrator\\Pictures\\pic\\紧身美女胸大屁股翘黑丝美腿诱惑图片.jpg\n",
      "C:\\Users\\Administrator\\Pictures\\pic\\红唇美女姜迪白色毛衣裙露修长美腿图片.jpg\n",
      "C:\\Users\\Administrator\\Pictures\\pic\\红唇美女少妇细胳膊小蛮腰光滑牛奶肌床上撩人姿势图片.jpg\n",
      "C:\\Users\\Administrator\\Pictures\\pic\\红唇美女琪琪魅惑眼神撩人姿势诱惑图片.jpg\n",
      "C:\\Users\\Administrator\\Pictures\\pic\\红唇美女蕾丝透视裙露傲人事业线图片.jpg\n",
      "C:\\Users\\Administrator\\Pictures\\pic\\红唇雪肤美女精致瓜子脸户外野餐图片.jpg\n",
      "C:\\Users\\Administrator\\Pictures\\pic\\绝世容颜美女牛仔背带裤气质优雅迷人写真图片.jpg\n",
      "C:\\Users\\Administrator\\Pictures\\pic\\绿色纱裙美女小露锁骨齐肩短发红唇微张眼神迷离图片.jpg\n",
      "C:\\Users\\Administrator\\Pictures\\pic\\美女尤物慵懒卷发精致侧颜露齿甜笑图片.jpg\n",
      "C:\\Users\\Administrator\\Pictures\\pic\\美女尤物长发披肩唇红齿白大胆床照图片.jpg\n",
      "C:\\Users\\Administrator\\Pictures\\pic\\美女御姐少妇低胸连衣裙深沟性感诱惑图片.jpg\n",
      "C:\\Users\\Administrator\\Pictures\\pic\\美女模特美希子红色高跟美腿私房性感丁字裤诱惑图片.jpg\n",
      "C:\\Users\\Administrator\\Pictures\\pic\\美女萝莉夏美酱公主裙高贵典雅迷人写真图片.jpg\n",
      "C:\\Users\\Administrator\\Pictures\\pic\\背带牛仔裤美女白皙肌肤气质清纯图片.jpg\n",
      "C:\\Users\\Administrator\\Pictures\\pic\\脸上贴花短发萌妹子纯白吊带裙皮肤白里透红图片.jpg\n",
      "C:\\Users\\Administrator\\Pictures\\pic\\腻里靡颜高鼻梁美女不施粉黛纯素颜清新气质写真.jpg\n",
      "C:\\Users\\Administrator\\Pictures\\pic\\芭蕾舞美女粉色蓬蓬裙脸蛋白里透红图片.jpg\n",
      "C:\\Users\\Administrator\\Pictures\\pic\\芭蕾舞美女高扎丸子头白丝长腿大秀美背脸蛋红润图片.jpg\n",
      "C:\\Users\\Administrator\\Pictures\\pic\\芭蕾舞美女高扎丸子头脸蛋白里透红修长美腿图片.jpg\n",
      "C:\\Users\\Administrator\\Pictures\\pic\\芭蕾舞美女高扎麻花辫大秀裸背白丝长腿光滑肌肤图片.jpg\n",
      "C:\\Users\\Administrator\\Pictures\\pic\\芭蕾舞美少女光滑美背细长筷子腿图片.jpg\n",
      "C:\\Users\\Administrator\\Pictures\\pic\\萝莉美女可爱双马尾满脸胶原蛋白露齿甜笑图片.jpg\n",
      "C:\\Users\\Administrator\\Pictures\\pic\\萝莉美女吊带裙细胳膊小腿嘟嘴卖萌图片.jpg\n",
      "C:\\Users\\Administrator\\Pictures\\pic\\蓬松直刘海美女黑溜溜瞳孔樱桃小红唇满脸胶原蛋白图片.jpg\n",
      "C:\\Users\\Administrator\\Pictures\\pic\\蓬松黄头发氧气美女圆润鹅蛋脸双手托下巴享受美食图片.jpg\n",
      "C:\\Users\\Administrator\\Pictures\\pic\\蓬松黄头发美女吊带裙半裸美背小露香肩秀精致睡颜图片.jpg\n",
      "C:\\Users\\Administrator\\Pictures\\pic\\蕾丝白裙美女披肩长发精致小v脸目光温柔唯美花丛图片.jpg\n",
      "C:\\Users\\Administrator\\Pictures\\pic\\薄嘴唇杏仁眼氧气美女柔顺直发零瑕疵毛孔皮肤细腻图片.jpg\n",
      "C:\\Users\\Administrator\\Pictures\\pic\\蛋卷头性感美女吊带短裙套装大秀光滑牛奶肌浴缸图片.jpg\n",
      "C:\\Users\\Administrator\\Pictures\\pic\\裸肩连衣裙美女黑长直发精致侧颜图片.jpg\n",
      "C:\\Users\\Administrator\\Pictures\\pic\\裹胸萌妹子白嫩皮肤诱人白丝长腿图片.jpg\n",
      "C:\\Users\\Administrator\\Pictures\\pic\\诱人娇嫩美女白皙酥胸香肩性感私房走光福利写真图片.jpg\n",
      "C:\\Users\\Administrator\\Pictures\\pic\\运动服美女学生诱人白丝长腿教室图片.jpg\n",
      "C:\\Users\\Administrator\\Pictures\\pic\\运动服美女纤细身材白丝长腿诱惑图片.jpg\n",
      "C:\\Users\\Administrator\\Pictures\\pic\\运动服美女高束马尾修长美腿户外图片.jpg\n",
      "C:\\Users\\Administrator\\Pictures\\pic\\运动服美女高束马尾诱人白丝长腿图片.jpg\n",
      "C:\\Users\\Administrator\\Pictures\\pic\\运动美女高挑身材背心紧身裤大秀水蛇腰大长腿图片.jpg\n",
      "C:\\Users\\Administrator\\Pictures\\pic\\连衣裙美女光滑牛奶肌居家搞怪卖萌图片.jpg\n",
      "C:\\Users\\Administrator\\Pictures\\pic\\邻家女孩迷人电眼白嫩娃娃脸露齿甜笑图片.jpg\n",
      "C:\\Users\\Administrator\\Pictures\\pic\\酥胸美女模特白皙酮体性感内衣写真.jpg\n",
      "C:\\Users\\Administrator\\Pictures\\pic\\酥胸诱惑熟女少妇情趣内衣搔首弄姿图片.jpg\n",
      "C:\\Users\\Administrator\\Pictures\\pic\\针织吊带衫身形修长美女大眼迷离气质忧郁躺姿慵懒图片.jpg\n",
      "C:\\Users\\Administrator\\Pictures\\pic\\镂空透视装美女香唇卷发漂亮脸蛋百褶裙露细长美腿图片.jpg\n",
      "C:\\Users\\Administrator\\Pictures\\pic\\长发清纯素人美女阳光小清新户外写真图片.jpg\n",
      "C:\\Users\\Administrator\\Pictures\\pic\\长发美女吊带睡裙半裸香肩白嫩美腿图片.jpg\n",
      "C:\\Users\\Administrator\\Pictures\\pic\\长发美女吊带睡裙白皙肌肤甜美笑容床上大胆图片.jpg\n",
      "C:\\Users\\Administrator\\Pictures\\pic\\长发美女唇红齿白超短裤长腿诱惑图片.jpg\n",
      "C:\\Users\\Administrator\\Pictures\\pic\\长发美女圣诞节美腿福利秀雅绝俗写真图片.jpg\n",
      "C:\\Users\\Administrator\\Pictures\\pic\\长发美女学生妹白丝长腿制服诱惑图片.jpg\n",
      "C:\\Users\\Administrator\\Pictures\\pic\\长发美女笑容甜美气质清纯游乐场图片.jpg\n",
      "C:\\Users\\Administrator\\Pictures\\pic\\长发美女精致小v脸吊带裙性感香肩图片.jpg\n",
      "C:\\Users\\Administrator\\Pictures\\pic\\长发雪绒帽美女粉嫩脸蛋居家气质养眼写真图片.jpg\n",
      "C:\\Users\\Administrator\\Pictures\\pic\\长腿美女吊带短裙酥胸诱惑大胆床照图片.jpg\n",
      "C:\\Users\\Administrator\\Pictures\\pic\\长腿美女王睿清凉蕾丝内衣性感红唇挑逗写真图片.jpg\n",
      "C:\\Users\\Administrator\\Pictures\\pic\\阳光下美女粉嘟嘟脸蛋可爱学生头图片.jpg\n",
      "C:\\Users\\Administrator\\Pictures\\pic\\阳光下美女诱人白丝长腿粉嘟嘟脸蛋图片.jpg\n",
      "C:\\Users\\Administrator\\Pictures\\pic\\阳光下美少女俏皮麻花辫露齿甜笑图片.jpg\n",
      "C:\\Users\\Administrator\\Pictures\\pic\\阳光娇俏时尚美女个性不羁街头户外摄影图片.jpg\n",
      "C:\\Users\\Administrator\\Pictures\\pic\\阳光白衬衫美女凌乱秀发性感撩人写真图片.jpg\n",
      "C:\\Users\\Administrator\\Pictures\\pic\\雀斑妆美女粉嫩圆脸蕾丝裙白皙肌肤图片.jpg\n",
      "C:\\Users\\Administrator\\Pictures\\pic\\非主流发型美女吊带镂空裙零瑕疵肌肤白到发光搞怪图片.jpg\n",
      "C:\\Users\\Administrator\\Pictures\\pic\\韩式短发美女粉嘟嘟包子脸娇艳红唇四肢纤细图片.jpg\n",
      "C:\\Users\\Administrator\\Pictures\\pic\\韩式短发美女粉扑扑脸蛋露齿甜笑图片.jpg\n",
      "C:\\Users\\Administrator\\Pictures\\pic\\韩式短发美女精致小v脸吊带衫超短裤大秀香肩美腿图片.jpg\n",
      "C:\\Users\\Administrator\\Pictures\\pic\\顶级风骚少妇雪白双乳丰臀粉嫩性感诱人写真图片.jpg\n",
      "C:\\Users\\Administrator\\Pictures\\pic\\马尾美女校花运动服白丝长腿教室图片.jpg\n",
      "C:\\Users\\Administrator\\Pictures\\pic\\马尾辫美女吊带碎花裙露香肩美腿图片.jpg\n",
      "C:\\Users\\Administrator\\Pictures\\pic\\马尾辫美女校花黑袜美腿制服诱惑图片.jpg\n",
      "C:\\Users\\Administrator\\Pictures\\pic\\马尾辫美女白皙美腿唇红齿白私房图片.jpg\n",
      "C:\\Users\\Administrator\\Pictures\\pic\\高挑美女高腰裤搭牛仔外套时尚街拍图片.jpg\n",
      "C:\\Users\\Administrator\\Pictures\\pic\\高级脸美女黑色吊带衫秀藕臂玉颈英气五官气质优雅图片.jpg\n",
      "C:\\Users\\Administrator\\Pictures\\pic\\高跟鞋美女身材高挑气质优雅街拍图片.jpg\n",
      "C:\\Users\\Administrator\\Pictures\\pic\\高颜值美女水手制服白丝美腿诱惑图片.jpg\n",
      "C:\\Users\\Administrator\\Pictures\\pic\\魅妍社美女模特雪千紫白皙皮肤热辣身材血滴子诱惑写真图片.jpg\n",
      "C:\\Users\\Administrator\\Pictures\\pic\\麻花辫制服美女校花白丝美腿诱惑图片.jpg\n",
      "C:\\Users\\Administrator\\Pictures\\pic\\麻花辫美女吊带短裤白丝长腿诱惑图片.jpg\n",
      "C:\\Users\\Administrator\\Pictures\\pic\\麻花辫美女性感吊带睡衣白皙美肌图片.jpg\n",
      "C:\\Users\\Administrator\\Pictures\\pic\\麻花辫美女粉色公主裙脸蛋白里透红图片.jpg\n",
      "C:\\Users\\Administrator\\Pictures\\pic\\黑色卷发美女笑容甜美无袖毛衣配短裤尽显苗条身材图片.jpg\n",
      "C:\\Users\\Administrator\\Pictures\\pic\\黑袜美腿美女吊带短裤白嫩牛奶肌图片.jpg\n",
      "C:\\Users\\Administrator\\Pictures\\pic\\黑长直发制服美女学生黑丝长腿白嫩脸蛋抿嘴甜笑图片.jpg\n",
      "C:\\Users\\Administrator\\Pictures\\pic\\黑长直发美女性感内衣酥胸下衣失踪露诱人美腿撸猫图片.jpg\n",
      "C:\\Users\\Administrator\\Pictures\\pic\\黑长直发美女白色短裤撩人白丝美腿画室搞怪卖萌图片.jpg\n",
      "C:\\Users\\Administrator\\Pictures\\pic\\齐耳短发美女无辜大眼精致鹅蛋脸图片.jpg\n",
      "C:\\Users\\Administrator\\Pictures\\pic\\齐肩短发美女标致鹅蛋脸白瓷肌肤吹弹可破歪头大笑图片.jpg\n",
      "C:\\Users\\Administrator\\Pictures\\QQ浏览器截图\\QQ浏览器截图20190319230917.png\n",
      "C:\\Users\\Administrator\\Pictures\\QQ浏览器截图\\QQ浏览器截图20190321000419.png\n",
      "C:\\Users\\Administrator\\Pictures\\QQ浏览器截图\\QQ浏览器截图20190321154539.png\n",
      "C:\\Users\\Administrator\\Pictures\\QQ浏览器截图\\QQ浏览器截图20190321154639.png\n",
      "C:\\Users\\Administrator\\Pictures\\QQ浏览器截图\\QQ浏览器截图20190321163133.png\n",
      "C:\\Users\\Administrator\\Pictures\\QQ浏览器截图\\QQ浏览器截图20190330173512.png\n",
      "C:\\Users\\Administrator\\Pictures\\QQ浏览器截图\\QQ浏览器截图20190330215228.png\n",
      "C:\\Users\\Administrator\\Pictures\\QQ浏览器截图\\QQ浏览器截图20190331130020.png\n",
      "C:\\Users\\Administrator\\Pictures\\QQ浏览器截图\\QQ浏览器截图20190331230724.png\n",
      "C:\\Users\\Administrator\\Pictures\\QQ浏览器截图\\QQ浏览器截图20190403190312.png\n",
      "C:\\Users\\Administrator\\Pictures\\QQ浏览器截图\\QQ浏览器截图20190403200535.png\n",
      "C:\\Users\\Administrator\\Pictures\\QQ浏览器截图\\QQ浏览器截图20190403200923.png\n",
      "C:\\Users\\Administrator\\Pictures\\QQ浏览器截图\\QQ浏览器截图20190403200945.png\n",
      "C:\\Users\\Administrator\\Pictures\\QQ浏览器截图\\QQ浏览器截图20190407210520.png\n",
      "C:\\Users\\Administrator\\Pictures\\QQ浏览器截图\\QQ浏览器截图20190411205615.png\n",
      "C:\\Users\\Administrator\\Pictures\\QQ浏览器截图\\QQ浏览器截图20190414094515.png\n",
      "C:\\Users\\Administrator\\Pictures\\QQ浏览器截图\\QQ浏览器截图20190416221258.png\n",
      "C:\\Users\\Administrator\\Pictures\\QQ浏览器截图\\QQ浏览器截图20190420170708.png\n",
      "C:\\Users\\Administrator\\Pictures\\QQ浏览器截图\\QQ浏览器截图20190420170826.png\n",
      "C:\\Users\\Administrator\\Pictures\\QQ浏览器截图\\QQ浏览器截图20190420170834.png\n",
      "C:\\Users\\Administrator\\Pictures\\QQ浏览器截图\\QQ浏览器截图20190421130711.png\n",
      "C:\\Users\\Administrator\\Pictures\\QQ浏览器截图\\QQ浏览器截图20190428224357.png\n",
      "C:\\Users\\Administrator\\Pictures\\QQ浏览器截图\\QQ浏览器截图20190502102526.png\n",
      "C:\\Users\\Administrator\\Pictures\\QQ浏览器截图\\QQ浏览器截图20190504153342.png\n",
      "C:\\Users\\Administrator\\Pictures\\QQ浏览器截图\\QQ浏览器截图20190509094400.png\n",
      "C:\\Users\\Administrator\\Pictures\\QQ浏览器截图\\QQ浏览器截图20190509095342.png\n",
      "C:\\Users\\Administrator\\Pictures\\QQ浏览器截图\\QQ浏览器截图20190511170346.png\n",
      "C:\\Users\\Administrator\\Pictures\\QQ浏览器截图\\QQ浏览器截图20190511172448.png\n",
      "C:\\Users\\Administrator\\Pictures\\QQ浏览器截图\\QQ浏览器截图20190512160342.png\n",
      "C:\\Users\\Administrator\\Pictures\\QQ浏览器截图\\QQ浏览器截图20190518163140.png\n",
      "C:\\Users\\Administrator\\Pictures\\QQ浏览器截图\\QQ浏览器截图20190518205751.png\n",
      "C:\\Users\\Administrator\\Pictures\\QQ浏览器截图\\QQ浏览器截图20190518214221.png\n",
      "C:\\Users\\Administrator\\Pictures\\QQ浏览器截图\\QQ浏览器截图_20190124105813_698F662BA7894d4d8A8AD74D36ED5311.jpg\n",
      "C:\\Users\\Administrator\\Pictures\\QQ浏览器截图\\QQ浏览器截图_20190124172438_40DCAD5AD4A546738CD51E2C26E9FA86.jpg\n",
      "C:\\Users\\Administrator\\Pictures\\QQ浏览器截图\\QQ浏览器截图_20190124204110_D2AF5196BB48417c864D3A56E7C9FE16.jpg\n",
      "C:\\Users\\Administrator\\Pictures\\QQ浏览器截图\\QQ浏览器截图_20190124212321_9901A0847130447d840541EA0E6A1D56.jpg\n",
      "C:\\Users\\Administrator\\Pictures\\QQ浏览器截图\\QQ浏览器截图_20190126232203_1F4BDBB62D304b6c8197E92FCD72061D.jpg\n",
      "C:\\Users\\Administrator\\Pictures\\QQ浏览器截图\\QQ浏览器截图_20190127220703_3EE026D2BF2B4749A13F3A07A62D9278.jpg\n",
      "C:\\Users\\Administrator\\Pictures\\QQ浏览器截图\\QQ浏览器截图_20190127224517_C732A36C8AA240838F6B26C0363D4FEC.jpg\n",
      "C:\\Users\\Administrator\\Pictures\\QQ浏览器截图\\QQ浏览器截图_20190127231759_4EAE34E451C24d7fB795B9044262F44D.jpg\n",
      "C:\\Users\\Administrator\\Pictures\\QQ浏览器截图\\QQ浏览器截图_20190131160934_D82E026AF1C9460aA1BC2392257246E7.jpg\n",
      "C:\\Users\\Administrator\\Pictures\\QQ浏览器截图\\QQ浏览器截图_20190131161605_CB7FC7C9B00344a190263D0D23C15E1B.jpg\n",
      "C:\\Users\\Administrator\\Pictures\\QQ浏览器截图\\QQ浏览器截图_20190201171742_EA96A009FEE44a54B0768AE54CFDED09.jpg\n",
      "C:\\Users\\Administrator\\Pictures\\QQ浏览器截图\\QQ浏览器截图_20190219123815_488DC0E70A624b5399C179A0A5D15002.jpg\n",
      "C:\\Users\\Administrator\\Pictures\\QQ浏览器截图\\QQ浏览器截图_20190219184113_CF601BC1B94F448dB02457A524B05C0F.jpg\n",
      "C:\\Users\\Administrator\\Pictures\\QQ浏览器截图\\QQ浏览器截图_20190220214003_E5E6A0962B7A45448B786D43AD3C3E3A.jpg\n",
      "C:\\Users\\Administrator\\Pictures\\QQ浏览器截图\\QQ浏览器截图_20190224214251_341AE586114F462dA4E90AD4A6D6C09D.jpg\n",
      "C:\\Users\\Administrator\\Pictures\\QQ浏览器截图\\QQ浏览器截图_20190226202642_1D3AA9B1807D4a0b9491B8680AD4B88F.jpg\n",
      "C:\\Users\\Administrator\\Pictures\\QQ浏览器截图\\QQ浏览器截图_20190303210746_67C7B2BA64094cb09B7F1735A736E4FD.jpg\n",
      "C:\\Users\\Administrator\\Pictures\\QQ浏览器截图\\QQ浏览器截图_20190309213204_845448D98DAA4d10B2F7C86F7F0DFFD7.jpg\n",
      "C:\\Users\\Administrator\\Pictures\\QQ浏览器截图\\QQ浏览器截图_20190310211753_5617DADBDC174b54A57E8FCF3C315B8F.jpg\n",
      "C:\\Users\\Administrator\\Pictures\\QQ浏览器截图\\QQ浏览器截图_20190311232048_1B58DBA743B6409981C2E731E1AFEF55.jpg\n",
      "C:\\Users\\Administrator\\Pictures\\QQ浏览器截图\\QQ浏览器截图_20190311232245_4C5CB55CB6FF4cba9F61BFC5D44538D9.jpg\n",
      "C:\\Users\\Administrator\\Pictures\\QQ浏览器截图\\QQ浏览器截图_20190312201037_DD8FB44462284cd19D69D4E4DAA31BC9.jpg\n",
      "C:\\Users\\Administrator\\Pictures\\QQ浏览器截图\\QQ浏览器截图_20190312201754_061A149150FD4f3fAF8C8D4BFF320F98.jpg\n",
      "C:\\Users\\Administrator\\Pictures\\QQ浏览器截图\\QQ浏览器截图_20190312202317_098B10809E4D437a82B30E6B07289BEA.jpg\n",
      "C:\\Users\\Administrator\\Pictures\\QQ浏览器截图\\QQ浏览器截图_20190312203024_F08E1CA3C12D48d393695461BA32C771.jpg\n",
      "C:\\Users\\Administrator\\Pictures\\QQ浏览器截图\\QQ浏览器截图_20190312203058_AC37351A94594b84BCE80512C60308FF.jpg\n",
      "C:\\Users\\Administrator\\Pictures\\QQ浏览器截图\\QQ浏览器截图_20190312203218_6FCD554454384bcb876C1B38E7E3B2AB.jpg\n",
      "C:\\Users\\Administrator\\Pictures\\QQ浏览器截图\\QQ浏览器截图_20190312203736_0E3E3601BAB54a66A4C9E83E01A2BD5B.jpg\n",
      "C:\\Users\\Administrator\\Pictures\\QQ浏览器截图\\QQ浏览器截图_20190312204646_7ACFCBCFD100427993833593179896BB.jpg\n",
      "C:\\Users\\Administrator\\Pictures\\QQ浏览器截图\\QQ浏览器截图_20190312204937_549792EA69A74b3d9FA823172C88B242.jpg\n",
      "C:\\Users\\Administrator\\Pictures\\QQ浏览器截图\\QQ浏览器截图_20190312205234_A902E47154FF48da9BB79A0E9B83322D.jpg\n",
      "C:\\Users\\Administrator\\Pictures\\QQ浏览器截图\\QQ浏览器截图_20190317101419_8A14C369D6C64ee995D338E636A37387.jpg\n",
      "C:\\Users\\Administrator\\Pictures\\QQ浏览器截图\\QQ浏览器截图_20190317101432_7FFC102CC96A41f4A2C65A6B1AF86B0E.jpg\n",
      "C:\\Users\\Administrator\\Pictures\\QQ浏览器截图\\QQ浏览器截图_20190317202142_01F58B016FB747e5B6A6066A4FC3A5B4.jpg\n",
      "C:\\Users\\Administrator\\Pictures\\QQ浏览器截图\\QQ浏览器截图_20190317221519_F3DBBD1504BB46199391E71FF1A16909.jpg\n",
      "C:\\Users\\Administrator\\Pictures\\Saved Pictures\\desktop.ini\n",
      "C:\\Users\\Administrator\\Pictures\\shit.png\n",
      "C:\\Users\\Administrator\\Pictures\\损失曲线.png\n",
      "C:\\Users\\Administrator\\Pictures\\精度曲线.png\n",
      "C:\\Users\\Administrator\\Pictures\\证件照.png\n"
     ]
    }
   ],
   "source": [
    "load=r'C:\\Users\\Administrator\\Pictures'\n",
    "get_file_load(load)"
   ]
  },
  {
   "cell_type": "markdown",
   "metadata": {},
   "source": [
    "可以通过os.listdir获取文件夹下所有文件名或文件夹名，然后通过os.path.join将名字和根目录连在一起  \n",
    "判断连在一起的路径是不是一个文件，如果是的，那么就直接打印处路径，如果不是，说明是一个文件夹，需要递归进入到文件夹内部"
   ]
  },
  {
   "cell_type": "markdown",
   "metadata": {},
   "source": [
    "## 异常处理"
   ]
  },
  {
   "cell_type": "code",
   "execution_count": 78,
   "metadata": {},
   "outputs": [
    {
     "ename": "NameError",
     "evalue": "name 'fuck' is not defined",
     "output_type": "error",
     "traceback": [
      "\u001b[1;31m---------------------------------------------------------------------------\u001b[0m",
      "\u001b[1;31mNameError\u001b[0m                                 Traceback (most recent call last)",
      "\u001b[1;32m<ipython-input-78-810a5bdaafc6>\u001b[0m in \u001b[0;36m<module>\u001b[1;34m()\u001b[0m\n\u001b[1;32m----> 1\u001b[1;33m \u001b[0mfuck\u001b[0m\u001b[1;33m\u001b[0m\u001b[0m\n\u001b[0m",
      "\u001b[1;31mNameError\u001b[0m: name 'fuck' is not defined"
     ]
    }
   ],
   "source": [
    "fuck"
   ]
  },
  {
   "cell_type": "code",
   "execution_count": 76,
   "metadata": {},
   "outputs": [
    {
     "name": "stdout",
     "output_type": "stream",
     "text": [
      "name 'fuck' is not defined\n"
     ]
    }
   ],
   "source": [
    "try:\n",
    "    fuck\n",
    "except NameError as e:\n",
    "    print(e)"
   ]
  },
  {
   "cell_type": "code",
   "execution_count": 79,
   "metadata": {},
   "outputs": [
    {
     "name": "stdout",
     "output_type": "stream",
     "text": [
      "发生错误\n"
     ]
    }
   ],
   "source": [
    "try:\n",
    "    print(fuck)\n",
    "except:\n",
    "    print(\"发生错误\")"
   ]
  },
  {
   "cell_type": "code",
   "execution_count": 85,
   "metadata": {},
   "outputs": [
    {
     "name": "stdout",
     "output_type": "stream",
     "text": [
      "name 'fuck' is not defined\n"
     ]
    }
   ],
   "source": [
    "try:\n",
    "    print(fuck)\n",
    "except Exception as e:\n",
    "    print(e)"
   ]
  },
  {
   "cell_type": "code",
   "execution_count": 91,
   "metadata": {},
   "outputs": [
    {
     "name": "stdout",
     "output_type": "stream",
     "text": [
      "名字错误\n"
     ]
    }
   ],
   "source": [
    "#主动报错\n",
    "try:\n",
    "    raise NameError(\"名字错误\")\n",
    "except Exception as e:\n",
    "    print(e)"
   ]
  },
  {
   "cell_type": "code",
   "execution_count": 94,
   "metadata": {
    "collapsed": true
   },
   "outputs": [],
   "source": [
    "class EvaException(BaseException):\n",
    "    def __init__(self,msg):\n",
    "        self.msg= msg\n",
    "    def __str__(self):\n",
    "        return self.msg"
   ]
  },
  {
   "cell_type": "code",
   "execution_count": 96,
   "metadata": {},
   "outputs": [
    {
     "name": "stdout",
     "output_type": "stream",
     "text": [
      "类型错误\n"
     ]
    }
   ],
   "source": [
    "try:\n",
    "    raise EvaException(\"类型错误\")\n",
    "except EvaException as e:\n",
    "    print(e)"
   ]
  },
  {
   "cell_type": "code",
   "execution_count": 104,
   "metadata": {
    "collapsed": true
   },
   "outputs": [],
   "source": [
    "a=1\n",
    "b=a"
   ]
  },
  {
   "cell_type": "code",
   "execution_count": null,
   "metadata": {
    "collapsed": true
   },
   "outputs": [],
   "source": []
  }
 ],
 "metadata": {
  "kernelspec": {
   "display_name": "Python 3",
   "language": "python",
   "name": "python3"
  },
  "language_info": {
   "codemirror_mode": {
    "name": "ipython",
    "version": 3
   },
   "file_extension": ".py",
   "mimetype": "text/x-python",
   "name": "python",
   "nbconvert_exporter": "python",
   "pygments_lexer": "ipython3",
   "version": "3.6.1"
  }
 },
 "nbformat": 4,
 "nbformat_minor": 2
}
