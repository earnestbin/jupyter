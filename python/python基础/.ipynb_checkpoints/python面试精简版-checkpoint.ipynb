{
 "cells": [
  {
   "cell_type": "markdown",
   "metadata": {},
   "source": [
    "## 快速读取大文件"
   ]
  },
  {
   "cell_type": "code",
   "execution_count": 2,
   "metadata": {},
   "outputs": [
    {
     "name": "stdout",
     "output_type": "stream",
     "text": [
      "耗时： 17.83728915914736\n"
     ]
    }
   ],
   "source": [
    "#python读取1.5G的大文件\n",
    "import time\n",
    "file_= r\"D:\\数据库\\nlp\\大文件\\all.filter\"\n",
    "start= time.clock()\n",
    "res= []\n",
    "with open(file_,'r',encoding='ISO-8859-1') as f:\n",
    "    for line in f:\n",
    "        res.append(line)\n",
    "end= time.clock()\n",
    "print(\"耗时：\",end-start)"
   ]
  },
  {
   "cell_type": "code",
   "execution_count": 8,
   "metadata": {},
   "outputs": [
    {
     "name": "stdout",
     "output_type": "stream",
     "text": [
      "耗时： 8.718988128009755\n"
     ]
    }
   ],
   "source": [
    "#方法二,yield\n",
    "start= time.clock()\n",
    "def fun(file,size=4096):\n",
    "    while True:\n",
    "        data= file.read(size)\n",
    "        if not data:\n",
    "            break\n",
    "        yield data\n",
    "res= []\n",
    "f= open(file_,'r',encoding='ISO-8859-1')\n",
    "for item in fun(f):\n",
    "    res.append(item)\n",
    "f.close()\n",
    "end= time.clock()\n",
    "print(\"耗时：\",end-start)"
   ]
  },
  {
   "cell_type": "markdown",
   "metadata": {},
   "source": [
    "## 异常处理"
   ]
  },
  {
   "cell_type": "code",
   "execution_count": 11,
   "metadata": {},
   "outputs": [
    {
     "name": "stdout",
     "output_type": "stream",
     "text": [
      "发生了错误\n"
     ]
    }
   ],
   "source": [
    "# try-except机制\n",
    "try:\n",
    "    something\n",
    "except:\n",
    "    print(\"发生了错误\")"
   ]
  },
  {
   "cell_type": "code",
   "execution_count": 12,
   "metadata": {},
   "outputs": [
    {
     "name": "stdout",
     "output_type": "stream",
     "text": [
      "name 'something' is not defined\n"
     ]
    }
   ],
   "source": [
    "# 知道会发生什么错误\n",
    "try:\n",
    "    something\n",
    "except NameError as e:\n",
    "    print(e)"
   ]
  },
  {
   "cell_type": "code",
   "execution_count": 13,
   "metadata": {},
   "outputs": [
    {
     "name": "stdout",
     "output_type": "stream",
     "text": [
      "未定义\n"
     ]
    }
   ],
   "source": [
    "#主动抛出异常\n",
    "try:\n",
    "    raise NameError(\"未定义\")\n",
    "except Exception as e:\n",
    "    print(e)"
   ]
  },
  {
   "cell_type": "code",
   "execution_count": 16,
   "metadata": {},
   "outputs": [
    {
     "name": "stdout",
     "output_type": "stream",
     "text": [
      "我的错误\n"
     ]
    }
   ],
   "source": [
    "#自定义异常\n",
    "class MyError(BaseException):\n",
    "    def __init__(self,info):\n",
    "        self.info= info\n",
    "    def __str__(self):\n",
    "        return self.info\n",
    "try:\n",
    "    raise MyError(\"我的错误\")\n",
    "except MyError as e:\n",
    "    print(e)"
   ]
  },
  {
   "cell_type": "code",
   "execution_count": null,
   "metadata": {
    "collapsed": true
   },
   "outputs": [],
   "source": []
  }
 ],
 "metadata": {
  "kernelspec": {
   "display_name": "Python 3",
   "language": "python",
   "name": "python3"
  },
  "language_info": {
   "codemirror_mode": {
    "name": "ipython",
    "version": 3
   },
   "file_extension": ".py",
   "mimetype": "text/x-python",
   "name": "python",
   "nbconvert_exporter": "python",
   "pygments_lexer": "ipython3",
   "version": "3.6.1"
  },
  "toc": {
   "base_numbering": 1,
   "nav_menu": {},
   "number_sections": true,
   "sideBar": true,
   "skip_h1_title": false,
   "title_cell": "Table of Contents",
   "title_sidebar": "Contents",
   "toc_cell": false,
   "toc_position": {},
   "toc_section_display": true,
   "toc_window_display": false
  }
 },
 "nbformat": 4,
 "nbformat_minor": 2
}
